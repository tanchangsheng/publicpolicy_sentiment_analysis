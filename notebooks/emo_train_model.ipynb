{
 "cells": [
  {
   "cell_type": "code",
   "execution_count": 2,
   "metadata": {
    "collapsed": true
   },
   "outputs": [],
   "source": [
    "import os\n",
    "import sys\n",
    "\n",
    "# add the 'src' directory as one where we can import modules\n",
    "# os.pardir refers to parent directory. \n",
    "# src_dir = os.path.join(os.getcwd(), '../src') => works the same\n",
    "src_dir = os.path.join(os.getcwd(), os.pardir, 'src')\n",
    "sys.path.append(src_dir)\n",
    "\n",
    "# Load the \"autoreload\" extension\n",
    "%load_ext autoreload\n",
    "# always reload modules marked with \"%aimport\"\n",
    "%autoreload 2"
   ]
  },
  {
   "cell_type": "markdown",
   "metadata": {
    "collapsed": true
   },
   "source": [
    "# Experiment 1"
   ]
  },
  {
   "cell_type": "code",
   "execution_count": 35,
   "metadata": {
    "collapsed": false
   },
   "outputs": [
    {
     "name": "stderr",
     "output_type": "stream",
     "text": [
      "INFO:root:Loading training data...\n",
      "INFO:root:End loading training data (463 docs) in 0.04 sec\n"
     ]
    },
    {
     "name": "stdout",
     "output_type": "stream",
     "text": [
      "data : ../data/train/emotion-large.2-label.tsv.gz\n",
      "label_index : 0\n",
      "text_index : 1\n",
      "preprocess : True\n",
      "stop_words : None\n",
      "emotion_words : None\n",
      "lsd_words : None\n",
      "emoticons : None\n",
      "word_feature : False\n",
      "ngrams : None\n",
      "fiveWoneH : None\n",
      "pos : False\n",
      "model : lr\n",
      "model_params : {'penalty': 'l1', 'C': 3}\n",
      "features_norm : None\n",
      "num_topk_features : 1000\n",
      "vtr : ../models/exp1_vtr_tfidf\n",
      "clf : ../models/exp1_clf_tfidf\n"
     ]
    },
    {
     "name": "stderr",
     "output_type": "stream",
     "text": [
      "INFO:root:End pre-processing training data (463 docs) in 1.77 sec\n",
      "INFO:root:End features extraction of (463 docs) in 1.77 sec\n",
      "INFO:root:Pipeline: Selecting 1000 best features by a chi-square test\n",
      "INFO:root:Fitted the model in 0.34 sec, score=0.8099\n",
      "INFO:root:Top-K features:\n",
      "\n",
      "INFO:root:confusion matrix:\n",
      "\n",
      "[[124  21]\n",
      " [ 55  32]]\n",
      "\n",
      "\n",
      "INFO:root:micro f1: 0.672413793103\n",
      "\n",
      "INFO:root:macro f1: 0.611287477954\n",
      "\n",
      "INFO:root:weighted f1: 0.649823633157\n",
      "\n",
      "INFO:root:binary f1: 0.457142857143\n",
      "\n",
      "INFO:root:Serializing the vectorizer to ../models/exp1_vtr_tfidf\n",
      "INFO:root:Done in 0.78 sec\n",
      "INFO:root:Serializing the classifier to ../models/exp1_clf_tfidf\n",
      "INFO:root:Done in 0.78 sec\n"
     ]
    }
   ],
   "source": [
    "%run ../src/models/train_model.py --data ../data/train/emotion-large.2-label.tsv.gz --model lr --model_params '{\"penalty\":\"l1\",\"C\":3}' --num_topk_features 1000 --vtr ../models/exp1_vtr_tfidf --clf ../models/exp1_clf_tfidf\n",
    "\n",
    "\n"
   ]
  },
  {
   "cell_type": "markdown",
   "metadata": {},
   "source": [
    "# Experiment 2"
   ]
  },
  {
   "cell_type": "code",
   "execution_count": 46,
   "metadata": {
    "collapsed": false
   },
   "outputs": [
    {
     "name": "stderr",
     "output_type": "stream",
     "text": [
      "INFO:root:Loading training data...\n",
      "INFO:root:End loading training data (463 docs) in 0.05 sec\n"
     ]
    },
    {
     "name": "stdout",
     "output_type": "stream",
     "text": [
      "data : ../data/train/emotion-large.2-label.tsv.gz\n",
      "label_index : 0\n",
      "text_index : 1\n",
      "preprocess : True\n",
      "stop_words : True\n",
      "emotion_words : ../resources/emotion_words\n",
      "lsd_words : ../resources/LSD2011_ALL.txt\n",
      "emoticons : None\n",
      "word_feature : True\n",
      "ngrams : ('1', '4')\n",
      "fiveWoneH : ('1', '1', '1', '1', '1', '1')\n",
      "pos : True\n",
      "model : svc\n",
      "model_params : {'kernel': 'linear', 'C': 100}\n",
      "features_norm : None\n",
      "num_topk_features : 1500\n",
      "vtr : ../models/exp2_vtr_dict\n",
      "clf : ../models/exp2_clf_svc\n",
      "removing stop words\n"
     ]
    },
    {
     "name": "stderr",
     "output_type": "stream",
     "text": [
      "INFO:root:End pre-processing training data (463 docs) in 2.64 sec\n",
      "INFO:root:End features extraction of (463 docs) in 51.60 sec\n",
      "INFO:root:Pipeline: Selecting 1500 best features by a chi-square test\n",
      "INFO:root:Fitted the model in 2.78 sec, score=1.0000\n",
      "INFO:root:confusion matrix:\n",
      "\n",
      "[[109  36]\n",
      " [ 37  50]]\n",
      "\n",
      "\n",
      "INFO:root:micro f1: 0.685344827586\n",
      "\n",
      "INFO:root:macro f1: 0.663587787776\n",
      "\n",
      "INFO:root:weighted f1: 0.6849760642\n",
      "\n",
      "INFO:root:binary f1: 0.578034682081\n",
      "\n",
      "INFO:root:Serializing the vectorizer to ../models/exp2_vtr_dict\n",
      "INFO:root:Done in 1.64 sec\n",
      "INFO:root:Serializing the classifier to ../models/exp2_clf_svc\n",
      "INFO:root:Done in 2.82 sec\n"
     ]
    }
   ],
   "source": [
    "%run ../src/models/train_model.py --data ../data/train/emotion-large.2-label.tsv.gz --stop_words True --emotion_words ../resources/emotion_words --lsd_words ../resources/LSD2011_ALL.txt --word_feature True --ngram 14 --fiveWoneH 111111 --pos True --model svc --model_params '{\"kernel\":\"linear\",\"C\":100}' --num_topk_features 1500 --vtr ../models/exp2_vtr_dict --clf ../models/exp2_clf_svc\n",
    "\n"
   ]
  },
  {
   "cell_type": "markdown",
   "metadata": {},
   "source": [
    "# Experiment 3"
   ]
  },
  {
   "cell_type": "code",
   "execution_count": 47,
   "metadata": {
    "collapsed": false
   },
   "outputs": [
    {
     "name": "stderr",
     "output_type": "stream",
     "text": [
      "INFO:root:Loading training data...\n",
      "INFO:root:End loading training data (463 docs) in 0.05 sec\n"
     ]
    },
    {
     "name": "stdout",
     "output_type": "stream",
     "text": [
      "data : ../data/train/emotion-large.2-label.tsv.gz\n",
      "label_index : 0\n",
      "text_index : 1\n",
      "preprocess : True\n",
      "stop_words : None\n",
      "emotion_words : ../resources/emotion_words\n",
      "lsd_words : ../resources/LSD2011_ALL.txt\n",
      "emoticons : None\n",
      "word_feature : True\n",
      "ngrams : ('1', '4')\n",
      "fiveWoneH : ('1', '1', '1', '1', '1', '1')\n",
      "pos : True\n",
      "model : svc\n",
      "model_params : {'kernel': 'linear', 'C': 100}\n",
      "features_norm : None\n",
      "num_topk_features : 1500\n",
      "vtr : ../models/exp3_vtr_dict\n",
      "clf : ../models/exp3_clf_svc\n"
     ]
    },
    {
     "name": "stderr",
     "output_type": "stream",
     "text": [
      "INFO:root:End pre-processing training data (463 docs) in 1.83 sec\n",
      "INFO:root:Started extracting features\n",
      "INFO:root:End features extraction of (463 docs) in 62.80 sec\n",
      "INFO:root:Pipeline: Selecting 1500 best features by a chi-square test\n",
      "INFO:root:Fitted the model in 3.43 sec, score=1.0000\n",
      "INFO:root:confusion matrix:\n",
      "\n",
      "[[105  40]\n",
      " [ 34  53]]\n",
      "\n",
      "\n",
      "INFO:root:micro f1: 0.681034482759\n",
      "\n",
      "INFO:root:macro f1: 0.664162754304\n",
      "\n",
      "INFO:root:weighted f1: 0.682981220657\n",
      "\n",
      "INFO:root:binary f1: 0.588888888889\n",
      "\n",
      "INFO:root:Serializing the vectorizer to ../models/exp3_vtr_dict\n",
      "INFO:root:Done in 1.76 sec\n",
      "INFO:root:Serializing the classifier to ../models/exp3_clf_svc\n",
      "INFO:root:Done in 3.61 sec\n"
     ]
    }
   ],
   "source": [
    "%run ../src/models/train_model.py --data ../data/train/emotion-large.2-label.tsv.gz --emotion_words ../resources/emotion_words --lsd_words ../resources/LSD2011_ALL.txt --word_feature True --ngram 14 --fiveWoneH 111111 --pos True --model svc --model_params '{\"kernel\":\"linear\",\"C\":100}' --num_topk_features 1500 --vtr ../models/exp3_vtr_dict --clf ../models/exp3_clf_svc\n"
   ]
  },
  {
   "cell_type": "markdown",
   "metadata": {},
   "source": [
    "# Experiment 4"
   ]
  },
  {
   "cell_type": "code",
   "execution_count": 2,
   "metadata": {
    "collapsed": false
   },
   "outputs": [
    {
     "name": "stderr",
     "output_type": "stream",
     "text": [
      "INFO:root:Loading training data...\n",
      "INFO:root:End loading training data (463 docs) in 0.04 sec\n"
     ]
    },
    {
     "name": "stdout",
     "output_type": "stream",
     "text": [
      "data : ../data/train/emotion-large.2-label.tsv.gz\n",
      "label_index : 0\n",
      "text_index : 1\n",
      "preprocess : True\n",
      "stop_words : False\n",
      "emotion_words : ../resources/emotion_words\n",
      "lsd_words : ../resources/LSD2011_ALL.txt\n",
      "emoticons : None\n",
      "word_feature : True\n",
      "ngrams : ('1', '4')\n",
      "fiveWoneH : ('1', '1', '1', '1', '1', '1')\n",
      "pos : True\n",
      "model : lr\n",
      "model_params : {'penalty': 'l1', 'C': 8}\n",
      "features_norm : None\n",
      "num_topk_features : 1500\n",
      "vtr : ../models/exp4_vtr_dict\n",
      "clf : ../models/exp4_clf_lr\n"
     ]
    },
    {
     "name": "stderr",
     "output_type": "stream",
     "text": [
      "INFO:root:End pre-processing training data (463 docs) in 3.76 sec\n",
      "INFO:root:Started extracting features\n",
      "INFO:root:End features extraction of (463 docs) in 69.19 sec\n",
      "INFO:root:Pipeline: Selecting 1500 best features by a chi-square test\n",
      "INFO:root:Fitted the model in 3.20 sec, score=1.0000\n",
      "INFO:root:confusion matrix:\n",
      "\n",
      "[[109  36]\n",
      " [ 38  49]]\n",
      "\n",
      "\n",
      "INFO:root:micro f1: 0.681034482759\n",
      "\n",
      "INFO:root:macro f1: 0.658171392163\n",
      "\n",
      "INFO:root:weighted f1: 0.680272379739\n",
      "\n",
      "INFO:root:binary f1: 0.56976744186\n",
      "\n",
      "INFO:root:Serializing the vectorizer to ../models/exp4_vtr_dict\n",
      "INFO:root:Done in 1.35 sec\n",
      "INFO:root:Serializing the classifier to ../models/exp4_clf_lr\n",
      "INFO:root:Done in 1.37 sec\n"
     ]
    }
   ],
   "source": [
    "%run ../src/models/train_model.py --data ../data/train/emotion-large.2-label.tsv.gz --emotion_words ../resources/emotion_words --lsd_words ../resources/LSD2011_ALL.txt --word_feature True --ngram 14 --fiveWoneH 111111 --pos True --model lr --model_params '{\"penalty\":\"l1\",\"C\":8}' --num_topk_features 1500 --vtr ../models/exp4_vtr_dict --clf ../models/exp4_clf_lr\n"
   ]
  },
  {
   "cell_type": "code",
   "execution_count": 10,
   "metadata": {
    "collapsed": false
   },
   "outputs": [
    {
     "name": "stderr",
     "output_type": "stream",
     "text": [
      "INFO:root:Loading training data...\n",
      "INFO:root:End loading training data (463 docs) in 0.04 sec\n"
     ]
    },
    {
     "name": "stdout",
     "output_type": "stream",
     "text": [
      "data : ../data/train/emotion-large.2-label.tsv.gz\n",
      "label_index : 0\n",
      "text_index : 1\n",
      "preprocess : True\n",
      "stop_words : False\n",
      "emotion_words : ../resources/emotion_words\n",
      "lsd_words : ../resources/LSD2011_ALL.txt\n",
      "emoticons : None\n",
      "word_feature : True\n",
      "ngrams : ('1', '4')\n",
      "fiveWoneH : ('1', '1', '1', '1', '1', '1')\n",
      "pos : True\n",
      "model : lr\n",
      "model_params : {'penalty': 'l1', 'C': 3}\n",
      "features_norm : None\n",
      "num_topk_features : 1500\n",
      "vtr : ../models/exp5_vtr_dict\n",
      "clf : ../models/exp5_clf_lr\n"
     ]
    },
    {
     "name": "stderr",
     "output_type": "stream",
     "text": [
      "INFO:root:End pre-processing training data (463 docs) in 1.48 sec\n",
      "INFO:root:Started extracting features\n",
      "INFO:root:End features extraction of (463 docs) in 69.51 sec\n",
      "INFO:root:Pipeline: Selecting 1500 best features by a chi-square test\n",
      "INFO:root:Fitted the model in 3.58 sec, score=1.0000\n",
      "INFO:root:confusion matrix:\n",
      "\n",
      "[[109  36]\n",
      " [ 35  52]]\n",
      "\n",
      "\n",
      "INFO:root:micro f1: 0.693965517241\n",
      "\n",
      "INFO:root:macro f1: 0.674305486901\n",
      "\n",
      "INFO:root:weighted f1: 0.694310430054\n",
      "\n",
      "INFO:root:binary f1: 0.594285714286\n",
      "\n",
      "INFO:root:Serializing the vectorizer to ../models/exp5_vtr_dict\n",
      "INFO:root:Done in 1.88 sec\n",
      "INFO:root:Serializing the classifier to ../models/exp5_clf_lr\n",
      "INFO:root:Done in 1.90 sec\n"
     ]
    }
   ],
   "source": [
    "%run ../src/models/train_model.py --data ../data/train/emotion-large.2-label.tsv.gz --emotion_words ../resources/emotion_words --lsd_words ../resources/LSD2011_ALL.txt --word_feature True --ngram 14 --fiveWoneH 111111 --pos True --model lr --model_params '{\"penalty\":\"l1\",\"C\":3}' --num_topk_features 1500 --vtr ../models/exp5_vtr_dict --clf ../models/exp5_clf_lr\n"
   ]
  },
  {
   "cell_type": "markdown",
   "metadata": {},
   "source": [
    "# Experiment 6"
   ]
  },
  {
   "cell_type": "code",
   "execution_count": 43,
   "metadata": {
    "collapsed": false
   },
   "outputs": [
    {
     "name": "stderr",
     "output_type": "stream",
     "text": [
      "INFO:root:Finding the parameters for: data =  ../data/train/emotion-large.2-label.tsv.gz, clf = nb\n",
      "INFO:root:End loading training data (463 docs) in 0.05 sec\n"
     ]
    },
    {
     "name": "stdout",
     "output_type": "stream",
     "text": [
      "data : ../data/train/emotion-large.2-label.tsv.gz\n",
      "label_index : 0\n",
      "text_index : 1\n",
      "preprocess : True\n",
      "stop_words : False\n",
      "feat : count\n",
      "emotion_words : None\n",
      "lsd_words : None\n",
      "emoticons : None\n",
      "word_feature : False\n",
      "ngrams : None\n",
      "fiveWoneH : None\n",
      "pos : False\n",
      "model : nb\n",
      "model_params : {'alpha': 0.001}\n",
      "features_norm : None\n",
      "num_topk_features : None\n",
      "vtr : ../models/exp6_vtr_dict\n",
      "clf : ../models/exp6_clf_lr\n"
     ]
    },
    {
     "name": "stderr",
     "output_type": "stream",
     "text": [
      "INFO:root:End features extraction of ((463, 14485) docs) in 2.40 sec\n",
      "INFO:root:Fitted the model in 0.00 sec, score=0.9914\n",
      "INFO:root:confusion matrix:\n",
      "\n",
      "[[103  42]\n",
      " [ 26  61]]\n",
      "\n",
      "\n",
      "INFO:root:micro f1: 0.706896551724\n",
      "\n",
      "INFO:root:macro f1: 0.696965040338\n",
      "\n",
      "INFO:root:weighted f1: 0.710679984633\n",
      "\n",
      "INFO:root:binary f1: 0.642105263158\n",
      "\n",
      "INFO:root:Serializing the vectorizer to ../models/exp6_vtr_dict\n",
      "INFO:root:Done in 1.06 sec\n",
      "INFO:root:Serializing the classifier to ../models/exp6_clf_lr\n",
      "INFO:root:Done in 1.52 sec\n"
     ]
    }
   ],
   "source": [
    "# just using NB with count\n",
    "%run ../src/models/train_model.py --data ../data/train/emotion-large.2-label.tsv.gz --feat count --model nb --model_params '{\"alpha\": 0.001}' --vtr ../models/exp6_vtr_dict --clf ../models/exp6_clf_lr\n"
   ]
  },
  {
   "cell_type": "code",
   "execution_count": null,
   "metadata": {
    "collapsed": true
   },
   "outputs": [],
   "source": []
  },
  {
   "cell_type": "code",
   "execution_count": 3,
   "metadata": {
    "collapsed": false,
    "scrolled": true
   },
   "outputs": [
    {
     "name": "stderr",
     "output_type": "stream",
     "text": [
      "INFO:root:Finding the parameters for: data =  ../data/train/emotion-large.2-label.tsv.gz, clf = nb\n",
      "INFO:root:End loading training data (463 docs) in 0.05 sec\n"
     ]
    },
    {
     "name": "stdout",
     "output_type": "stream",
     "text": [
      "data : ../data/train/emotion-large.2-label.tsv.gz\n",
      "label_index : 0\n",
      "text_index : 1\n",
      "preprocess : True\n",
      "stop_words : False\n",
      "feat : dict\n",
      "emotion_words : None\n",
      "lsd_words : None\n",
      "emoticons : None\n",
      "word_feature : False\n",
      "ngrams : ('1', '2')\n",
      "fiveWoneH : None\n",
      "pos : False\n",
      "model : nb\n",
      "model_params : {'alpha': 0.02}\n",
      "features_norm : None\n",
      "num_topk_features : None\n",
      "vtr : ../models/exp6_vtr_dict\n",
      "clf : ../models/exp6_clf_lr\n"
     ]
    },
    {
     "name": "stderr",
     "output_type": "stream",
     "text": [
      "INFO:root:End features extraction of (463 docs) in 39.64 sec\n",
      "INFO:root:Fitted the model in 0.67 sec, score=1.0000\n",
      "INFO:root:confusion matrix:\n",
      "\n",
      "[[101  44]\n",
      " [ 26  61]]\n",
      "\n",
      "\n",
      "INFO:root:micro f1: 0.698275862069\n",
      "\n",
      "INFO:root:macro f1: 0.689031862745\n",
      "\n",
      "INFO:root:weighted f1: 0.702435661765\n",
      "\n",
      "INFO:root:binary f1: 0.635416666667\n",
      "\n",
      "INFO:root:Serializing the vectorizer to ../models/exp6_vtr_dict\n",
      "INFO:root:Done in 2.43 sec\n",
      "INFO:root:Serializing the classifier to ../models/exp6_clf_lr\n",
      "INFO:root:Done in 4.55 sec\n"
     ]
    }
   ],
   "source": [
    "# just using NB with count\n",
    "%run ../src/models/train_model.py --data ../data/train/emotion-large.2-label.tsv.gz --feat dict --model nb --ngram 12 --model_params '{\"alpha\": 0.02}' --vtr ../models/exp6_vtr_dict --clf ../models/exp6_clf_lr\n",
    "\n"
   ]
  },
  {
   "cell_type": "code",
   "execution_count": 4,
   "metadata": {
    "collapsed": false
   },
   "outputs": [
    {
     "name": "stderr",
     "output_type": "stream",
     "text": [
      "INFO:root:Finding the parameters for: data =  ../data/train/emotion-large.2-label.tsv.gz, clf = nb\n",
      "INFO:root:End loading training data (463 docs) in 0.05 sec\n"
     ]
    },
    {
     "name": "stdout",
     "output_type": "stream",
     "text": [
      "data : ../data/train/emotion-large.2-label.tsv.gz\n",
      "label_index : 0\n",
      "text_index : 1\n",
      "preprocess : True\n",
      "stop_words : False\n",
      "feat : dict\n",
      "emotion_words : None\n",
      "lsd_words : None\n",
      "emoticons : None\n",
      "word_feature : False\n",
      "ngrams : ('1', '2')\n",
      "fiveWoneH : None\n",
      "pos : False\n",
      "model : nb\n",
      "model_params : {'alpha': 0.01}\n",
      "features_norm : None\n",
      "num_topk_features : None\n",
      "vtr : ../models/exp6_vtr_dict\n",
      "clf : ../models/exp6_clf_lr\n"
     ]
    },
    {
     "name": "stderr",
     "output_type": "stream",
     "text": [
      "INFO:root:End features extraction of (463 docs) in 35.41 sec\n",
      "INFO:root:Fitted the model in 0.68 sec, score=1.0000\n",
      "INFO:root:confusion matrix:\n",
      "\n",
      "[[101  44]\n",
      " [ 25  62]]\n",
      "\n",
      "\n",
      "INFO:root:micro f1: 0.702586206897\n",
      "\n",
      "INFO:root:macro f1: 0.693937250253\n",
      "\n",
      "INFO:root:weighted f1: 0.706799801159\n",
      "\n",
      "INFO:root:binary f1: 0.642487046632\n",
      "\n",
      "INFO:root:Serializing the vectorizer to ../models/exp6_vtr_dict\n",
      "INFO:root:Done in 2.46 sec\n",
      "INFO:root:Serializing the classifier to ../models/exp6_clf_lr\n",
      "INFO:root:Done in 4.58 sec\n"
     ]
    }
   ],
   "source": [
    "# just using NB with count\n",
    "%run ../src/models/train_model.py --data ../data/train/emotion-large.2-label.tsv.gz --feat dict --model nb --ngram 12 --model_params '{\"alpha\": 0.01}' --vtr ../models/exp6_vtr_dict --clf ../models/exp6_clf_lr\n",
    "\n"
   ]
  },
  {
   "cell_type": "code",
   "execution_count": 11,
   "metadata": {
    "collapsed": false
   },
   "outputs": [
    {
     "name": "stderr",
     "output_type": "stream",
     "text": [
      "INFO:root:Finding the parameters for: data =  ../data/train/emotion-large.2-label.tsv.gz, clf = nb\n",
      "INFO:root:End loading training data (463 docs) in 0.06 sec\n"
     ]
    },
    {
     "name": "stdout",
     "output_type": "stream",
     "text": [
      "data : ../data/train/emotion-large.2-label.tsv.gz\n",
      "label_index : 0\n",
      "text_index : 1\n",
      "preprocess : True\n",
      "stop_words : False\n",
      "feat : tfidf\n",
      "emotion_words : None\n",
      "lsd_words : None\n",
      "emoticons : None\n",
      "word_feature : False\n",
      "ngrams : None\n",
      "fiveWoneH : None\n",
      "pos : False\n",
      "model : nb\n",
      "model_params : {'alpha': 0.02}\n",
      "features_norm : None\n",
      "num_topk_features : None\n",
      "vtr : ../models/exp6_vtr_dict\n",
      "clf : ../models/exp6_clf_lr\n"
     ]
    },
    {
     "name": "stderr",
     "output_type": "stream",
     "text": [
      "INFO:root:End features extraction of (463 docs) in 2.17 sec\n",
      "INFO:root:Fitted the model in 0.55 sec, score=0.9935\n",
      "INFO:root:confusion matrix:\n",
      "\n",
      "[[116  29]\n",
      " [ 39  48]]\n",
      "\n",
      "\n",
      "INFO:root:micro f1: 0.706896551724\n",
      "\n",
      "INFO:root:macro f1: 0.679349593496\n",
      "\n",
      "INFO:root:weighted f1: 0.702845528455\n",
      "\n",
      "INFO:root:binary f1: 0.585365853659\n",
      "\n",
      "INFO:root:Serializing the vectorizer to ../models/exp6_vtr_dict\n",
      "INFO:root:Done in 0.80 sec\n",
      "INFO:root:Serializing the classifier to ../models/exp6_clf_lr\n",
      "INFO:root:Done in 1.06 sec\n"
     ]
    }
   ],
   "source": [
    "# just using NB with count\n",
    "%run ../src/models/train_model.py --data ../data/train/emotion-large.2-label.tsv.gz --feat tfidf --model nb --model_params '{\"alpha\": 0.02}' --vtr ../models/exp6_vtr_dict --clf ../models/exp6_clf_lr\n",
    "\n",
    "\n"
   ]
  },
  {
   "cell_type": "code",
   "execution_count": 18,
   "metadata": {
    "collapsed": false
   },
   "outputs": [
    {
     "name": "stderr",
     "output_type": "stream",
     "text": [
      "INFO:root:Finding the parameters for: data =  ../data/train/emotion-large.2-label.tsv.gz, clf = nb\n",
      "INFO:root:End loading training data (463 docs) in 0.06 sec\n"
     ]
    },
    {
     "name": "stdout",
     "output_type": "stream",
     "text": [
      "data : ../data/train/emotion-large.2-label.tsv.gz\n",
      "label_index : 0\n",
      "text_index : 1\n",
      "preprocess : True\n",
      "stop_words : False\n",
      "feat : count\n",
      "emotion_words : None\n",
      "lsd_words : None\n",
      "emoticons : None\n",
      "word_feature : False\n",
      "ngrams : None\n",
      "fiveWoneH : None\n",
      "pos : False\n",
      "model : nb\n",
      "model_params : {'alpha': 0.02}\n",
      "features_norm : None\n",
      "num_topk_features : None\n",
      "vtr : ../models/exp6_vtr_dict\n",
      "clf : ../models/exp6_clf_lr\n"
     ]
    },
    {
     "name": "stderr",
     "output_type": "stream",
     "text": [
      "INFO:root:End features extraction of ((463, 14485) docs) in 2.09 sec\n",
      "INFO:root:Fitted the model in 0.00 sec, score=0.9806\n",
      "INFO:root:confusion matrix:\n",
      "\n",
      "[[101  44]\n",
      " [ 27  60]]\n",
      "\n",
      "\n",
      "INFO:root:micro f1: 0.693965517241\n",
      "\n",
      "INFO:root:macro f1: 0.684099495618\n",
      "\n",
      "INFO:root:weighted f1: 0.698056306695\n",
      "\n",
      "INFO:root:binary f1: 0.628272251309\n",
      "\n",
      "INFO:root:Serializing the vectorizer to ../models/exp6_vtr_dict\n",
      "INFO:root:Done in 1.06 sec\n",
      "INFO:root:Serializing the classifier to ../models/exp6_clf_lr\n",
      "INFO:root:Done in 1.45 sec\n"
     ]
    }
   ],
   "source": [
    "# just using NB with count\n",
    "%run ../src/models/train_model.py --data ../data/train/emotion-large.2-label.tsv.gz --feat count --model nb --model_params '{\"alpha\": 0.02}' --vtr ../models/exp6_vtr_dict --clf ../models/exp6_clf_lr\n"
   ]
  },
  {
   "cell_type": "code",
   "execution_count": null,
   "metadata": {
    "collapsed": true
   },
   "outputs": [],
   "source": []
  },
  {
   "cell_type": "code",
   "execution_count": null,
   "metadata": {
    "collapsed": true
   },
   "outputs": [],
   "source": []
  },
  {
   "cell_type": "code",
   "execution_count": 27,
   "metadata": {
    "collapsed": false
   },
   "outputs": [
    {
     "name": "stderr",
     "output_type": "stream",
     "text": [
      "INFO:root:Finding the parameters for: data =  ../data/train/emotion.2-label.tsv.gz, clf = lr\n",
      "INFO:root:End loading training data (297 docs) in 0.04 sec\n",
      "INFO:root:End features extraction of (297 docs) in 0.04 sec\n"
     ]
    },
    {
     "name": "stdout",
     "output_type": "stream",
     "text": [
      "data : ../data/train/emotion.2-label.tsv.gz\n",
      "label_index : 0\n",
      "text_index : 1\n",
      "preprocess : False\n",
      "stop_words : False\n",
      "feat : tfidf\n",
      "emotion_words : None\n",
      "lsd_words : None\n",
      "emoticons : None\n",
      "word_feature : False\n",
      "ngrams : None\n",
      "fiveWoneH : None\n",
      "pos : False\n",
      "model : lr\n",
      "model_params : {'penalty': 'l2', 'C': 9}\n",
      "features_norm : None\n",
      "num_topk_features : None\n",
      "vtr : ../models/exp1_vtr_tfidf\n",
      "clf : ../models/exp1_clf_tfidf\n"
     ]
    },
    {
     "name": "stderr",
     "output_type": "stream",
     "text": [
      "INFO:root:Fitted the model in 0.26 sec, score=1.0000\n",
      "INFO:root:confusion matrix:\n",
      "\n",
      "[[91 11]\n",
      " [15 32]]\n",
      "\n",
      "INFO:root:precision: 0.744186046512\n",
      "INFO:root:recall: 0.68085106383\n",
      "INFO:root:micro f1: 0.825503355705\n",
      "INFO:root:macro f1: 0.793055555556\n",
      "INFO:root:weighted f1: 0.823303504847\n",
      "INFO:root:binary f1: 0.711111111111\n",
      "INFO:root:Serializing the vectorizer to ../models/exp1_vtr_tfidf\n",
      "INFO:root:Done in 0.73 sec\n",
      "INFO:root:Serializing the classifier to ../models/exp1_clf_tfidf\n",
      "INFO:root:Done in 0.76 sec\n"
     ]
    }
   ],
   "source": [
    "%run ../src/models/train_model.py --data ../data/train/emotion.2-label.tsv.gz --feat tfidf --model lr --model_params '{\"penalty\":\"l2\",\"C\":9}' --vtr ../models/exp1_vtr_tfidf --clf ../models/exp1_clf_tfidf\n",
    "\n"
   ]
  },
  {
   "cell_type": "code",
   "execution_count": 32,
   "metadata": {
    "collapsed": false
   },
   "outputs": [
    {
     "name": "stderr",
     "output_type": "stream",
     "text": [
      "INFO:root:Finding the parameters for: data =  ../data/train/emotion.2-label.tsv.gz, clf = nb\n",
      "INFO:root:End loading training data (297 docs) in 0.03 sec\n",
      "INFO:root:End features extraction of (297 docs) in 0.04 sec\n"
     ]
    },
    {
     "name": "stdout",
     "output_type": "stream",
     "text": [
      "data : ../data/train/emotion.2-label.tsv.gz\n",
      "label_index : 0\n",
      "text_index : 1\n",
      "preprocess : False\n",
      "stop_words : False\n",
      "feat : count\n",
      "emotion_words : None\n",
      "lsd_words : None\n",
      "emoticons : None\n",
      "word_feature : False\n",
      "ngrams : None\n",
      "fiveWoneH : None\n",
      "pos : False\n",
      "model : nb\n",
      "model_params : {'alpha': 1}\n",
      "features_norm : None\n",
      "num_topk_features : None\n",
      "vtr : ../models/exp1_vtr_tfidf\n",
      "clf : ../models/exp1_clf_tfidf\n"
     ]
    },
    {
     "name": "stderr",
     "output_type": "stream",
     "text": [
      "INFO:root:Fitted the model in 0.19 sec, score=0.9697\n",
      "INFO:root:confusion matrix:\n",
      "\n",
      "[[61 41]\n",
      " [ 6 41]]\n",
      "\n",
      "INFO:root:precision: 0.5\n",
      "INFO:root:recall: 0.872340425532\n",
      "INFO:root:micro f1: 0.684563758389\n",
      "INFO:root:macro f1: 0.678776202926\n",
      "INFO:root:weighted f1: 0.694691980449\n",
      "INFO:root:binary f1: 0.635658914729\n",
      "INFO:root:Serializing the vectorizer to ../models/exp1_vtr_tfidf\n",
      "INFO:root:Done in 0.64 sec\n",
      "INFO:root:Serializing the classifier to ../models/exp1_clf_tfidf\n",
      "INFO:root:Done in 0.92 sec\n"
     ]
    }
   ],
   "source": [
    "%run ../src/models/train_model.py --data ../data/train/emotion.2-label.tsv.gz --feat count --model nb --model_params '{\"alpha\":1}' --vtr ../models/exp1_vtr_tfidf --clf ../models/exp1_clf_tfidf\n"
   ]
  },
  {
   "cell_type": "code",
   "execution_count": null,
   "metadata": {
    "collapsed": true
   },
   "outputs": [],
   "source": []
  }
 ],
 "metadata": {
  "kernelspec": {
   "display_name": "Python 3",
   "language": "python",
   "name": "python3"
  },
  "language_info": {
   "codemirror_mode": {
    "name": "ipython",
    "version": 3
   },
   "file_extension": ".py",
   "mimetype": "text/x-python",
   "name": "python",
   "nbconvert_exporter": "python",
   "pygments_lexer": "ipython3",
   "version": "3.6.1"
  }
 },
 "nbformat": 4,
 "nbformat_minor": 2
}
