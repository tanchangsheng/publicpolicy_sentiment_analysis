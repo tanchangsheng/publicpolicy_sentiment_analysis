{
 "cells": [
  {
   "cell_type": "code",
   "execution_count": 1,
   "metadata": {
    "collapsed": false
   },
   "outputs": [],
   "source": [
    "import os\n",
    "import sys\n",
    "\n",
    "# add the 'src' directory as one where we can import modules\n",
    "# os.pardir refers to parent directory. \n",
    "# src_dir = os.path.join(os.getcwd(), '../src') => works the same\n",
    "src_dir = os.path.join(os.getcwd(), os.pardir, 'src')\n",
    "sys.path.append(src_dir)\n",
    "\n",
    "# Load the \"autoreload\" extension\n",
    "%load_ext autoreload\n",
    "# always reload modules marked with \"%aimport\"\n",
    "%autoreload 2\n"
   ]
  },
  {
   "cell_type": "code",
   "execution_count": 2,
   "metadata": {
    "collapsed": true
   },
   "outputs": [],
   "source": [
    "from sklearn import metrics\n",
    "from sklearn.cluster import KMeans\n",
    "from sklearn.feature_extraction.text import CountVectorizer, TfidfVectorizer\n",
    "\n",
    "from features import preprocessor\n",
    "import gzip\n",
    "\n",
    "from nltk.corpus import stopwords\n",
    "from nltk import FreqDist\n",
    "from nltk.tokenize import word_tokenize\n"
   ]
  },
  {
   "cell_type": "code",
   "execution_count": 3,
   "metadata": {
    "collapsed": false
   },
   "outputs": [],
   "source": [
    "def load_corpus(data_file, label_index, text_index):\n",
    "    target= []\n",
    "    data = []\n",
    "\n",
    "    with gzip.open(data_file, 'r') as f:\n",
    "        for line in f:\n",
    "            line_arr = line.decode('utf8').split('\\t')\n",
    "            data.append(line_arr[text_index])\n",
    "            target.append(line_arr[label_index])\n",
    "    f.close()\n",
    "\n",
    "    return [data, target]\n",
    "\n",
    "def doc2vec(text, stop_words, vectorizer):\n",
    "    pp_text = preprocessor.process_data(text, stop_words)\n",
    "    return vectorizer.transform(list(text))\n",
    "\n",
    "def create_output(labels, topics, data, file_dir):\n",
    "    combined = zip(labels, topics, data)\n",
    "    combined = sorted(combined, key=lambda k: k[0])\n",
    "    with open(file_dir, 'w') as f:\n",
    "        for label, topic, text in combined:\n",
    "            f.write(str(label) + '\\t' + str(topic) + '\\t' + text + '\\n')\n",
    "    f.close()\n",
    "\n",
    "def top_words(data, num):\n",
    "    words = []\n",
    "    for row in data:\n",
    "        words += word_tokenize(row[1][0])\n",
    "    fdist= FreqDist(words)\n",
    "    return fdist.most_common(num)\n",
    "\n",
    "# cluster_top_words is a list of list of topwords from each cluster\n",
    "def unique_words(cluster_top_words):\n",
    "    common_words = []\n",
    "    unique_words = []\n",
    "    all_words = []\n",
    "    for top_words in cluster_top_words:\n",
    "        words = [word[0] for word in top_words]\n",
    "        # if words not in common wrds \n",
    "        all_words += words\n",
    "\n",
    "def cluster_top_words(clusters, top_num):\n",
    "    cluster_list = [clusters[key] for key in clusters.keys()]\n",
    "    top_words_list = []\n",
    "    for cluster in cluster_list:\n",
    "        top_words_list.append(top_words(cluster, top_num))\n",
    "    \n",
    "    common_words = []\n",
    "    for words in top_words_list:\n",
    "        words = [word[0] for word in words]\n",
    "        for word in words:\n",
    "            common = True\n",
    "            for words_1 in top_words_list:\n",
    "                words_1 = [word_1[0] for word_1 in words_1]\n",
    "                if word not in words_1:\n",
    "                    common = False\n",
    "                    break\n",
    "            if common:\n",
    "                common_words.append(word)\n",
    "    toReturn = []\n",
    "    for words in top_words_list:\n",
    "        words = [word[0] for word in words if word[0] not in common_words]\n",
    "        toReturn.append(words)\n",
    "    print (toReturn)\n",
    "    return toReturn\n",
    "    \n",
    "def create_topwords(tw_list, file_dir):\n",
    "    with open(file_dir, 'w') as f:\n",
    "        for row in tw_list:\n",
    "            f.write(str(row) + '\\n')\n",
    "    f.close\n",
    "        "
   ]
  },
  {
   "cell_type": "code",
   "execution_count": 196,
   "metadata": {
    "collapsed": false
   },
   "outputs": [],
   "source": [
    "# load data\n",
    "data, target = load_corpus('../data/train/NDR2016_president.tsv.gz', 1, 2)\n",
    "\n",
    "# preprocess data\n",
    "stop_words = stopwords.words('english')\n",
    "stop_words += ['would', 'said', 'say', 'year', 'day', 'also', 'first', 'last', 'one', 'two', 'people', 'told', 'new',\n",
    "    'could', 'singapore', 'three', 'may', 'like', 'world', 'since','mr','time','even','make','many','take','still','well',\n",
    "    'get','want','made','go','much','dr']\n",
    "\n",
    "pp_data = [preprocessor.process_data(row, stop_words) for row in data]\n",
    "\n"
   ]
  },
  {
   "cell_type": "code",
   "execution_count": 197,
   "metadata": {
    "collapsed": false
   },
   "outputs": [],
   "source": [
    "# convert to term frequency\n",
    "data_tf_vector = CountVectorizer().fit_transform(pp_data)\n",
    "\n",
    "data_tfidf_vector = TfidfVectorizer().fit_transform(pp_data)"
   ]
  },
  {
   "cell_type": "code",
   "execution_count": 304,
   "metadata": {
    "collapsed": false
   },
   "outputs": [],
   "source": [
    "# fit model\n",
    "kmeans = KMeans(n_clusters=10).fit(data_tfidf_vector)\n"
   ]
  },
  {
   "cell_type": "code",
   "execution_count": 305,
   "metadata": {
    "collapsed": false
   },
   "outputs": [
    {
     "data": {
      "text/plain": [
       "(10, 4535)"
      ]
     },
     "execution_count": 305,
     "metadata": {},
     "output_type": "execute_result"
    }
   ],
   "source": [
    "kmeans.cluster_centers_.shape"
   ]
  },
  {
   "cell_type": "code",
   "execution_count": 306,
   "metadata": {
    "collapsed": false
   },
   "outputs": [
    {
     "data": {
      "text/plain": [
       "(916, 4535)"
      ]
     },
     "execution_count": 306,
     "metadata": {},
     "output_type": "execute_result"
    }
   ],
   "source": [
    "data_tfidf_vector.shape"
   ]
  },
  {
   "cell_type": "code",
   "execution_count": 307,
   "metadata": {
    "collapsed": false
   },
   "outputs": [],
   "source": [
    "labels = list(kmeans.labels_)"
   ]
  },
  {
   "cell_type": "code",
   "execution_count": 308,
   "metadata": {
    "collapsed": false
   },
   "outputs": [
    {
     "data": {
      "text/plain": [
       "dict_keys([1, 3, 5, 0, 8, 7, 2, 9, 4, 6])"
      ]
     },
     "execution_count": 308,
     "metadata": {},
     "output_type": "execute_result"
    }
   ],
   "source": [
    "cluster_dict = {}\n",
    "for label, topic, text in zip(labels, target, pp_data):\n",
    "    if label not in cluster_dict:\n",
    "        cluster_dict[label] = []\n",
    "    cluster_dict[label].append([[topic],[text]])\n",
    "\n",
    "cluster_dict.keys()"
   ]
  },
  {
   "cell_type": "code",
   "execution_count": 309,
   "metadata": {
    "collapsed": false
   },
   "outputs": [
    {
     "name": "stdout",
     "output_type": "stream",
     "text": [
      "[['president', 'elected', 'minority', 'race', 'pap', 'malay', 'chinese', 'candidate', 'election', 'vote'], ['tan', 'president', 'million', 'company', 'election', 'candidate', 'year', 'presidential', 'position', 'cheng'], ['president', 'next', 'pe', 'mean', 'must', 'think', 'criterion', 'mute', 'approved', 'yrs'], ['president', 'minority', 'know', 'next', 'talking', 'race', 'token', 'care', 'think', 'chinese'], ['elected', 'presidency', 'pap', 'job', 'created', 'intention', 'president', 'issue', 'miw', 'minister'], ['president', 'wp', 'prefer', 'elected', 'need', 'bad', 'point', 'appointed', 'increasing', 'change'], ['president', 'bill', 'criterion', 'approve', 'lee', 'elected', 'using', 'allow', 'got', 'mouth'], ['president', 'claim', 'race', 'tcb', 'pe', 'become', 'let', 'malay', 'indian', 'ask'], ['govt', 'president', 'otc', 'role', 'causing', 'pinoy', 'ep', 'pe', 'problem', 'insulting'], ['skeleton', 'closet', 'make', 'wonder', 'pap', 'afraid', 'someone', 'outside', 'party', 'becoming']]\n"
     ]
    }
   ],
   "source": [
    "topwords = cluster_top_words(cluster_dict, 10)"
   ]
  },
  {
   "cell_type": "code",
   "execution_count": 310,
   "metadata": {
    "collapsed": false
   },
   "outputs": [],
   "source": [
    "create_output(labels, target, pp_data, '../data/results/cluster_of_10_1.txt')"
   ]
  },
  {
   "cell_type": "code",
   "execution_count": 311,
   "metadata": {
    "collapsed": true
   },
   "outputs": [],
   "source": [
    "create_topwords(topwords, '../data/results/topwords_of_10_1.txt')"
   ]
  },
  {
   "cell_type": "code",
   "execution_count": null,
   "metadata": {
    "collapsed": true
   },
   "outputs": [],
   "source": []
  },
  {
   "cell_type": "code",
   "execution_count": null,
   "metadata": {
    "collapsed": true
   },
   "outputs": [],
   "source": []
  },
  {
   "cell_type": "code",
   "execution_count": null,
   "metadata": {
    "collapsed": true
   },
   "outputs": [],
   "source": []
  },
  {
   "cell_type": "code",
   "execution_count": null,
   "metadata": {
    "collapsed": true
   },
   "outputs": [],
   "source": []
  },
  {
   "cell_type": "code",
   "execution_count": 206,
   "metadata": {
    "collapsed": false
   },
   "outputs": [
    {
     "name": "stdout",
     "output_type": "stream",
     "text": [
      "['elected', 'president', 'election', 'waste', 'mouth', 'kick', 'wee', 'pap', 'pinky', 'open']\n",
      "['president', 'minority', 'elected', 'race', 'pap', 'ep', 'power', 'next', 'election', 'reserve']\n",
      "['president', 'malay', 'chinese', 'vote', 'candidate', 'minority', 'elected', 'using', 'sent', 'non']\n",
      "['president', 'criterion', 'tan', 'lee', 'candidate', 'must', 'qualify', 'using', 'cheng', 'bock']\n",
      "['president', 'job', 'role', 'govt', 'otc', 'need', 'elected', 'change', 'wp', 'head']\n",
      "['tan', 'million', 'company', 'year', 'position', 'executive', 'equity', 'senior', 'candidate', 'shareholder']\n",
      "['tcb', 'president', 'pe', 'claim', 'become', 'know', 'race', 'need', 'dont', 'review']\n",
      "['party', 'afraid', 'president', 'skeleton', 'closet', 'make', 'wonder', 'pap', 'someone', 'outside']\n",
      "['elected', 'presidency', 'pap', 'intention', 'issue', 'created', 'bad', 'sign', 'minority', 'presidencycan']\n",
      "['pinoy', 'president', 'next', 'given', 'collective', 'intellect', 'cooly', 'prata', 'flipper', 'pirate']\n"
     ]
    }
   ],
   "source": [
    "# 10 clusters\n",
    "cluster_top_words(cluster_dict, 10)"
   ]
  },
  {
   "cell_type": "code",
   "execution_count": 181,
   "metadata": {
    "collapsed": false
   },
   "outputs": [
    {
     "name": "stdout",
     "output_type": "stream",
     "text": [
      "['elected', 'minority', 'race', 'pap', 'candidate', 'ep', 'election', 'presidency', 'need']\n",
      "['tan', 'million', 'criterion', 'company', 'year', 'candidate', 'election', 'bock', 'position']\n",
      "['malay', 'chinese', 'using', 'vote', 'minority', 'pinoy', 'sent', 'indian', 'next']\n",
      "['waste', 'money', 'election', 'resource', 'point', 'whole', 'choice', 'need', 'guy']\n",
      "['elected', 'bad', 'wp', 'issue', 'pap', 'presidency', 'need', 'job', 'prefer']\n",
      "['tcb', 'govt', 'pe', 'otc', 'claim', 'role', 'know', 'become', 'job']\n",
      "['party', 'wonder', 'afraid', 'skeleton', 'closet', 'make', 'pap', 'someone', 'outside']\n"
     ]
    }
   ],
   "source": [
    "# 7 clusters\n",
    "cluster_top_words(cluster_dict, 10)"
   ]
  },
  {
   "cell_type": "code",
   "execution_count": 174,
   "metadata": {
    "collapsed": false
   },
   "outputs": [
    {
     "name": "stdout",
     "output_type": "stream",
     "text": [
      "['elected', 'pap', 'presidency', 'power', 'reserve', 'ep', 'vote', 'election', 'party']\n",
      "['minority', 'race', 'malay', 'chinese', 'elected', 'candidate', 'next', 'pap', 'need']\n",
      "['tan', 'criterion', 'million', 'candidate', 'election', 'company', 'bock', 'year', 'cheng']\n",
      "['pinoy', 'next', 'election', 'pe', 'waste', 'given', 'collective', 'intellect', 'cooly']\n",
      "['role', 'job', 'elected', 'need', 'otc', 'govt', 'head', 'state', 'bad']\n",
      "['tcb', 'pe', 'claim', 'become', 'ep', 'need', 'know', 'race', 'bill']\n"
     ]
    }
   ],
   "source": [
    "# 6 clusters\n",
    "cluster_top_words(cluster_dict, 10)"
   ]
  },
  {
   "cell_type": "code",
   "execution_count": 167,
   "metadata": {
    "collapsed": false
   },
   "outputs": [
    {
     "name": "stdout",
     "output_type": "stream",
     "text": [
      "['tan', 'elected', 'presidency', 'million', 'election', 'presidential', 'company', 'minority', 'candidate']\n",
      "['elected', 'minority', 'race', 'pap', 'malay', 'candidate', 'ep', 'vote', 'next']\n",
      "['pe', 'tcb', 'need', 'race', 'become', 'claim', 'let', 'money', 'tan']\n",
      "['govt', 'role', 'otc', 'job', 'change', 'elected', 'need', 'wp', 'head']\n",
      "['someone', 'party', 'afraid', 'wonder', 'skeleton', 'pap', 'closet', 'make', 'outside']\n"
     ]
    }
   ],
   "source": [
    "# 5 clusters\n",
    "cluster_top_words(cluster_dict, 10)"
   ]
  },
  {
   "cell_type": "code",
   "execution_count": 244,
   "metadata": {
    "collapsed": false,
    "scrolled": true
   },
   "outputs": [
    {
     "data": {
      "text/plain": [
       "[['elected',\n",
       "  'minority',\n",
       "  'race',\n",
       "  'pap',\n",
       "  'malay',\n",
       "  'candidate',\n",
       "  'chinese',\n",
       "  'next',\n",
       "  'tcb'],\n",
       " ['tan',\n",
       "  'million',\n",
       "  'elected',\n",
       "  'criterion',\n",
       "  'candidate',\n",
       "  'election',\n",
       "  'company',\n",
       "  'year',\n",
       "  'bock'],\n",
       " ['elected', 'govt', 'job', 'wp', 'need', 'role', 'otc', 'pap', 'reserve'],\n",
       " ['pinoy',\n",
       "  'next',\n",
       "  'must',\n",
       "  'pe',\n",
       "  'party',\n",
       "  'skeleton',\n",
       "  'closet',\n",
       "  'make',\n",
       "  'wonder']]"
      ]
     },
     "execution_count": 244,
     "metadata": {},
     "output_type": "execute_result"
    }
   ],
   "source": [
    "# 4 clusters\n",
    "cluster_top_words(cluster_dict, 10)"
   ]
  },
  {
   "cell_type": "code",
   "execution_count": 188,
   "metadata": {
    "collapsed": false
   },
   "outputs": [
    {
     "name": "stdout",
     "output_type": "stream",
     "text": [
      "['elected', 'minority', 'race', 'pap', 'tan', 'candidate', 'election', 'malay', 'presidency']\n",
      "['pe', 'tcb', 'tan', 'criterion', 'next', 'become', 'lol', 'claim', 'race']\n",
      "['govt', 'elected', 'need', 'wp', 'role', 'otc', 'job', 'point', 'change']\n"
     ]
    }
   ],
   "source": [
    "# 3 clusters\n",
    "cluster_top_words(cluster_dict, 10)"
   ]
  },
  {
   "cell_type": "code",
   "execution_count": null,
   "metadata": {
    "collapsed": true
   },
   "outputs": [],
   "source": []
  },
  {
   "cell_type": "code",
   "execution_count": 2,
   "metadata": {
    "collapsed": false
   },
   "outputs": [],
   "source": [
    "# create clusters from data\n",
    "%run ../src/models/objectivity_cluster.py --data ../data/train/NDR2016_president_set.tsv.gz --label_index 0 --text_index 1 --cluster kmeans --c_out ../data/results/cluster_of_4_3.txt --tw_out ../data/results/topwords_of_4_3.txt --num_clusters 4 --num_tw 10\n",
    "\n"
   ]
  },
  {
   "cell_type": "code",
   "execution_count": 12,
   "metadata": {
    "collapsed": false
   },
   "outputs": [],
   "source": [
    "# find out prob distribution of topic for each document and get entropy\n",
    "%run ../src/models/objectivity_classification.py --data ../data/results/cluster_of_4_3.txt --label_index 0 --pos_index 1 --text_index 2 --model lr --output ../data/results/ent_probdist_of_4_3.txt\n"
   ]
  },
  {
   "cell_type": "code",
   "execution_count": 13,
   "metadata": {
    "collapsed": false
   },
   "outputs": [
    {
     "name": "stdout",
     "output_type": "stream",
     "text": [
      "median: 0.3479468825545\n"
     ]
    },
    {
     "data": {
      "image/png": "[encoded data removed]",
      "text/plain": [
       "<matplotlib.figure.Figure at 0x11bf44828>"
      ]
     },
     "metadata": {},
     "output_type": "display_data"
    }
   ],
   "source": [
    "import pandas as pd\n",
    "import matplotlib.pyplot as plt\n",
    "%matplotlib inline\n",
    "\n",
    "headers = ['entropy','prob', 'pos', 'text']\n",
    "df = pd.read_csv('../data/results/final_cluster_5.txt', sep='\\t', names=headers)\n",
    "df.boxplot(column='entropy', vert=False)\n",
    "print ('median: ' + str(df['entropy'].median()))"
   ]
  },
  {
   "cell_type": "code",
   "execution_count": 14,
   "metadata": {
    "collapsed": false
   },
   "outputs": [
    {
     "data": {
      "text/plain": [
       "array([[<matplotlib.axes._subplots.AxesSubplot object at 0x11979d6a0>]], dtype=object)"
      ]
     },
     "execution_count": 14,
     "metadata": {},
     "output_type": "execute_result"
    },
    {
     "data": {
      "image/png": "[encoded data removed]",
      "text/plain": [
       "<matplotlib.figure.Figure at 0x10ce28940>"
      ]
     },
     "metadata": {},
     "output_type": "display_data"
    }
   ],
   "source": [
    "df.hist(column='entropy',bins=10)"
   ]
  },
  {
   "cell_type": "code",
   "execution_count": 9,
   "metadata": {
    "collapsed": false
   },
   "outputs": [
    {
     "name": "stdout",
     "output_type": "stream",
     "text": [
      "median: 0.132363188219\n"
     ]
    },
    {
     "data": {
      "image/png": "[encoded data removed]",
      "text/plain": [
       "<matplotlib.figure.Figure at 0x1178c9710>"
      ]
     },
     "metadata": {},
     "output_type": "display_data"
    }
   ],
   "source": [
    "df = pd.read_csv('../data/results/lda_4.txt', sep='\\t', names=headers)\n",
    "df.boxplot(column='entropy', vert=False)\n",
    "print ('median: ' + str(df['entropy'].median()))"
   ]
  },
  {
   "cell_type": "code",
   "execution_count": 10,
   "metadata": {
    "collapsed": false
   },
   "outputs": [
    {
     "data": {
      "text/plain": [
       "array([[<matplotlib.axes._subplots.AxesSubplot object at 0x117c94048>]], dtype=object)"
      ]
     },
     "execution_count": 10,
     "metadata": {},
     "output_type": "execute_result"
    },
    {
     "data": {
      "image/png": "[encoded data removed]",
      "text/plain": [
       "<matplotlib.figure.Figure at 0x1178a7908>"
      ]
     },
     "metadata": {},
     "output_type": "display_data"
    }
   ],
   "source": [
    "df.hist(column='entropy',bins=10)"
   ]
  },
  {
   "cell_type": "code",
   "execution_count": null,
   "metadata": {
    "collapsed": true
   },
   "outputs": [],
   "source": []
  },
  {
   "cell_type": "code",
   "execution_count": null,
   "metadata": {
    "collapsed": true
   },
   "outputs": [],
   "source": [
    "%matplotlib inline\n",
    "data_tfidf_vector.sc"
   ]
  },
  {
   "cell_type": "code",
   "execution_count": null,
   "metadata": {
    "collapsed": true
   },
   "outputs": [],
   "source": []
  },
  {
   "cell_type": "code",
   "execution_count": null,
   "metadata": {
    "collapsed": true
   },
   "outputs": [],
   "source": []
  },
  {
   "cell_type": "code",
   "execution_count": 22,
   "metadata": {
    "collapsed": false
   },
   "outputs": [
    {
     "name": "stdout",
     "output_type": "stream",
     "text": [
      "all rows: 916\n",
      "{'mothership': 4, 'statestimesreview': 21, 'themiddleground': 2, 'allsingaporestuff': 2, 'asiaone': 30, 'hardwarezone': 389, 'sammyboy': 61, 'today': 13, 'reddit': 17, 'twitter': 2, '5082430588': 8, '5128547268': 1, '5121868643': 6, '5127789698': 8, '5105804987': 26, '5120453382': 4, '5084114749': 6, '5124040220': 4, '5124540006': 2, '5093090631': 4, '5090149007': 7, '5083363203': 1, '5127488433': 15, '5130194219': 5, '5117976663': 2, '5085433961': 2, '5120237953': 21, '5083077230': 11, '5075136108': 1, '5133691140': 7, '5084350361': 1, '5048696420': 5}\n",
      "non-repeated rows: 688\n"
     ]
    }
   ],
   "source": [
    "# remove duplicates\n",
    "import gzip\n",
    "def load_corpus(data_file, text_index, source_index):\n",
    "    data = []\n",
    "    sources = []\n",
    "    with gzip.open(data_file, 'r') as f:\n",
    "        for line in f:\n",
    "            line_arr = line.decode('utf8').split('\\t')\n",
    "            data.append(line_arr[text_index])\n",
    "            sources.append(line_arr[source_index])\n",
    "    f.close()\n",
    "    return [data, sources]\n",
    "\n",
    "data, sources = load_corpus('../data/train/NDR2016_president.tsv.gz', 2, 0)\n",
    "print(\"all rows: \" + str(len(data)))\n",
    "\n",
    "data_map = dict()\n",
    "\n",
    "\n",
    "for row, source in zip(data, sources):\n",
    "    if row not in data_map.keys():\n",
    "        data_map[row] = source\n",
    "\n",
    "source_map = dict()\n",
    "for key in data_map.keys():\n",
    "    source = data_map[key]\n",
    "    if source not in source_map.keys():\n",
    "        source_map[source] = 0\n",
    "    source_map[source] = source_map[source] + 1\n",
    "\n",
    "print(source_map)\n",
    "\n",
    "ndata = list(data_map.keys())\n",
    "print(\"non-repeated rows: \" + str(len(ndata)))\n",
    "\n",
    "\n",
    "with open('../data/train/NDR2016_president_set.tsv', 'w') as f:\n",
    "    for i in range(len(ndata)):\n",
    "        f.write(str(i) + '\\t' + ndata[i])\n",
    "f.close()"
   ]
  },
  {
   "cell_type": "code",
   "execution_count": 45,
   "metadata": {
    "collapsed": true
   },
   "outputs": [],
   "source": [
    "import numpy as np\n",
    "# calculate rank correlation\n",
    "def get_ranks(file_dir, pos_index):\n",
    "    pos = []\n",
    "    rank = []\n",
    "    i = 1\n",
    "    with open(file_dir, 'r') as f:\n",
    "        for line in f:\n",
    "            line = line.split('\\t')\n",
    "            pos.append(int(line[pos_index]))\n",
    "            rank.append(i)\n",
    "            i += 1\n",
    "    f.close()\n",
    "    \n",
    "    combined = zip(pos, rank)\n",
    "    combined = sorted(combined, key=lambda k: k[0])\n",
    "    \n",
    "    return combined\n",
    "\n",
    "# both list must be same length\n",
    "# for n unique ranks\n",
    "def get_sc(list1, list2):\n",
    "    n = len(list1)\n",
    "    sum_d_sqr = 0\n",
    "    for a, b in zip(list1, list2):\n",
    "        d = (a[1] - b[1])\n",
    "        d_sqr = d*d\n",
    "        sum_d_sqr += d_sqr\n",
    "    result = 1 - (6*sum_d_sqr)/((n)*(n*n - 1))\n",
    "    return result\n",
    "\n",
    "# for fixed range of ranks. E.g. 1-5\n",
    "def get_sc2(list1, list2):\n",
    "    n = len(list1)\n",
    "    x_scores = []\n",
    "    y_scores = []\n",
    "    for a, b in zip(list1, list2):\n",
    "        x_scores.append(a[1])\n",
    "        y_scores.append(b[1])\n",
    "    x_scores = np.array(x_scores)\n",
    "    y_scores = np.array(y_scores)\n",
    "    cov = np.cov(x_scores, y_scores)[0][1]\n",
    "    x_sd = np.std(x_scores, dtype=np.float64)\n",
    "    y_sd = np.std(y_scores, dtype=np.float64)\n",
    "    print(cov)\n",
    "    return cov / (x_sd * y_sd)\n",
    "\n",
    "    "
   ]
  },
  {
   "cell_type": "code",
   "execution_count": 46,
   "metadata": {
    "collapsed": false
   },
   "outputs": [
    {
     "data": {
      "text/plain": [
       "0.09854032296458015"
      ]
     },
     "execution_count": 46,
     "metadata": {},
     "output_type": "execute_result"
    }
   ],
   "source": [
    "lda_pos_rank = get_ranks('../data/results/lda_4_3.txt', 2)\n",
    "cluster_pos_rank = get_ranks('../data/results/ent_probdist_of_4_1.txt', 2)\n",
    "get_sc(lda_pos_rank, cluster_pos_rank)\n"
   ]
  },
  {
   "cell_type": "code",
   "execution_count": 48,
   "metadata": {
    "collapsed": false
   },
   "outputs": [
    {
     "data": {
      "text/plain": [
       "-0.1661376609291978"
      ]
     },
     "execution_count": 48,
     "metadata": {},
     "output_type": "execute_result"
    }
   ],
   "source": [
    "cluster_pos_rank = get_ranks('../data/results/ent_probdist_of_4_1.txt', 2)\n",
    "cluster_pos_rank2 = get_ranks('../data/results/ent_probdist_of_4_3.txt', 2)\n",
    "get_sc(cluster_pos_rank, cluster_pos_rank2)"
   ]
  },
  {
   "cell_type": "code",
   "execution_count": 54,
   "metadata": {
    "collapsed": false,
    "scrolled": true
   },
   "outputs": [
    {
     "name": "stdout",
     "output_type": "stream",
     "text": [
      "0.315789473684\n"
     ]
    },
    {
     "data": {
      "text/plain": [
       "0.14486365330610007"
      ]
     },
     "execution_count": 54,
     "metadata": {},
     "output_type": "execute_result"
    }
   ],
   "source": [
    "# get the list of position numbers and score\n",
    "manual_score = []\n",
    "manual_pos = []\n",
    "\n",
    "with open('../data/train/objectivity_manual_sample.tsv', 'r') as f:\n",
    "    for line in f:\n",
    "        line = line.split('\\t')\n",
    "#         print(line)\n",
    "        manual_score.append(int(line[0]))\n",
    "        manual_pos.append(int(line[1]))\n",
    "f.close()\n",
    "\n",
    "# get the 1-5 score for cluster results\n",
    "cluster_score = []\n",
    "cluster_pos = []\n",
    "score = 0\n",
    "size = len(cluster_pos_rank)\n",
    "\n",
    "for i in range(len(cluster_pos_rank)):\n",
    "    if i % (round(size/5)) == 0:\n",
    "        score += 1\n",
    "    if score == 6:\n",
    "        score = 5\n",
    "    pos = int(cluster_pos_rank[i][0])\n",
    "    if pos in manual_pos:\n",
    "        cluster_pos.append(pos)\n",
    "        cluster_score.append(score)\n",
    "\n",
    "manual_combined = zip(manual_pos, manual_score)\n",
    "manual_combined = sorted(manual_combined, key=lambda k: k[0])\n",
    "cluster_combined = zip(cluster_pos, cluster_score)\n",
    "cluster_combined = sorted(cluster_combined, key=lambda k: k[0])\n",
    "get_sc2(manual_combined,cluster_combined)"
   ]
  },
  {
   "cell_type": "code",
   "execution_count": 50,
   "metadata": {
    "collapsed": false
   },
   "outputs": [
    {
     "name": "stdout",
     "output_type": "stream",
     "text": [
      "0.315789473684\n"
     ]
    },
    {
     "data": {
      "text/plain": [
       "0.14486365330610007"
      ]
     },
     "execution_count": 50,
     "metadata": {},
     "output_type": "execute_result"
    }
   ],
   "source": [
    "# get the 1-5 score for cluster results\n",
    "lda_score = []\n",
    "lda_pos = []\n",
    "score = 0\n",
    "size = len(lda_pos_rank)\n",
    "\n",
    "for i in range(len(lda_pos_rank)):\n",
    "    if i % (round(size/5)) == 0:\n",
    "        score += 1\n",
    "    if score == 6:\n",
    "        score = 5\n",
    "    pos = int(lda_pos_rank[i][0])\n",
    "    if pos in manual_pos:\n",
    "        lda_pos.append(pos)\n",
    "        lda_score.append(score)\n",
    "\n",
    "lda_combined = zip(cluster_pos, cluster_score)\n",
    "lda_combined = sorted(cluster_combined, key=lambda k: k[0])\n",
    "get_sc2(manual_combined,lda_combined)"
   ]
  },
  {
   "cell_type": "code",
   "execution_count": 30,
   "metadata": {
    "collapsed": false
   },
   "outputs": [
    {
     "data": {
      "text/plain": [
       "[(13, 1),\n",
       " (22, 3),\n",
       " (57, 3),\n",
       " (60, 5),\n",
       " (85, 2),\n",
       " (156, 5),\n",
       " (161, 2),\n",
       " (192, 4),\n",
       " (269, 3),\n",
       " (307, 1),\n",
       " (328, 1),\n",
       " (335, 2),\n",
       " (340, 1),\n",
       " (370, 4),\n",
       " (385, 5),\n",
       " (577, 5),\n",
       " (618, 4),\n",
       " (619, 2),\n",
       " (637, 2),\n",
       " (681, 5)]"
      ]
     },
     "execution_count": 30,
     "metadata": {},
     "output_type": "execute_result"
    }
   ],
   "source": [
    "manual_combined"
   ]
  },
  {
   "cell_type": "code",
   "execution_count": 31,
   "metadata": {
    "collapsed": false
   },
   "outputs": [
    {
     "data": {
      "text/plain": [
       "[(13, 1),\n",
       " (22, 1),\n",
       " (57, 1),\n",
       " (60, 1),\n",
       " (85, 1),\n",
       " (156, 2),\n",
       " (161, 2),\n",
       " (192, 2),\n",
       " (269, 2),\n",
       " (307, 3),\n",
       " (328, 3),\n",
       " (335, 3),\n",
       " (340, 3),\n",
       " (370, 3),\n",
       " (385, 3),\n",
       " (577, 5),\n",
       " (618, 5),\n",
       " (619, 5),\n",
       " (637, 5),\n",
       " (681, 5)]"
      ]
     },
     "execution_count": 31,
     "metadata": {},
     "output_type": "execute_result"
    }
   ],
   "source": [
    "cluster_combined\n"
   ]
  },
  {
   "cell_type": "code",
   "execution_count": 32,
   "metadata": {
    "collapsed": false
   },
   "outputs": [
    {
     "data": {
      "text/plain": [
       "[(0, 688),\n",
       " (1, 627),\n",
       " (2, 343),\n",
       " (3, 209),\n",
       " (4, 68),\n",
       " (5, 635),\n",
       " (6, 658),\n",
       " (7, 268),\n",
       " (8, 305),\n",
       " (9, 439),\n",
       " (10, 481),\n",
       " (11, 42),\n",
       " (12, 348),\n",
       " (13, 523),\n",
       " (14, 345),\n",
       " (15, 423),\n",
       " (16, 647),\n",
       " (17, 657),\n",
       " (18, 520),\n",
       " (19, 98),\n",
       " (20, 579),\n",
       " (21, 288),\n",
       " (22, 653),\n",
       " (23, 221),\n",
       " (24, 130),\n",
       " (25, 107),\n",
       " (26, 356),\n",
       " (27, 138),\n",
       " (28, 626),\n",
       " (29, 562),\n",
       " (30, 3),\n",
       " (31, 437),\n",
       " (32, 23),\n",
       " (33, 402),\n",
       " (34, 72),\n",
       " (35, 77),\n",
       " (36, 438),\n",
       " (37, 303),\n",
       " (38, 530),\n",
       " (39, 11),\n",
       " (40, 110),\n",
       " (41, 135),\n",
       " (42, 390),\n",
       " (43, 590),\n",
       " (44, 325),\n",
       " (45, 540),\n",
       " (46, 400),\n",
       " (47, 409),\n",
       " (48, 441),\n",
       " (49, 502),\n",
       " (50, 560),\n",
       " (51, 309),\n",
       " (52, 322),\n",
       " (53, 333),\n",
       " (54, 397),\n",
       " (55, 226),\n",
       " (56, 624),\n",
       " (57, 193),\n",
       " (58, 144),\n",
       " (59, 65),\n",
       " (60, 163),\n",
       " (61, 340),\n",
       " (62, 598),\n",
       " (63, 224),\n",
       " (64, 652),\n",
       " (65, 457),\n",
       " (66, 350),\n",
       " (67, 408),\n",
       " (68, 473),\n",
       " (69, 546),\n",
       " (70, 111),\n",
       " (71, 222),\n",
       " (72, 430),\n",
       " (73, 109),\n",
       " (74, 571),\n",
       " (75, 315),\n",
       " (76, 501),\n",
       " (77, 519),\n",
       " (78, 22),\n",
       " (79, 210),\n",
       " (80, 247),\n",
       " (81, 53),\n",
       " (82, 143),\n",
       " (83, 202),\n",
       " (84, 323),\n",
       " (85, 153),\n",
       " (86, 46),\n",
       " (87, 289),\n",
       " (88, 411),\n",
       " (89, 601),\n",
       " (90, 483),\n",
       " (91, 357),\n",
       " (92, 172),\n",
       " (93, 512),\n",
       " (94, 304),\n",
       " (95, 191),\n",
       " (96, 187),\n",
       " (97, 9),\n",
       " (98, 154),\n",
       " (99, 141),\n",
       " (100, 139),\n",
       " (101, 488),\n",
       " (102, 651),\n",
       " (103, 385),\n",
       " (104, 549),\n",
       " (105, 486),\n",
       " (106, 427),\n",
       " (107, 278),\n",
       " (108, 263),\n",
       " (109, 16),\n",
       " (110, 27),\n",
       " (111, 461),\n",
       " (112, 151),\n",
       " (113, 217),\n",
       " (114, 511),\n",
       " (115, 117),\n",
       " (116, 272),\n",
       " (117, 456),\n",
       " (118, 91),\n",
       " (119, 189),\n",
       " (120, 237),\n",
       " (121, 249),\n",
       " (122, 538),\n",
       " (123, 638),\n",
       " (124, 313),\n",
       " (125, 204),\n",
       " (126, 97),\n",
       " (127, 177),\n",
       " (128, 545),\n",
       " (129, 324),\n",
       " (130, 159),\n",
       " (131, 607),\n",
       " (132, 443),\n",
       " (133, 79),\n",
       " (134, 220),\n",
       " (135, 146),\n",
       " (136, 140),\n",
       " (137, 197),\n",
       " (138, 685),\n",
       " (139, 179),\n",
       " (140, 405),\n",
       " (141, 499),\n",
       " (142, 43),\n",
       " (143, 260),\n",
       " (144, 485),\n",
       " (145, 195),\n",
       " (146, 515),\n",
       " (147, 680),\n",
       " (148, 173),\n",
       " (149, 478),\n",
       " (150, 526),\n",
       " (151, 145),\n",
       " (152, 469),\n",
       " (153, 476),\n",
       " (154, 336),\n",
       " (155, 7),\n",
       " (156, 586),\n",
       " (157, 84),\n",
       " (158, 464),\n",
       " (159, 576),\n",
       " (160, 361),\n",
       " (161, 434),\n",
       " (162, 331),\n",
       " (163, 521),\n",
       " (164, 8),\n",
       " (165, 269),\n",
       " (166, 194),\n",
       " (167, 675),\n",
       " (168, 668),\n",
       " (169, 255),\n",
       " (170, 566),\n",
       " (171, 267),\n",
       " (172, 127),\n",
       " (173, 575),\n",
       " (174, 407),\n",
       " (175, 595),\n",
       " (176, 184),\n",
       " (177, 101),\n",
       " (178, 319),\n",
       " (179, 593),\n",
       " (180, 1),\n",
       " (181, 334),\n",
       " (182, 403),\n",
       " (183, 252),\n",
       " (184, 155),\n",
       " (185, 15),\n",
       " (186, 233),\n",
       " (187, 238),\n",
       " (188, 66),\n",
       " (189, 347),\n",
       " (190, 212),\n",
       " (191, 50),\n",
       " (192, 605),\n",
       " (193, 167),\n",
       " (194, 75),\n",
       " (195, 559),\n",
       " (196, 253),\n",
       " (197, 198),\n",
       " (198, 346),\n",
       " (199, 244),\n",
       " (200, 489),\n",
       " (201, 49),\n",
       " (202, 570),\n",
       " (203, 251),\n",
       " (204, 116),\n",
       " (205, 35),\n",
       " (206, 367),\n",
       " (207, 654),\n",
       " (208, 78),\n",
       " (209, 634),\n",
       " (210, 415),\n",
       " (211, 275),\n",
       " (212, 642),\n",
       " (213, 666),\n",
       " (214, 584),\n",
       " (215, 604),\n",
       " (216, 25),\n",
       " (217, 471),\n",
       " (218, 383),\n",
       " (219, 351),\n",
       " (220, 631),\n",
       " (221, 287),\n",
       " (222, 63),\n",
       " (223, 371),\n",
       " (224, 26),\n",
       " (225, 374),\n",
       " (226, 517),\n",
       " (227, 250),\n",
       " (228, 332),\n",
       " (229, 148),\n",
       " (230, 569),\n",
       " (231, 165),\n",
       " (232, 564),\n",
       " (233, 326),\n",
       " (234, 683),\n",
       " (235, 96),\n",
       " (236, 234),\n",
       " (237, 513),\n",
       " (238, 327),\n",
       " (239, 516),\n",
       " (240, 160),\n",
       " (241, 10),\n",
       " (242, 118),\n",
       " (243, 214),\n",
       " (244, 616),\n",
       " (245, 4),\n",
       " (246, 414),\n",
       " (247, 669),\n",
       " (248, 58),\n",
       " (249, 617),\n",
       " (250, 487),\n",
       " (251, 243),\n",
       " (252, 531),\n",
       " (253, 120),\n",
       " (254, 142),\n",
       " (255, 591),\n",
       " (256, 533),\n",
       " (257, 57),\n",
       " (258, 618),\n",
       " (259, 6),\n",
       " (260, 182),\n",
       " (261, 620),\n",
       " (262, 67),\n",
       " (263, 541),\n",
       " (264, 622),\n",
       " (265, 633),\n",
       " (266, 472),\n",
       " (267, 467),\n",
       " (268, 534),\n",
       " (269, 71),\n",
       " (270, 200),\n",
       " (271, 465),\n",
       " (272, 39),\n",
       " (273, 429),\n",
       " (274, 446),\n",
       " (275, 359),\n",
       " (276, 86),\n",
       " (277, 31),\n",
       " (278, 661),\n",
       " (279, 552),\n",
       " (280, 36),\n",
       " (281, 366),\n",
       " (282, 19),\n",
       " (283, 474),\n",
       " (284, 596),\n",
       " (285, 394),\n",
       " (286, 298),\n",
       " (287, 484),\n",
       " (288, 673),\n",
       " (289, 81),\n",
       " (290, 580),\n",
       " (291, 551),\n",
       " (292, 365),\n",
       " (293, 358),\n",
       " (294, 270),\n",
       " (295, 614),\n",
       " (296, 180),\n",
       " (297, 150),\n",
       " (298, 493),\n",
       " (299, 240),\n",
       " (300, 674),\n",
       " (301, 64),\n",
       " (302, 458),\n",
       " (303, 215),\n",
       " (304, 470),\n",
       " (305, 480),\n",
       " (306, 503),\n",
       " (307, 384),\n",
       " (308, 80),\n",
       " (309, 672),\n",
       " (310, 455),\n",
       " (311, 261),\n",
       " (312, 54),\n",
       " (313, 563),\n",
       " (314, 2),\n",
       " (315, 660),\n",
       " (316, 256),\n",
       " (317, 442),\n",
       " (318, 169),\n",
       " (319, 612),\n",
       " (320, 14),\n",
       " (321, 432),\n",
       " (322, 602),\n",
       " (323, 286),\n",
       " (324, 373),\n",
       " (325, 536),\n",
       " (326, 621),\n",
       " (327, 490),\n",
       " (328, 518),\n",
       " (329, 55),\n",
       " (330, 156),\n",
       " (331, 344),\n",
       " (332, 492),\n",
       " (333, 539),\n",
       " (334, 329),\n",
       " (335, 213),\n",
       " (336, 507),\n",
       " (337, 302),\n",
       " (338, 449),\n",
       " (339, 223),\n",
       " (340, 254),\n",
       " (341, 548),\n",
       " (342, 93),\n",
       " (343, 282),\n",
       " (344, 588),\n",
       " (345, 131),\n",
       " (346, 44),\n",
       " (347, 528),\n",
       " (348, 100),\n",
       " (349, 60),\n",
       " (350, 219),\n",
       " (351, 34),\n",
       " (352, 203),\n",
       " (353, 425),\n",
       " (354, 459),\n",
       " (355, 152),\n",
       " (356, 436),\n",
       " (357, 82),\n",
       " (358, 410),\n",
       " (359, 353),\n",
       " (360, 40),\n",
       " (361, 369),\n",
       " (362, 462),\n",
       " (363, 468),\n",
       " (364, 572),\n",
       " (365, 404),\n",
       " (366, 208),\n",
       " (367, 592),\n",
       " (368, 119),\n",
       " (369, 435),\n",
       " (370, 644),\n",
       " (371, 328),\n",
       " (372, 242),\n",
       " (373, 558),\n",
       " (374, 183),\n",
       " (375, 239),\n",
       " (376, 610),\n",
       " (377, 285),\n",
       " (378, 235),\n",
       " (379, 380),\n",
       " (380, 413),\n",
       " (381, 608),\n",
       " (382, 128),\n",
       " (383, 87),\n",
       " (384, 600),\n",
       " (385, 406),\n",
       " (386, 13),\n",
       " (387, 199),\n",
       " (388, 662),\n",
       " (389, 387),\n",
       " (390, 581),\n",
       " (391, 317),\n",
       " (392, 388),\n",
       " (393, 639),\n",
       " (394, 637),\n",
       " (395, 656),\n",
       " (396, 216),\n",
       " (397, 398),\n",
       " (398, 170),\n",
       " (399, 206),\n",
       " (400, 30),\n",
       " (401, 355),\n",
       " (402, 12),\n",
       " (403, 589),\n",
       " (404, 102),\n",
       " (405, 264),\n",
       " (406, 532),\n",
       " (407, 335),\n",
       " (408, 417),\n",
       " (409, 381),\n",
       " (410, 320),\n",
       " (411, 341),\n",
       " (412, 279),\n",
       " (413, 115),\n",
       " (414, 525),\n",
       " (415, 294),\n",
       " (416, 452),\n",
       " (417, 497),\n",
       " (418, 679),\n",
       " (419, 299),\n",
       " (420, 376),\n",
       " (421, 259),\n",
       " (422, 362),\n",
       " (423, 308),\n",
       " (424, 105),\n",
       " (425, 450),\n",
       " (426, 161),\n",
       " (427, 108),\n",
       " (428, 92),\n",
       " (429, 615),\n",
       " (430, 99),\n",
       " (431, 574),\n",
       " (432, 18),\n",
       " (433, 246),\n",
       " (434, 482),\n",
       " (435, 337),\n",
       " (436, 670),\n",
       " (437, 440),\n",
       " (438, 123),\n",
       " (439, 134),\n",
       " (440, 641),\n",
       " (441, 655),\n",
       " (442, 379),\n",
       " (443, 258),\n",
       " (444, 314),\n",
       " (445, 37),\n",
       " (446, 396),\n",
       " (447, 463),\n",
       " (448, 354),\n",
       " (449, 122),\n",
       " (450, 547),\n",
       " (451, 418),\n",
       " (452, 190),\n",
       " (453, 265),\n",
       " (454, 643),\n",
       " (455, 529),\n",
       " (456, 650),\n",
       " (457, 207),\n",
       " (458, 419),\n",
       " (459, 38),\n",
       " (460, 445),\n",
       " (461, 677),\n",
       " (462, 24),\n",
       " (463, 514),\n",
       " (464, 649),\n",
       " (465, 377),\n",
       " (466, 625),\n",
       " (467, 74),\n",
       " (468, 301),\n",
       " (469, 262),\n",
       " (470, 491),\n",
       " (471, 504),\n",
       " (472, 609),\n",
       " (473, 277),\n",
       " (474, 176),\n",
       " (475, 630),\n",
       " (476, 124),\n",
       " (477, 114),\n",
       " (478, 555),\n",
       " (479, 158),\n",
       " (480, 113),\n",
       " (481, 557),\n",
       " (482, 611),\n",
       " (483, 292),\n",
       " (484, 363),\n",
       " (485, 676),\n",
       " (486, 236),\n",
       " (487, 227),\n",
       " (488, 448),\n",
       " (489, 368),\n",
       " (490, 496),\n",
       " (491, 364),\n",
       " (492, 296),\n",
       " (493, 69),\n",
       " (494, 28),\n",
       " (495, 582),\n",
       " (496, 378),\n",
       " (497, 33),\n",
       " (498, 338),\n",
       " (499, 178),\n",
       " (500, 293),\n",
       " (501, 29),\n",
       " (502, 61),\n",
       " (503, 682),\n",
       " (504, 330),\n",
       " (505, 284),\n",
       " (506, 281),\n",
       " (507, 678),\n",
       " (508, 475),\n",
       " (509, 393),\n",
       " (510, 76),\n",
       " (511, 307),\n",
       " (512, 594),\n",
       " (513, 509),\n",
       " (514, 495),\n",
       " (515, 508),\n",
       " (516, 280),\n",
       " (517, 157),\n",
       " (518, 352),\n",
       " (519, 392),\n",
       " (520, 506),\n",
       " (521, 599),\n",
       " (522, 48),\n",
       " (523, 537),\n",
       " (524, 290),\n",
       " (525, 316),\n",
       " (526, 686),\n",
       " (527, 613),\n",
       " (528, 542),\n",
       " (529, 94),\n",
       " (530, 245),\n",
       " (531, 241),\n",
       " (532, 349),\n",
       " (533, 567),\n",
       " (534, 667),\n",
       " (535, 133),\n",
       " (536, 603),\n",
       " (537, 444),\n",
       " (538, 646),\n",
       " (539, 395),\n",
       " (540, 95),\n",
       " (541, 166),\n",
       " (542, 52),\n",
       " (543, 550),\n",
       " (544, 543),\n",
       " (545, 136),\n",
       " (546, 201),\n",
       " (547, 273),\n",
       " (548, 431),\n",
       " (549, 399),\n",
       " (550, 360),\n",
       " (551, 500),\n",
       " (552, 32),\n",
       " (553, 83),\n",
       " (554, 218),\n",
       " (555, 577),\n",
       " (556, 447),\n",
       " (557, 225),\n",
       " (558, 628),\n",
       " (559, 17),\n",
       " (560, 321),\n",
       " (561, 211),\n",
       " (562, 125),\n",
       " (563, 164),\n",
       " (564, 318),\n",
       " (565, 45),\n",
       " (566, 73),\n",
       " (567, 230),\n",
       " (568, 619),\n",
       " (569, 248),\n",
       " (570, 510),\n",
       " (571, 426),\n",
       " (572, 479),\n",
       " (573, 171),\n",
       " (574, 274),\n",
       " (575, 129),\n",
       " (576, 422),\n",
       " (577, 663),\n",
       " (578, 553),\n",
       " (579, 89),\n",
       " (580, 188),\n",
       " (581, 556),\n",
       " (582, 312),\n",
       " (583, 5),\n",
       " (584, 192),\n",
       " (585, 283),\n",
       " (586, 636),\n",
       " (587, 20),\n",
       " (588, 103),\n",
       " (589, 370),\n",
       " (590, 104),\n",
       " (591, 578),\n",
       " (592, 391),\n",
       " (593, 112),\n",
       " (594, 498),\n",
       " (595, 494),\n",
       " (596, 174),\n",
       " (597, 149),\n",
       " (598, 687),\n",
       " (599, 606),\n",
       " (600, 56),\n",
       " (601, 416),\n",
       " (602, 671),\n",
       " (603, 505),\n",
       " (604, 276),\n",
       " (605, 386),\n",
       " (606, 524),\n",
       " (607, 175),\n",
       " (608, 257),\n",
       " (609, 664),\n",
       " (610, 681),\n",
       " (611, 168),\n",
       " (612, 433),\n",
       " (613, 147),\n",
       " (614, 228),\n",
       " (615, 85),\n",
       " (616, 372),\n",
       " (617, 300),\n",
       " (618, 231),\n",
       " (619, 232),\n",
       " (620, 623),\n",
       " (621, 59),\n",
       " (622, 186),\n",
       " (623, 311),\n",
       " (624, 535),\n",
       " (625, 412),\n",
       " (626, 339),\n",
       " (627, 665),\n",
       " (628, 51),\n",
       " (629, 544),\n",
       " (630, 126),\n",
       " (631, 297),\n",
       " (632, 181),\n",
       " (633, 271),\n",
       " (634, 453),\n",
       " (635, 132),\n",
       " (636, 420),\n",
       " (637, 640),\n",
       " (638, 585),\n",
       " (639, 306),\n",
       " (640, 90),\n",
       " (641, 41),\n",
       " (642, 121),\n",
       " (643, 62),\n",
       " (644, 659),\n",
       " (645, 375),\n",
       " (646, 454),\n",
       " (647, 583),\n",
       " (648, 522),\n",
       " (649, 88),\n",
       " (650, 70),\n",
       " (651, 573),\n",
       " (652, 565),\n",
       " (653, 266),\n",
       " (654, 424),\n",
       " (655, 632),\n",
       " (656, 205),\n",
       " (657, 389),\n",
       " (658, 428),\n",
       " (659, 648),\n",
       " (660, 291),\n",
       " (661, 629),\n",
       " (662, 106),\n",
       " (663, 684),\n",
       " (664, 47),\n",
       " (665, 342),\n",
       " (666, 460),\n",
       " (667, 587),\n",
       " (668, 597),\n",
       " (669, 196),\n",
       " (670, 466),\n",
       " (671, 185),\n",
       " (672, 451),\n",
       " (673, 421),\n",
       " (674, 554),\n",
       " (675, 477),\n",
       " (676, 295),\n",
       " (677, 568),\n",
       " (678, 401),\n",
       " (679, 21),\n",
       " (680, 310),\n",
       " (681, 382),\n",
       " (682, 527),\n",
       " (683, 162),\n",
       " (684, 229),\n",
       " (685, 645),\n",
       " (686, 137),\n",
       " (687, 561)]"
      ]
     },
     "execution_count": 32,
     "metadata": {},
     "output_type": "execute_result"
    }
   ],
   "source": [
    "cluster_pos_rank"
   ]
  },
  {
   "cell_type": "code",
   "execution_count": null,
   "metadata": {
    "collapsed": true
   },
   "outputs": [],
   "source": []
  },
  {
   "cell_type": "code",
   "execution_count": null,
   "metadata": {
    "collapsed": true
   },
   "outputs": [],
   "source": []
  },
  {
   "cell_type": "code",
   "execution_count": null,
   "metadata": {
    "collapsed": true
   },
   "outputs": [],
   "source": []
  },
  {
   "cell_type": "markdown",
   "metadata": {},
   "source": [
    "# Obtain all posts related to ['elected presidency','eligibility criteria','minority representation'] from each data source"
   ]
  },
  {
   "cell_type": "code",
   "execution_count": null,
   "metadata": {
    "collapsed": true
   },
   "outputs": [],
   "source": [
    "%run ../src/models/objectivity_train.py --data ../data/train/NDR2016_president.tsv.gz --predict True --num_topics 5 --threshold 80 --topics ../data/results/president_topics3.txt --output ../data/results/president_labels_3.txt  "
   ]
  }
 ],
 "metadata": {
  "kernelspec": {
   "display_name": "Python 3",
   "language": "python",
   "name": "python3"
  },
  "language_info": {
   "codemirror_mode": {
    "name": "ipython",
    "version": 3
   },
   "file_extension": ".py",
   "mimetype": "text/x-python",
   "name": "python",
   "nbconvert_exporter": "python",
   "pygments_lexer": "ipython3",
   "version": "3.6.1"
  }
 },
 "nbformat": 4,
 "nbformat_minor": 2
}
