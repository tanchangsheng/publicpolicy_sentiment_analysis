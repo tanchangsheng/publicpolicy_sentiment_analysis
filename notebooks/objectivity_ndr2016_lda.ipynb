{
 "cells": [
  {
   "cell_type": "markdown",
   "metadata": {},
   "source": [
    "# Obtain all posts related to ['elected presidency','eligibility criteria','minority representation'] from each data source"
   ]
  },
  {
   "cell_type": "code",
   "execution_count": 29,
   "metadata": {
    "collapsed": false
   },
   "outputs": [],
   "source": [
    "# from blog comments\n",
    "\n",
    "%run ../src/data/ndr_sort_data.py ../data/raw/NDR2016_blog_comments_original.tsv 1 7 8 \"elected presidency,eligibility criteria,minority representation\" ../data/raw/NDR2016_blog_comments.tsv"
   ]
  },
  {
   "cell_type": "code",
   "execution_count": 30,
   "metadata": {
    "collapsed": false
   },
   "outputs": [],
   "source": [
    "# from forum posts\n",
    "\n",
    "%run ../src/data/ndr_sort_data.py ../data/raw/NDR2016_forum_posts_original.tsv 1 4 5 \"elected presidency,eligibility criteria,minority representation\" ../data/raw/NDR2016_forum_posts.tsv"
   ]
  },
  {
   "cell_type": "code",
   "execution_count": 31,
   "metadata": {
    "collapsed": true
   },
   "outputs": [],
   "source": [
    "# from msm article comments\n",
    "\n",
    "%run ../src/data/ndr_sort_data.py ../data/raw/NDR2016_msm_article_comments_original.tsv 4 8 9 \"elected presidency,eligibility criteria,minority representation\" ../data/raw/NDR2016_msm_article_comments.tsv"
   ]
  },
  {
   "cell_type": "code",
   "execution_count": 32,
   "metadata": {
    "collapsed": true
   },
   "outputs": [],
   "source": [
    "# from reddit comments\n",
    "\n",
    "%run ../src/data/ndr_sort_data.py ../data/raw/NDR2016_reddit_comments_original.tsv 1 8 9 \"elected presidency,eligibility criteria,minority representation\" ../data/raw/NDR2016_reddit_comments.tsv"
   ]
  },
  {
   "cell_type": "code",
   "execution_count": 33,
   "metadata": {
    "collapsed": true
   },
   "outputs": [],
   "source": [
    "# from tweets\n",
    "\n",
    "%run ../src/data/ndr_sort_data.py ../data/raw/NDR2016_reply_tweets_original.tsv 1 3 6 \"elected presidency,eligibility criteria,minority representation\" ../data/raw/NDR2016_reply_tweets.tsv"
   ]
  },
  {
   "cell_type": "code",
   "execution_count": 34,
   "metadata": {
    "collapsed": true
   },
   "outputs": [],
   "source": [
    "# from theonlinecitizen comments\n",
    "\n",
    "%run ../src/data/ndr_sort_data.py ../data/raw/NDR2016_theonlinecitizen_disqus_comments_orginial.tsv 2 8 9 \"elected presidency,eligibility criteria,minority representation\" ../data/raw/NDR2016_theonlinecitizen_disqus_comments.tsv"
   ]
  },
  {
   "cell_type": "code",
   "execution_count": null,
   "metadata": {
    "collapsed": true
   },
   "outputs": [],
   "source": []
  },
  {
   "cell_type": "code",
   "execution_count": null,
   "metadata": {
    "collapsed": true
   },
   "outputs": [],
   "source": []
  },
  {
   "cell_type": "markdown",
   "metadata": {},
   "source": [
    "## Automate topic number and percentile selection \n",
    "Finds the number of topic and percentile threshold that gives best results based on f1 measure"
   ]
  },
  {
   "cell_type": "code",
   "execution_count": 1,
   "metadata": {
    "collapsed": false
   },
   "outputs": [],
   "source": [
    "import os\n",
    "import sys\n",
    "\n",
    "# add the 'src' directory as one where we can import modules\n",
    "# os.pardir refers to parent directory. \n",
    "# src_dir = os.path.join(os.getcwd(), '../src') => works the same\n",
    "src_dir = os.path.join(os.getcwd(), os.pardir, 'src')\n",
    "sys.path.append(src_dir)\n",
    "\n",
    "# Load the \"autoreload\" extension\n",
    "%load_ext autoreload\n",
    "# always reload modules marked with \"%aimport\"\n",
    "%autoreload 2\n",
    "\n",
    "\n"
   ]
  },
  {
   "cell_type": "code",
   "execution_count": 69,
   "metadata": {
    "collapsed": false
   },
   "outputs": [
    {
     "name": "stdout",
     "output_type": "stream",
     "text": [
      "original dictionary\n",
      "Dictionary(4533 unique tokens: ['erm', 'wrote', 'quoted', 'provision', 'carefully']...)\n",
      "dictionary after reducing redundant features\n",
      "Dictionary(1762 unique tokens: ['wrote', 'provision', 'avoid', 'wee', 'kim']...)\n"
     ]
    }
   ],
   "source": [
    "%run ../src/models/objectivity_train.py --data ../data/train/NDR2016_president.tsv.gz --label_index 1 --text_index 2 --predict True --num_topics 10 --threshold 50 --topics ../data/results/president_topics1.txt --output ../data/results/president_labels_1.txt  "
   ]
  },
  {
   "cell_type": "code",
   "execution_count": 16,
   "metadata": {
    "collapsed": false
   },
   "outputs": [
    {
     "name": "stdout",
     "output_type": "stream",
     "text": [
      "original dictionary\n",
      "Dictionary(4533 unique tokens: ['erm', 'wrote', 'quoted', 'provision', 'carefully']...)\n",
      "dictionary after reducing redundant features\n",
      "Dictionary(1762 unique tokens: ['wrote', 'provision', 'avoid', 'wee', 'kim']...)\n",
      "mean 0.116720559025\n",
      "med 0.105682177201\n",
      "std 0.0940204787574\n",
      "var 0.00883985042576\n",
      "max 0.464385618977\n",
      "min 0.000524979640714\n",
      "184 / 916 or 0.2 labelled as objective.\n",
      "Successfully labelled corpus and saved results at ../data/results/president_labels_3.txt\n"
     ]
    }
   ],
   "source": [
    "%run ../src/models/objectivity_train.py --data ../data/train/NDR2016_president.tsv.gz --predict True --num_topics 5 --threshold 80 --topics ../data/results/president_topics3.txt --output ../data/results/president_labels_3.txt  "
   ]
  },
  {
   "cell_type": "code",
   "execution_count": 5,
   "metadata": {
    "collapsed": false
   },
   "outputs": [
    {
     "name": "stdout",
     "output_type": "stream",
     "text": [
      "original dictionary\n",
      "Dictionary(4533 unique tokens: ['erm', 'wrote', 'quoted', 'provision', 'carefully']...)\n",
      "dictionary after reducing redundant features\n",
      "Dictionary(1762 unique tokens: ['wrote', 'provision', 'avoid', 'wee', 'kim']...)\n",
      "mean 0.0599370621131\n",
      "med 0.0113090527689\n",
      "std 0.0644469832156\n",
      "var 0.00415341364559\n",
      "max 0.332192809489\n",
      "min 0.000282668550502\n",
      "184 / 916 or 0.2 labelled as objective.\n",
      "Successfully labelled corpus and saved results at ../data/results/president_labels_4.txt\n"
     ]
    }
   ],
   "source": [
    "%run ../src/models/objectivity_train.py --data ../data/train/NDR2016_president.tsv.gz --predict True --num_topics 10 --threshold 80 --topics ../data/results/president_topics4.txt --output ../data/results/president_labels_4.txt  "
   ]
  },
  {
   "cell_type": "code",
   "execution_count": 13,
   "metadata": {
    "collapsed": false
   },
   "outputs": [
    {
     "name": "stdout",
     "output_type": "stream",
     "text": [
      "688\n",
      "original dictionary\n",
      "Dictionary(4533 unique tokens: ['scrap', 'president', 'position', 'waste', 'taxpayer']...)\n",
      "dictionary after reducing redundant features\n",
      "Dictionary(1427 unique tokens: ['scrap', 'position', 'waste', 'taxpayer', 'money']...)\n"
     ]
    }
   ],
   "source": [
    "%run ../src/models/objectivity_train.py --data ../data/train/NDR2016_president.tsv.gz --predict True --num_topics 4 --text_index 2 --topics ../data/results/president_topics4.txt --output ../data/results/lda_4.txt  "
   ]
  },
  {
   "cell_type": "code",
   "execution_count": 6,
   "metadata": {
    "collapsed": false
   },
   "outputs": [
    {
     "name": "stdout",
     "output_type": "stream",
     "text": [
      "688\n",
      "original dictionary\n",
      "Dictionary(4533 unique tokens: ['confident', 'competent', 'intelligent', 'leader', 'committed']...)\n",
      "dictionary after reducing redundant features\n",
      "Dictionary(1427 unique tokens: ['intelligent', 'leader', 'heart', 'give', 'nation']...)\n"
     ]
    }
   ],
   "source": [
    "%run ../src/models/objectivity_train.py --data ../data/train/NDR2016_president_set.tsv.gz --predict True --num_topics 4 --text_index 1 --pos_index 0 --topics ../data/results/president_topics_4_3.txt --output ../data/results/lda_4_3.txt  "
   ]
  },
  {
   "cell_type": "code",
   "execution_count": null,
   "metadata": {
    "collapsed": true
   },
   "outputs": [],
   "source": []
  }
 ],
 "metadata": {
  "kernelspec": {
   "display_name": "Python 3",
   "language": "python",
   "name": "python3"
  },
  "language_info": {
   "codemirror_mode": {
    "name": "ipython",
    "version": 3
   },
   "file_extension": ".py",
   "mimetype": "text/x-python",
   "name": "python",
   "nbconvert_exporter": "python",
   "pygments_lexer": "ipython3",
   "version": "3.6.1"
  }
 },
 "nbformat": 4,
 "nbformat_minor": 2
}
