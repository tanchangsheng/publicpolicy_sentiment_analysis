{
 "cells": [
  {
   "cell_type": "code",
   "execution_count": 1,
   "metadata": {
    "collapsed": true
   },
   "outputs": [],
   "source": [
    "import os\n",
    "import sys\n",
    "\n",
    "# add the 'src' directory as one where we can import modules\n",
    "# os.pardir refers to parent directory. \n",
    "# src_dir = os.path.join(os.getcwd(), '../src') => works the same\n",
    "src_dir = os.path.join(os.getcwd(), os.pardir, 'src')\n",
    "sys.path.append(src_dir)\n",
    "\n",
    "# Load the \"autoreload\" extension\n",
    "%load_ext autoreload\n",
    "# always reload modules marked with \"%aimport\"\n",
    "%autoreload 2"
   ]
  },
  {
   "cell_type": "code",
   "execution_count": 20,
   "metadata": {
    "collapsed": false
   },
   "outputs": [
    {
     "name": "stdout",
     "output_type": "stream",
     "text": [
      "data : ../data/train/emotion-large.2-label.tsv.gz\n",
      "id_index : 0\n",
      "text_index : 1\n",
      "vtr : ../models/exp6_vtr_dict\n",
      "clf : ../models/exp6_clf_lr\n",
      "output : ../data/results/emo_1\n",
      "preprocess : True\n",
      "stop_words : False\n",
      "feat : count\n",
      "emotion_words : None\n",
      "lsd_words : None\n",
      "emoticons : None\n",
      "word_feature : False\n",
      "ngrams : None\n",
      "fiveWoneH : None\n",
      "pos : False\n"
     ]
    }
   ],
   "source": [
    "%run ../src/models/predict_model.py --data ../data/train/emotion-large.2-label.tsv.gz --vtr ../models/exp6_vtr_dict --clf ../models/exp6_clf_lr --output ../data/results/emo_1"
   ]
  },
  {
   "cell_type": "code",
   "execution_count": null,
   "metadata": {
    "collapsed": true
   },
   "outputs": [],
   "source": []
  }
 ],
 "metadata": {
  "kernelspec": {
   "display_name": "Python 3",
   "language": "python",
   "name": "python3"
  },
  "language_info": {
   "codemirror_mode": {
    "name": "ipython",
    "version": 3
   },
   "file_extension": ".py",
   "mimetype": "text/x-python",
   "name": "python",
   "nbconvert_exporter": "python",
   "pygments_lexer": "ipython3",
   "version": "3.6.1"
  }
 },
 "nbformat": 4,
 "nbformat_minor": 2
}
