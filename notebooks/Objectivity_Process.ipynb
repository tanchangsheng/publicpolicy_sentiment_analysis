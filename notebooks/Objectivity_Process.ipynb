{
 "cells": [
  {
   "cell_type": "code",
   "execution_count": 1,
   "metadata": {
    "collapsed": true
   },
   "outputs": [],
   "source": [
    "import os\n",
    "import sys\n",
    "\n",
    "# add the 'src' directory as one where we can import modules\n",
    "# os.pardir refers to parent directory. \n",
    "# src_dir = os.path.join(os.getcwd(), '../src') => works the same\n",
    "src_dir = os.path.join(os.getcwd(), os.pardir, 'src')\n",
    "sys.path.append(src_dir)\n",
    "\n",
    "# Load the \"autoreload\" extension\n",
    "%load_ext autoreload\n",
    "# always reload modules marked with \"%aimport\"\n",
    "%autoreload 2\n",
    "\n"
   ]
  },
  {
   "cell_type": "markdown",
   "metadata": {},
   "source": [
    "# Method for visualisation"
   ]
  },
  {
   "cell_type": "code",
   "execution_count": 2,
   "metadata": {
    "collapsed": true
   },
   "outputs": [],
   "source": [
    "import pandas as pd\n",
    "import matplotlib.pyplot as plt\n",
    "%matplotlib inline\n",
    "\n",
    "def get_ent_visual(file_dir):\n",
    "    headers = ['entropy','prob', 'pos', 'text']\n",
    "    df = pd.read_csv(file_dir, sep='\\t', names=headers)\n",
    "#     df.boxplot(column='entropy', vert=False)\n",
    "    df.hist(column='entropy',bins=10)\n",
    "    print ('median: ' + str(df['entropy'].median()))\n",
    "    print ('mean: ' + str(df['entropy'].mean()))\n",
    "    print ('std: ' + str(df['entropy'].std()))\n",
    "    "
   ]
  },
  {
   "cell_type": "markdown",
   "metadata": {},
   "source": [
    "# Section 1\n",
    "\n",
    "# LDA: Finding best N number topics"
   ]
  },
  {
   "cell_type": "code",
   "execution_count": 24,
   "metadata": {
    "collapsed": false
   },
   "outputs": [
    {
     "name": "stdout",
     "output_type": "stream",
     "text": [
      "original dictionary\n",
      "Dictionary(4533 unique tokens: ['erm', 'wrote', 'quoted', 'provision', 'carefully']...)\n",
      "dictionary after reducing extremely common/rare features\n",
      "Dictionary(823 unique tokens: ['wrote', 'provision', 'wee', 'kim', 'although']...)\n",
      "Top words file created: ../data/results/final_pres_topics_3.txt\n",
      "Entropy/Topic_dist/pos/text file created: ../data/results/lda_3.txt\n",
      "median: 0.37462702889099997\n",
      "mean: 0.4072934951303219\n",
      "std: 0.2289748416706436\n"
     ]
    },
    {
     "data": {
      "image/png": "[encoded data removed]",
      "text/plain": [
       "<matplotlib.figure.Figure at 0x116a3a400>"
      ]
     },
     "metadata": {},
     "output_type": "display_data"
    }
   ],
   "source": [
    "%run ../src/models/objectivity_lda.py --data ../data/train/NDR2016_president_set.tsv.gz --text_index 1 --pos_index 0 --num_topics 3 --topics ../data/results/final_pres_topics_3.txt --output ../data/results/lda_3.txt  \n",
    "get_ent_visual('../data/results/lda_3.txt')\n"
   ]
  },
  {
   "cell_type": "code",
   "execution_count": 49,
   "metadata": {
    "collapsed": false
   },
   "outputs": [
    {
     "name": "stdout",
     "output_type": "stream",
     "text": [
      "original dictionary\n",
      "Dictionary(4533 unique tokens: ['erm', 'wrote', 'quoted', 'provision', 'carefully']...)\n",
      "dictionary after reducing extremely common/rare features\n",
      "Dictionary(823 unique tokens: ['wrote', 'provision', 'wee', 'kim', 'although']...)\n",
      "Top words file created: ../data/results/final_pres_topics_4.txt\n",
      "Entropy/Topic_dist/pos/text file created: ../data/results/lda_4.txt\n",
      "median: 0.30908772170800003\n",
      "mean: 0.331817105924235\n",
      "std: 0.20691787077646184\n"
     ]
    },
    {
     "data": {
      "image/png": "[encoded data removed]",
      "text/plain": [
       "<matplotlib.figure.Figure at 0x116ad6978>"
      ]
     },
     "metadata": {},
     "output_type": "display_data"
    }
   ],
   "source": [
    "%run ../src/models/objectivity_lda.py --data ../data/train/NDR2016_president_set.tsv.gz --text_index 1 --pos_index 0 --num_topics 4 --topics ../data/results/final_pres_topics_4.txt --output ../data/results/lda_4.txt  \n",
    "get_ent_visual('../data/results/lda_4.txt')\n"
   ]
  },
  {
   "cell_type": "code",
   "execution_count": 50,
   "metadata": {
    "collapsed": false
   },
   "outputs": [
    {
     "name": "stdout",
     "output_type": "stream",
     "text": [
      "original dictionary\n",
      "Dictionary(4533 unique tokens: ['erm', 'wrote', 'quoted', 'provision', 'carefully']...)\n",
      "dictionary after reducing extremely common/rare features\n",
      "Dictionary(823 unique tokens: ['wrote', 'provision', 'wee', 'kim', 'although']...)\n",
      "Top words file created: ../data/results/final_pres_topics_5.txt\n",
      "Entropy/Topic_dist/pos/text file created: ../data/results/lda_5.txt\n",
      "median: 0.26821060879900005\n",
      "mean: 0.2927698470738589\n",
      "std: 0.19665240836678033\n"
     ]
    },
    {
     "data": {
      "image/png": "[encoded data removed]",
      "text/plain": [
       "<matplotlib.figure.Figure at 0x11acb8e80>"
      ]
     },
     "metadata": {},
     "output_type": "display_data"
    }
   ],
   "source": [
    "%run ../src/models/objectivity_lda.py --data ../data/train/NDR2016_president_set.tsv.gz --text_index 1 --pos_index 0 --num_topics 5 --topics ../data/results/final_pres_topics_5.txt --output ../data/results/lda_5.txt  \n",
    "get_ent_visual('../data/results/lda_5.txt')\n"
   ]
  },
  {
   "cell_type": "code",
   "execution_count": 6,
   "metadata": {
    "collapsed": false
   },
   "outputs": [
    {
     "name": "stdout",
     "output_type": "stream",
     "text": [
      "original dictionary\n",
      "Dictionary(4533 unique tokens: ['erm', 'wrote', 'quoted', 'provision', 'carefully']...)\n",
      "dictionary after reducing extremely common/rare features\n",
      "Dictionary(823 unique tokens: ['wrote', 'provision', 'wee', 'kim', 'although']...)\n",
      "Top words file created: ../data/results/final_pres_topics_6.txt\n",
      "Entropy/Topic_dist/pos/text file created: ../data/results/lda_6.txt\n",
      "median: 0.257096300139\n",
      "mean: 0.2700298678124577\n",
      "std: 0.19940212982969874\n"
     ]
    },
    {
     "data": {
      "image/png": "[encoded data removed]",
      "text/plain": [
       "<matplotlib.figure.Figure at 0x119fd6518>"
      ]
     },
     "metadata": {},
     "output_type": "display_data"
    }
   ],
   "source": [
    "%run ../src/models/objectivity_lda.py --data ../data/train/NDR2016_president_set.tsv.gz --text_index 1 --pos_index 0 --num_topics 6 --topics ../data/results/final_pres_topics_6.txt --output ../data/results/lda_6.txt  \n",
    "get_ent_visual('../data/results/lda_6.txt')\n"
   ]
  },
  {
   "cell_type": "code",
   "execution_count": 7,
   "metadata": {
    "collapsed": false
   },
   "outputs": [
    {
     "name": "stdout",
     "output_type": "stream",
     "text": [
      "original dictionary\n",
      "Dictionary(4533 unique tokens: ['erm', 'wrote', 'quoted', 'provision', 'carefully']...)\n",
      "dictionary after reducing extremely common/rare features\n",
      "Dictionary(823 unique tokens: ['wrote', 'provision', 'wee', 'kim', 'although']...)\n",
      "Top words file created: ../data/results/final_pres_topics_7.txt\n",
      "Entropy/Topic_dist/pos/text file created: ../data/results/lda_7.txt\n",
      "median: 0.24912108759899998\n",
      "mean: 0.2422792934201934\n",
      "std: 0.1958888679055725\n"
     ]
    },
    {
     "data": {
      "image/png": "[encoded data removed]",
      "text/plain": [
       "<matplotlib.figure.Figure at 0x115b4a080>"
      ]
     },
     "metadata": {},
     "output_type": "display_data"
    }
   ],
   "source": [
    "%run ../src/models/objectivity_lda.py --data ../data/train/NDR2016_president_set.tsv.gz --text_index 1 --pos_index 0 --num_topics 7 --topics ../data/results/final_pres_topics_7.txt --output ../data/results/lda_7.txt  \n",
    "get_ent_visual('../data/results/lda_7.txt')\n"
   ]
  },
  {
   "cell_type": "code",
   "execution_count": 8,
   "metadata": {
    "collapsed": false
   },
   "outputs": [
    {
     "name": "stdout",
     "output_type": "stream",
     "text": [
      "original dictionary\n",
      "Dictionary(4533 unique tokens: ['erm', 'wrote', 'quoted', 'provision', 'carefully']...)\n",
      "dictionary after reducing extremely common/rare features\n",
      "Dictionary(823 unique tokens: ['wrote', 'provision', 'wee', 'kim', 'although']...)\n",
      "Top words file created: ../data/results/final_pres_topics_8.txt\n",
      "Entropy/Topic_dist/pos/text file created: ../data/results/lda_8.txt\n",
      "median: 0.2445851124635\n",
      "mean: 0.23146525555427358\n",
      "std: 0.1951541449898939\n"
     ]
    },
    {
     "data": {
      "image/png": "[encoded data removed]",
      "text/plain": [
       "<matplotlib.figure.Figure at 0x11a762630>"
      ]
     },
     "metadata": {},
     "output_type": "display_data"
    }
   ],
   "source": [
    "%run ../src/models/objectivity_lda.py --data ../data/train/NDR2016_president_set.tsv.gz --text_index 1 --pos_index 0 --num_topics 8 --topics ../data/results/final_pres_topics_8.txt --output ../data/results/lda_8.txt  \n",
    "get_ent_visual('../data/results/lda_8.txt')\n"
   ]
  },
  {
   "cell_type": "code",
   "execution_count": null,
   "metadata": {
    "collapsed": true
   },
   "outputs": [],
   "source": []
  },
  {
   "cell_type": "code",
   "execution_count": null,
   "metadata": {
    "collapsed": true
   },
   "outputs": [],
   "source": []
  },
  {
   "cell_type": "markdown",
   "metadata": {},
   "source": [
    "# Section 2\n",
    "\n",
    "# Clustering: Finding best N number cluster"
   ]
  },
  {
   "cell_type": "code",
   "execution_count": 27,
   "metadata": {
    "collapsed": false
   },
   "outputs": [
    {
     "name": "stdout",
     "output_type": "stream",
     "text": [
      "Num clusters: 3\n",
      "Cluster top words file created: ../data/results/final_topwords_3.txt\n",
      "Entropy/Topic_dist/pos/text file created: ../data/results/final_cluster_3.txt\n",
      "median: 0.7790689860395\n",
      "mean: 0.7842031117957854\n",
      "std: 0.09738814871429287\n"
     ]
    },
    {
     "data": {
      "image/png": "[encoded data removed]",
      "text/plain": [
       "<matplotlib.figure.Figure at 0x116b12e48>"
      ]
     },
     "metadata": {},
     "output_type": "display_data"
    }
   ],
   "source": [
    "%run ../src/models/objectivity_cluster.py --data ../data/train/NDR2016_president_set.tsv.gz --pos_index 0 --text_index 1 --cluster kmeans --c_out ../data/results/final_cluster_3.txt --tw_out ../data/results/final_topwords_3.txt --num_clusters 3 --num_tw 10\n",
    "get_ent_visual('../data/results/final_cluster_3.txt')\n"
   ]
  },
  {
   "cell_type": "code",
   "execution_count": 28,
   "metadata": {
    "collapsed": false
   },
   "outputs": [
    {
     "name": "stdout",
     "output_type": "stream",
     "text": [
      "Num clusters: 4\n",
      "Cluster top words file created: ../data/results/final_topwords_4.txt\n",
      "Entropy/Topic_dist/pos/text file created: ../data/results/final_cluster_4.txt\n",
      "median: 0.767536997975\n",
      "mean: 0.7713544833494725\n",
      "std: 0.09160545340212481\n"
     ]
    },
    {
     "data": {
      "image/png": "[encoded data removed]",
      "text/plain": [
       "<matplotlib.figure.Figure at 0x115b2c7b8>"
      ]
     },
     "metadata": {},
     "output_type": "display_data"
    }
   ],
   "source": [
    "%run ../src/models/objectivity_cluster.py --data ../data/train/NDR2016_president_set.tsv.gz --pos_index 0 --text_index 1 --cluster kmeans --c_out ../data/results/final_cluster_4.txt --tw_out ../data/results/final_topwords_4.txt --num_clusters 4 --num_tw 10\n",
    "get_ent_visual('../data/results/final_cluster_4.txt')\n"
   ]
  },
  {
   "cell_type": "code",
   "execution_count": 29,
   "metadata": {
    "collapsed": false
   },
   "outputs": [
    {
     "name": "stdout",
     "output_type": "stream",
     "text": [
      "Num clusters: 5\n",
      "Cluster top words file created: ../data/results/final_topwords_5.txt\n",
      "Entropy/Topic_dist/pos/text file created: ../data/results/final_cluster_5.txt\n",
      "median: 0.7889935402685\n",
      "mean: 0.7884325440494546\n",
      "std: 0.07680099317984183\n"
     ]
    },
    {
     "data": {
      "image/png": "[encoded data removed]",
      "text/plain": [
       "<matplotlib.figure.Figure at 0x11af4f4e0>"
      ]
     },
     "metadata": {},
     "output_type": "display_data"
    }
   ],
   "source": [
    "%run ../src/models/objectivity_cluster.py --data ../data/train/NDR2016_president_set.tsv.gz --pos_index 0 --text_index 1 --cluster kmeans --c_out ../data/results/final_cluster_5.txt --tw_out ../data/results/final_topwords_5.txt --num_clusters 5 --num_tw 10\n",
    "get_ent_visual('../data/results/final_cluster_5.txt')"
   ]
  },
  {
   "cell_type": "code",
   "execution_count": 30,
   "metadata": {
    "collapsed": false
   },
   "outputs": [
    {
     "name": "stdout",
     "output_type": "stream",
     "text": [
      "Num clusters: 6\n",
      "Cluster top words file created: ../data/results/final_topwords_6.txt\n",
      "Entropy/Topic_dist/pos/text file created: ../data/results/final_cluster_6.txt\n",
      "median: 0.8691837398965\n",
      "mean: 0.8550164898949081\n",
      "std: 0.07855973671960248\n"
     ]
    },
    {
     "data": {
      "image/png": "[encoded data removed]",
      "text/plain": [
       "<matplotlib.figure.Figure at 0x11af4f668>"
      ]
     },
     "metadata": {},
     "output_type": "display_data"
    }
   ],
   "source": [
    "%run ../src/models/objectivity_cluster.py --data ../data/train/NDR2016_president_set.tsv.gz --pos_index 0 --text_index 1 --cluster kmeans --c_out ../data/results/final_cluster_6.txt --tw_out ../data/results/final_topwords_6.txt --num_clusters 6 --num_tw 10\n",
    "get_ent_visual('../data/results/final_cluster_6.txt')"
   ]
  },
  {
   "cell_type": "code",
   "execution_count": null,
   "metadata": {
    "collapsed": true
   },
   "outputs": [],
   "source": []
  },
  {
   "cell_type": "code",
   "execution_count": null,
   "metadata": {
    "collapsed": true
   },
   "outputs": [],
   "source": []
  },
  {
   "cell_type": "markdown",
   "metadata": {},
   "source": [
    "# Section 3\n",
    "\n",
    "# Methods for obtaining spearman's rank correlation"
   ]
  },
  {
   "cell_type": "code",
   "execution_count": 13,
   "metadata": {
    "collapsed": false
   },
   "outputs": [],
   "source": [
    "import numpy as np\n",
    "\n",
    "# obtain current ranking of each row along with original row position as identifier\n",
    "def get_ranks(file_dir, pos_index):\n",
    "    pos = []\n",
    "    rank = []\n",
    "    i = 1\n",
    "    with open(file_dir, 'r') as f:\n",
    "        for line in f:\n",
    "            line = line.split('\\t')\n",
    "            pos.append(int(line[pos_index]))\n",
    "            rank.append(i)\n",
    "            i += 1\n",
    "    f.close()\n",
    "    \n",
    "    combined = zip(pos, rank)\n",
    "    combined = sorted(combined, key=lambda k: k[0])\n",
    "    \n",
    "    return combined\n",
    "\n",
    "# both list must be same length\n",
    "# for n unique ranks\n",
    "def get_sc_unique(list1, list2):\n",
    "    n = len(list1)\n",
    "    sum_d_sqr = 0\n",
    "    for a, b in zip(list1, list2):\n",
    "        d = (a[1] - b[1])\n",
    "        d_sqr = d*d\n",
    "        sum_d_sqr += d_sqr\n",
    "    result = 1 - (6*sum_d_sqr)/((n)*(n*n - 1))\n",
    "    return result\n",
    "\n",
    "# both list must be same length\n",
    "# for range of ranks. E.g. 1-5\n",
    "def get_sc_ranged(list1, list2):\n",
    "    n = len(list1)\n",
    "    x_scores = []\n",
    "    y_scores = []\n",
    "    for a, b in zip(list1, list2):\n",
    "        x_scores.append(a[1])\n",
    "        y_scores.append(b[1])\n",
    "    x_scores = np.array(x_scores)\n",
    "    y_scores = np.array(y_scores)\n",
    "    cov = np.cov(x_scores, y_scores)[0][1]\n",
    "    x_sd = np.std(x_scores, dtype=np.float64)\n",
    "    y_sd = np.std(y_scores, dtype=np.float64)\n",
    "    return cov / (x_sd * y_sd)\n",
    "\n",
    "def compare_lda_cluster(lda_file, lda_pos_index, cluster_file, cluster_pos_index):\n",
    "    lda_pos_rank = get_ranks(lda_file, lda_pos_index)\n",
    "    cluster_pos_rank = get_ranks(cluster_file, cluster_pos_index)\n",
    "    print('spearman correlation score: ' + str(get_sc_unique(lda_pos_rank,cluster_pos_rank)))\n",
    "    \n",
    "    \n",
    "# pos_rank is the output obtained from get_rank\n",
    "def compare_ground_truth(u_file, u_pos_index, man_file, man_pos_index, man_score_index):\n",
    "    \n",
    "    man_score = []\n",
    "    man_pos = []\n",
    "    with open(man_file, 'r') as f:\n",
    "        for line in f:\n",
    "            line = line.split('\\t')\n",
    "            man_score.append(int(line[0]))\n",
    "            man_pos.append(int(line[1]))\n",
    "    f.close()\n",
    "    man_pos_score = zip(man_pos, man_score)\n",
    "    man_pos_score = sorted(man_pos_score, key=lambda k: k[0])\n",
    "    \n",
    "    u_pos_rank = get_ranks(u_file, u_pos_index)\n",
    "    u_pos_rank = sorted(u_pos_rank, key=lambda k: k[1])\n",
    "    u_score = []\n",
    "    u_pos = []\n",
    "    score = 0\n",
    "    size = len(u_pos_rank)\n",
    "    i = 0\n",
    "    divisor = round(size/5)\n",
    "    for pos, rank in u_pos_rank:\n",
    "        if i % divisor == 0:\n",
    "            score += 1\n",
    "        if score == 6:\n",
    "            score = 5\n",
    "        i += 1\n",
    "        if pos in man_pos:\n",
    "            u_pos.append(pos)\n",
    "            u_score.append(score)\n",
    "    u_pos_score = zip(u_pos, u_score)\n",
    "    u_pos_score = sorted(u_pos_score, key=lambda k: k[0])\n",
    "    print(u_pos_score)\n",
    "    print(man_pos_score)\n",
    "\n",
    "    \n",
    "    print('spearman correlation score: ' + str(get_sc_ranged(u_pos_score, man_pos_score)))\n",
    "    \n"
   ]
  },
  {
   "cell_type": "markdown",
   "metadata": {},
   "source": [
    "# Section 4\n",
    "\n",
    "# Finding Spearman's Rank Correlations between LDA, Clustering & Ground Truth"
   ]
  },
  {
   "cell_type": "markdown",
   "metadata": {},
   "source": [
    "## I. Spearman Correlation between LDA & Clustering"
   ]
  },
  {
   "cell_type": "code",
   "execution_count": 36,
   "metadata": {
    "collapsed": false
   },
   "outputs": [
    {
     "name": "stdout",
     "output_type": "stream",
     "text": [
      "spearman correlation score: -0.12374894669281811\n"
     ]
    }
   ],
   "source": [
    "# n = 3\n",
    "compare_lda_cluster('../data/results/lda_3.txt', 2, '../data/results/final_cluster_3.txt', 2)"
   ]
  },
  {
   "cell_type": "code",
   "execution_count": 37,
   "metadata": {
    "collapsed": false
   },
   "outputs": [
    {
     "name": "stdout",
     "output_type": "stream",
     "text": [
      "spearman correlation score: -0.05683683875633916\n"
     ]
    }
   ],
   "source": [
    "# n = 4\n",
    "compare_lda_cluster('../data/results/lda_4.txt', 2, '../data/results/final_cluster_4.txt', 2)"
   ]
  },
  {
   "cell_type": "code",
   "execution_count": 38,
   "metadata": {
    "collapsed": false
   },
   "outputs": [
    {
     "name": "stdout",
     "output_type": "stream",
     "text": [
      "spearman correlation score: 0.11700394851091067\n"
     ]
    }
   ],
   "source": [
    "# n = 5\n",
    "compare_lda_cluster('../data/results/lda_5.txt', 2, '../data/results/final_cluster_5.txt', 2)"
   ]
  },
  {
   "cell_type": "code",
   "execution_count": 39,
   "metadata": {
    "collapsed": false
   },
   "outputs": [
    {
     "name": "stdout",
     "output_type": "stream",
     "text": [
      "spearman correlation score: 0.06300405640258211\n"
     ]
    }
   ],
   "source": [
    "# n = 6\n",
    "compare_lda_cluster('../data/results/lda_6.txt', 2, '../data/results/final_cluster_6.txt', 2)"
   ]
  },
  {
   "cell_type": "code",
   "execution_count": null,
   "metadata": {
    "collapsed": true
   },
   "outputs": [],
   "source": []
  },
  {
   "cell_type": "markdown",
   "metadata": {},
   "source": [
    "## II. Spearman Correlation between LDA & IPS Annotation"
   ]
  },
  {
   "cell_type": "code",
   "execution_count": 31,
   "metadata": {
    "collapsed": false
   },
   "outputs": [
    {
     "name": "stdout",
     "output_type": "stream",
     "text": [
      "[(14, 5), (25, 1), (141, 1), (229, 4), (241, 4), (248, 5), (282, 5), (286, 3), (296, 5), (441, 1), (466, 3), (475, 3), (494, 1), (548, 4), (551, 4), (579, 5), (580, 1), (589, 4), (637, 1), (639, 1)]\n",
      "[(14, 1), (25, 1), (141, 1), (229, 4), (241, 1), (248, 5), (282, 2), (286, 1), (296, 1), (441, 1), (466, 1), (475, 1), (494, 1), (548, 1), (551, 1), (579, 2), (580, 1), (589, 3), (637, 1), (639, 1)]\n",
      "spearman correlation score: 0.476402508718\n"
     ]
    }
   ],
   "source": [
    "# n=3\n",
    "compare_ground_truth('../data/results/lda_3.txt', 2, '../data/train/objectivity_ips.tsv', 1, 0)"
   ]
  },
  {
   "cell_type": "code",
   "execution_count": 51,
   "metadata": {
    "collapsed": false
   },
   "outputs": [
    {
     "name": "stdout",
     "output_type": "stream",
     "text": [
      "[(14, 5), (25, 1), (141, 1), (229, 4), (241, 4), (248, 1), (282, 1), (286, 3), (296, 4), (441, 4), (466, 5), (475, 1), (494, 4), (548, 1), (551, 5), (579, 1), (580, 1), (589, 5), (637, 1), (639, 4)]\n",
      "[(14, 1), (25, 1), (141, 1), (229, 4), (241, 1), (248, 5), (282, 2), (286, 1), (296, 1), (441, 1), (466, 1), (475, 1), (494, 1), (548, 1), (551, 1), (579, 2), (580, 1), (589, 3), (637, 1), (639, 1)]\n",
      "spearman correlation score: -0.0780191360254\n"
     ]
    }
   ],
   "source": [
    "# n=4\n",
    "compare_ground_truth('../data/results/lda_4.txt', 2, '../data/train/objectivity_ips.tsv', 1, 0)"
   ]
  },
  {
   "cell_type": "code",
   "execution_count": 52,
   "metadata": {
    "collapsed": false
   },
   "outputs": [
    {
     "name": "stdout",
     "output_type": "stream",
     "text": [
      "[(14, 5), (25, 1), (141, 1), (229, 1), (241, 1), (248, 1), (282, 1), (286, 1), (296, 1), (441, 4), (466, 1), (475, 1), (494, 4), (548, 1), (551, 5), (579, 1), (580, 5), (589, 1), (637, 4), (639, 1)]\n",
      "[(14, 1), (25, 1), (141, 1), (229, 4), (241, 1), (248, 5), (282, 2), (286, 1), (296, 1), (441, 1), (466, 1), (475, 1), (494, 1), (548, 1), (551, 1), (579, 2), (580, 1), (589, 3), (637, 1), (639, 1)]\n",
      "spearman correlation score: -0.334495378462\n"
     ]
    }
   ],
   "source": [
    "# n=5\n",
    "compare_ground_truth('../data/results/lda_5.txt', 2, '../data/train/objectivity_ips.tsv', 1, 0)"
   ]
  },
  {
   "cell_type": "code",
   "execution_count": 42,
   "metadata": {
    "collapsed": false,
    "scrolled": true
   },
   "outputs": [
    {
     "name": "stdout",
     "output_type": "stream",
     "text": [
      "[(14, 4), (25, 1), (141, 5), (229, 3), (241, 1), (248, 4), (282, 1), (286, 5), (296, 3), (441, 4), (466, 2), (475, 1), (494, 4), (548, 5), (551, 1), (579, 4), (580, 1), (589, 1), (637, 1), (639, 1)]\n",
      "[(14, 1), (25, 1), (141, 1), (229, 4), (241, 1), (248, 5), (282, 2), (286, 1), (296, 1), (441, 1), (466, 1), (475, 1), (494, 1), (548, 1), (551, 1), (579, 2), (580, 1), (589, 3), (637, 1), (639, 1)]\n",
      "spearman correlation score: 0.100528263478\n"
     ]
    }
   ],
   "source": [
    "# n=6\n",
    "compare_ground_truth('../data/results/lda_6.txt', 2, '../data/train/objectivity_ips.tsv', 1, 0)"
   ]
  },
  {
   "cell_type": "code",
   "execution_count": 43,
   "metadata": {
    "collapsed": false
   },
   "outputs": [
    {
     "name": "stdout",
     "output_type": "stream",
     "text": [
      "[(14, 3), (25, 4), (141, 1), (229, 1), (241, 1), (248, 1), (282, 1), (286, 5), (296, 5), (441, 2), (466, 3), (475, 4), (494, 5), (548, 4), (551, 5), (579, 5), (580, 4), (589, 1), (637, 1), (639, 4)]\n",
      "[(14, 1), (25, 1), (141, 1), (229, 4), (241, 1), (248, 5), (282, 2), (286, 1), (296, 1), (441, 1), (466, 1), (475, 1), (494, 1), (548, 1), (551, 1), (579, 2), (580, 1), (589, 3), (637, 1), (639, 1)]\n",
      "spearman correlation score: -0.516198507978\n"
     ]
    }
   ],
   "source": [
    "# n=7\n",
    "compare_ground_truth('../data/results/lda_7.txt', 2, '../data/train/objectivity_ips.tsv', 1, 0)"
   ]
  },
  {
   "cell_type": "code",
   "execution_count": 44,
   "metadata": {
    "collapsed": false
   },
   "outputs": [
    {
     "name": "stdout",
     "output_type": "stream",
     "text": [
      "[(14, 1), (25, 1), (141, 1), (229, 4), (241, 4), (248, 1), (282, 1), (286, 3), (296, 1), (441, 4), (466, 2), (475, 4), (494, 4), (548, 4), (551, 3), (579, 1), (580, 3), (589, 4), (637, 1), (639, 1)]\n",
      "[(14, 1), (25, 1), (141, 1), (229, 4), (241, 1), (248, 5), (282, 2), (286, 1), (296, 1), (441, 1), (466, 1), (475, 1), (494, 1), (548, 1), (551, 1), (579, 2), (580, 1), (589, 3), (637, 1), (639, 1)]\n",
      "spearman correlation score: -0.0138955967282\n"
     ]
    }
   ],
   "source": [
    "# n=8\n",
    "compare_ground_truth('../data/results/lda_8.txt', 2, '../data/train/objectivity_ips.tsv', 1, 0)"
   ]
  },
  {
   "cell_type": "code",
   "execution_count": null,
   "metadata": {
    "collapsed": true
   },
   "outputs": [],
   "source": []
  },
  {
   "cell_type": "markdown",
   "metadata": {},
   "source": [
    "## III. Spearman Correlation between Clustering & IPS Annotation"
   ]
  },
  {
   "cell_type": "code",
   "execution_count": 45,
   "metadata": {
    "collapsed": false
   },
   "outputs": [
    {
     "name": "stdout",
     "output_type": "stream",
     "text": [
      "[(14, 5), (25, 2), (141, 2), (229, 4), (241, 3), (248, 3), (282, 1), (286, 4), (296, 5), (441, 5), (466, 1), (475, 5), (494, 5), (548, 5), (551, 5), (579, 4), (580, 5), (589, 4), (637, 3), (639, 3)]\n",
      "[(14, 1), (25, 1), (141, 1), (229, 4), (241, 1), (248, 5), (282, 2), (286, 1), (296, 1), (441, 1), (466, 1), (475, 1), (494, 1), (548, 1), (551, 1), (579, 2), (580, 1), (589, 3), (637, 1), (639, 1)]\n",
      "spearman correlation score: -0.129595093254\n"
     ]
    }
   ],
   "source": [
    "# n=3\n",
    "compare_ground_truth('../data/results/final_cluster_3.txt', 2, '../data/train/objectivity_ips.tsv', 1, 0)"
   ]
  },
  {
   "cell_type": "code",
   "execution_count": 46,
   "metadata": {
    "collapsed": false
   },
   "outputs": [
    {
     "name": "stdout",
     "output_type": "stream",
     "text": [
      "[(14, 3), (25, 2), (141, 5), (229, 4), (241, 4), (248, 2), (282, 1), (286, 2), (296, 3), (441, 4), (466, 3), (475, 2), (494, 5), (548, 1), (551, 5), (579, 3), (580, 5), (589, 3), (637, 2), (639, 2)]\n",
      "[(14, 1), (25, 1), (141, 1), (229, 4), (241, 1), (248, 5), (282, 2), (286, 1), (296, 1), (441, 1), (466, 1), (475, 1), (494, 1), (548, 1), (551, 1), (579, 2), (580, 1), (589, 3), (637, 1), (639, 1)]\n",
      "spearman correlation score: -0.130329210169\n"
     ]
    }
   ],
   "source": [
    "# n=4\n",
    "compare_ground_truth('../data/results/final_cluster_4.txt', 2, '../data/train/objectivity_ips.tsv', 1, 0)"
   ]
  },
  {
   "cell_type": "code",
   "execution_count": 47,
   "metadata": {
    "collapsed": false
   },
   "outputs": [
    {
     "name": "stdout",
     "output_type": "stream",
     "text": [
      "[(14, 3), (25, 2), (141, 3), (229, 1), (241, 1), (248, 1), (282, 1), (286, 1), (296, 1), (441, 5), (466, 3), (475, 5), (494, 5), (548, 3), (551, 4), (579, 4), (580, 2), (589, 4), (637, 2), (639, 5)]\n",
      "[(14, 1), (25, 1), (141, 1), (229, 4), (241, 1), (248, 5), (282, 2), (286, 1), (296, 1), (441, 1), (466, 1), (475, 1), (494, 1), (548, 1), (551, 1), (579, 2), (580, 1), (589, 3), (637, 1), (639, 1)]\n",
      "spearman correlation score: -0.338528828101\n"
     ]
    }
   ],
   "source": [
    "# n=5\n",
    "compare_ground_truth('../data/results/final_cluster_5.txt', 2, '../data/train/objectivity_ips.tsv', 1, 0)"
   ]
  },
  {
   "cell_type": "code",
   "execution_count": 48,
   "metadata": {
    "collapsed": false
   },
   "outputs": [
    {
     "name": "stdout",
     "output_type": "stream",
     "text": [
      "[(14, 4), (25, 4), (141, 4), (229, 2), (241, 5), (248, 4), (282, 5), (286, 1), (296, 5), (441, 5), (466, 3), (475, 2), (494, 3), (548, 2), (551, 3), (579, 1), (580, 3), (589, 4), (637, 2), (639, 3)]\n",
      "[(14, 1), (25, 1), (141, 1), (229, 4), (241, 1), (248, 5), (282, 2), (286, 1), (296, 1), (441, 1), (466, 1), (475, 1), (494, 1), (548, 1), (551, 1), (579, 2), (580, 1), (589, 3), (637, 1), (639, 1)]\n",
      "spearman correlation score: 0.00934994946508\n"
     ]
    }
   ],
   "source": [
    "# n=5\n",
    "compare_ground_truth('../data/results/final_cluster_6.txt', 2, '../data/train/objectivity_ips.tsv', 1, 0)"
   ]
  },
  {
   "cell_type": "code",
   "execution_count": null,
   "metadata": {
    "collapsed": true
   },
   "outputs": [],
   "source": []
  },
  {
   "cell_type": "code",
   "execution_count": null,
   "metadata": {
    "collapsed": true
   },
   "outputs": [],
   "source": []
  },
  {
   "cell_type": "code",
   "execution_count": null,
   "metadata": {
    "collapsed": true
   },
   "outputs": [],
   "source": []
  },
  {
   "cell_type": "code",
   "execution_count": 78,
   "metadata": {
    "collapsed": true
   },
   "outputs": [],
   "source": [
    "def get_all(file_dir, ent, topic, pos_index):\n",
    "    pos = []\n",
    "    rank = []\n",
    "    ents = []\n",
    "    topics = []\n",
    "    \n",
    "    i = 1\n",
    "    with open(file_dir, 'r') as f:\n",
    "        for line in f:\n",
    "            line = line.split('\\t')\n",
    "            pos.append(int(line[pos_index]))\n",
    "            rank.append(i)\n",
    "            ents.append(line[ent])\n",
    "            topics.append(line[topic])\n",
    "            i += 1\n",
    "    f.close()\n",
    "    \n",
    "    combined = zip(pos, rank, ents, topics)\n",
    "    combined = sorted(combined, key=lambda k: k[0])\n",
    "    \n",
    "    return combined\n",
    "\n",
    "\n",
    "# pos_rank is the output obtained from get_rank\n",
    "def analysis(out, u_file, u_pos_index, u_ent, u_topic, man_file, man_pos_index, man_score_index):\n",
    "    \n",
    "    man_score = []\n",
    "    man_pos = []\n",
    "    with open(man_file, 'r') as f:\n",
    "        for line in f:\n",
    "            line = line.split('\\t')\n",
    "            man_score.append(int(line[0]))\n",
    "            man_pos.append(int(line[1]))\n",
    "    f.close()\n",
    "    man_pos_score = zip(man_pos, man_score)\n",
    "    man_pos_score = sorted(man_pos_score, key=lambda k: k[0])\n",
    "    \n",
    "    u_pos_rank = get_all(u_file, u_ent, u_topic,u_pos_index)\n",
    "    u_pos_rank = sorted(u_pos_rank, key=lambda k: k[1])\n",
    "    u_score = []\n",
    "    u_pos = []\n",
    "    u_ents = []\n",
    "    u_topics = []\n",
    "    score = 0\n",
    "    size = len(u_pos_rank)\n",
    "    i = 0\n",
    "    divisor = round(size/5)\n",
    "    for pos, rank, ent, topic in u_pos_rank:\n",
    "        if i % divisor == 0:\n",
    "            score += 1\n",
    "        if score == 6:\n",
    "            score = 5\n",
    "        i += 1\n",
    "        if pos in man_pos:\n",
    "            u_pos.append(pos)\n",
    "            u_score.append(score)\n",
    "            u_ents.append(ent)\n",
    "            u_topics.append(topic)\n",
    "    u_pos_score = zip(u_pos, u_score, u_ents, u_topics)\n",
    "    u_pos_score = sorted(u_pos_score, key=lambda k: k[0])\n",
    "    with open (out, 'w') as f:\n",
    "        for pos, scor, ent, topic in u_pos_score:\n",
    "            f.write(str(pos) + '\\t' + str(scor) + '\\t' + str(ent) + '\\t' + str(topic) + '\\n')\n",
    "    f.close\n",
    "    "
   ]
  },
  {
   "cell_type": "code",
   "execution_count": null,
   "metadata": {
    "collapsed": true
   },
   "outputs": [],
   "source": []
  },
  {
   "cell_type": "code",
   "execution_count": 87,
   "metadata": {
    "collapsed": false
   },
   "outputs": [],
   "source": [
    "# n=3\n",
    "analysis('../data/results/analysis3.txt' , '../data/results/lda_3.txt', 2,0,1, '../data/train/objectivity_ips.tsv', 1, 0)"
   ]
  },
  {
   "cell_type": "code",
   "execution_count": null,
   "metadata": {
    "collapsed": true
   },
   "outputs": [],
   "source": []
  }
 ],
 "metadata": {
  "kernelspec": {
   "display_name": "Python 3",
   "language": "python",
   "name": "python3"
  },
  "language_info": {
   "codemirror_mode": {
    "name": "ipython",
    "version": 3
   },
   "file_extension": ".py",
   "mimetype": "text/x-python",
   "name": "python",
   "nbconvert_exporter": "python",
   "pygments_lexer": "ipython3",
   "version": "3.6.1"
  }
 },
 "nbformat": 4,
 "nbformat_minor": 2
}
