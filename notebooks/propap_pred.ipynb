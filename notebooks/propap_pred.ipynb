{
 "cells": [
  {
   "cell_type": "code",
   "execution_count": 2,
   "metadata": {
    "collapsed": true
   },
   "outputs": [],
   "source": [
    "import os\n",
    "import sys\n",
    "\n",
    "# add the 'src' directory as one where we can import modules\n",
    "# os.pardir refers to parent directory. \n",
    "# src_dir = os.path.join(os.getcwd(), '../src') => works the same\n",
    "src_dir = os.path.join(os.getcwd(), os.pardir, 'src')\n",
    "sys.path.append(src_dir)\n",
    "\n",
    "# Load the \"autoreload\" extension\n",
    "%load_ext autoreload\n",
    "# always reload modules marked with \"%aimport\"\n",
    "%autoreload 2"
   ]
  },
  {
   "cell_type": "code",
   "execution_count": 3,
   "metadata": {
    "collapsed": false
   },
   "outputs": [
    {
     "name": "stdout",
     "output_type": "stream",
     "text": [
      "data : ../data/test/ndr_blog.tsv.gz\n",
      "id_index : 0\n",
      "text_index : 1\n",
      "vtr : ../models/propap_vtr_1\n",
      "clf : ../models/propap_clf_1\n",
      "output : ../data/results/propap_1.tsv\n",
      "preprocess : False\n",
      "stop_words : False\n",
      "feat : tfidf\n",
      "emotion_words : None\n",
      "lsd_words : None\n",
      "emoticons : None\n",
      "word_feature : False\n",
      "ngrams : None\n",
      "fiveWoneH : None\n",
      "pos : False\n"
     ]
    }
   ],
   "source": [
    "# Experiment 1\n",
    "%run ../src/models/predict_model.py --data ../data/test/ndr_blog.tsv.gz --output ../data/results/propap_1.tsv --feat tfidf --vtr ../models/propap_vtr_1 --clf ../models/propap_clf_1\n",
    "\n"
   ]
  },
  {
   "cell_type": "code",
   "execution_count": 18,
   "metadata": {
    "collapsed": false
   },
   "outputs": [
    {
     "name": "stderr",
     "output_type": "stream",
     "text": [
      "INFO:root:Finding the parameters for: data =  ../data/train/partisan-gov-large.2-label.tsv.gz, clf = nb\n",
      "INFO:root:End loading training data (421 docs) in 0.07 sec\n"
     ]
    },
    {
     "name": "stdout",
     "output_type": "stream",
     "text": [
      "data : ../data/train/partisan-gov-large.2-label.tsv.gz\n",
      "label_index : 0\n",
      "text_index : 1\n",
      "preprocess : True\n",
      "stop_words : False\n",
      "feat : tfidf\n",
      "emotion_words : None\n",
      "lsd_words : None\n",
      "emoticons : None\n",
      "word_feature : False\n",
      "ngrams : None\n",
      "fiveWoneH : None\n",
      "pos : False\n",
      "model : nb\n",
      "model_params : {'alpha': 0.001}\n",
      "features_norm : None\n",
      "num_topk_features : None\n",
      "vtr : ../models/propap_vtr_2\n",
      "clf : ../models/propap_clf_2\n"
     ]
    },
    {
     "name": "stderr",
     "output_type": "stream",
     "text": [
      "INFO:root:End features extraction of (421 docs) in 1.61 sec\n",
      "INFO:root:Fitted the model in 0.31 sec, score=0.9929\n",
      "INFO:root:confusion matrix:\n",
      "\n",
      "[[ 19  65]\n",
      " [  9 118]]\n",
      "\n",
      "INFO:root:precision: 0.644808743169\n",
      "INFO:root:recall: 0.929133858268\n",
      "INFO:root:micro f1: 0.649289099526\n",
      "INFO:root:macro f1: 0.550288018433\n",
      "INFO:root:weighted f1: 0.593288487999\n",
      "INFO:root:binary f1: 0.761290322581\n",
      "INFO:root:Serializing the vectorizer to ../models/propap_vtr_2\n",
      "INFO:root:Done in 0.77 sec\n",
      "INFO:root:Serializing the classifier to ../models/propap_clf_2\n",
      "INFO:root:Done in 0.92 sec\n"
     ]
    }
   ],
   "source": [
    "# Experiment 2\n",
    "%run ../src/models/train_model.py --data ../data/train/partisan-gov-large.2-label.tsv.gz --preprocess True --feat tfidf --model nb --model_params '{\"alpha\": 0.001}' --vtr ../models/propap_vtr_2 --clf ../models/propap_clf_2\n"
   ]
  },
  {
   "cell_type": "code",
   "execution_count": 24,
   "metadata": {
    "collapsed": false
   },
   "outputs": [
    {
     "name": "stderr",
     "output_type": "stream",
     "text": [
      "INFO:root:Finding the parameters for: data =  ../data/train/partisan-gov-large.2-label.tsv.gz, clf = nb\n",
      "INFO:root:End loading training data (421 docs) in 0.05 sec\n"
     ]
    },
    {
     "name": "stdout",
     "output_type": "stream",
     "text": [
      "data : ../data/train/partisan-gov-large.2-label.tsv.gz\n",
      "label_index : 0\n",
      "text_index : 1\n",
      "preprocess : True\n",
      "stop_words : True\n",
      "feat : tfidf\n",
      "emotion_words : None\n",
      "lsd_words : None\n",
      "emoticons : None\n",
      "word_feature : False\n",
      "ngrams : None\n",
      "fiveWoneH : None\n",
      "pos : False\n",
      "model : nb\n",
      "model_params : {'alpha': 0.001}\n",
      "features_norm : None\n",
      "num_topk_features : None\n",
      "vtr : ../models/propap_vtr_3\n",
      "clf : ../models/propap_clf_3\n"
     ]
    },
    {
     "name": "stderr",
     "output_type": "stream",
     "text": [
      "INFO:root:End features extraction of (421 docs) in 2.15 sec\n",
      "INFO:root:Fitted the model in 0.16 sec, score=0.9929\n",
      "INFO:root:confusion matrix:\n",
      "\n",
      "[[ 19  65]\n",
      " [ 10 117]]\n",
      "\n",
      "INFO:root:precision: 0.642857142857\n",
      "INFO:root:recall: 0.92125984252\n",
      "INFO:root:micro f1: 0.644549763033\n",
      "INFO:root:macro f1: 0.546782369619\n",
      "INFO:root:weighted f1: 0.589680307546\n",
      "INFO:root:binary f1: 0.757281553398\n",
      "INFO:root:Serializing the vectorizer to ../models/propap_vtr_3\n",
      "INFO:root:Done in 0.65 sec\n",
      "INFO:root:Serializing the classifier to ../models/propap_clf_3\n",
      "INFO:root:Done in 0.82 sec\n"
     ]
    }
   ],
   "source": [
    "# Experiment 3\n",
    "%run ../src/models/train_model.py --data ../data/train/partisan-gov-large.2-label.tsv.gz --preprocess True --stop_words True --feat tfidf --model nb --model_params '{\"alpha\": 0.001}' --vtr ../models/propap_vtr_3 --clf ../models/propap_clf_3"
   ]
  },
  {
   "cell_type": "code",
   "execution_count": 28,
   "metadata": {
    "collapsed": false
   },
   "outputs": [
    {
     "name": "stderr",
     "output_type": "stream",
     "text": [
      "INFO:root:Finding the parameters for: data =  ../data/train/partisan-gov-large.2-label.tsv.gz, clf = nb\n",
      "INFO:root:End loading training data (421 docs) in 0.04 sec\n",
      "INFO:root:End features extraction of (421 docs) in 0.04 sec\n"
     ]
    },
    {
     "name": "stdout",
     "output_type": "stream",
     "text": [
      "data : ../data/train/partisan-gov-large.2-label.tsv.gz\n",
      "label_index : 0\n",
      "text_index : 1\n",
      "preprocess : False\n",
      "stop_words : False\n",
      "feat : count\n",
      "emotion_words : None\n",
      "lsd_words : None\n",
      "emoticons : None\n",
      "word_feature : False\n",
      "ngrams : None\n",
      "fiveWoneH : None\n",
      "pos : False\n",
      "model : nb\n",
      "model_params : {'alpha': 0.009}\n",
      "features_norm : None\n",
      "num_topk_features : None\n",
      "vtr : ../models/propap_vtr_4\n",
      "clf : ../models/propap_clf_4\n"
     ]
    },
    {
     "name": "stderr",
     "output_type": "stream",
     "text": [
      "INFO:root:Fitted the model in 0.27 sec, score=0.9881\n",
      "INFO:root:confusion matrix:\n",
      "\n",
      "[[ 18  66]\n",
      " [  9 118]]\n",
      "\n",
      "INFO:root:precision: 0.641304347826\n",
      "INFO:root:recall: 0.929133858268\n",
      "INFO:root:micro f1: 0.644549763033\n",
      "INFO:root:macro f1: 0.541583384027\n",
      "INFO:root:weighted f1: 0.585858927\n",
      "INFO:root:binary f1: 0.75884244373\n",
      "INFO:root:Serializing the vectorizer to ../models/propap_vtr_4\n",
      "INFO:root:Done in 0.79 sec\n",
      "INFO:root:Serializing the classifier to ../models/propap_clf_4\n",
      "INFO:root:Done in 1.12 sec\n"
     ]
    }
   ],
   "source": [
    "# Experiment 4\n",
    "%run ../src/models/train_model.py --data ../data/train/partisan-gov-large.2-label.tsv.gz --feat count --model nb --model_params '{\"alpha\":0.009}' --vtr ../models/propap_vtr_4 --clf ../models/propap_clf_4\n",
    "\n"
   ]
  },
  {
   "cell_type": "code",
   "execution_count": 29,
   "metadata": {
    "collapsed": false
   },
   "outputs": [
    {
     "name": "stderr",
     "output_type": "stream",
     "text": [
      "INFO:root:Finding the parameters for: data =  ../data/train/partisan-gov-large.2-label.tsv.gz, clf = nb\n",
      "INFO:root:End loading training data (421 docs) in 0.03 sec\n"
     ]
    },
    {
     "name": "stdout",
     "output_type": "stream",
     "text": [
      "data : ../data/train/partisan-gov-large.2-label.tsv.gz\n",
      "label_index : 0\n",
      "text_index : 1\n",
      "preprocess : True\n",
      "stop_words : False\n",
      "feat : count\n",
      "emotion_words : None\n",
      "lsd_words : None\n",
      "emoticons : None\n",
      "word_feature : False\n",
      "ngrams : None\n",
      "fiveWoneH : None\n",
      "pos : False\n",
      "model : nb\n",
      "model_params : {'alpha': 0.009}\n",
      "features_norm : None\n",
      "num_topk_features : None\n",
      "vtr : ../models/propap_vtr_5\n",
      "clf : ../models/propap_clf_5\n"
     ]
    },
    {
     "name": "stderr",
     "output_type": "stream",
     "text": [
      "INFO:root:End features extraction of (421 docs) in 1.96 sec\n",
      "INFO:root:Fitted the model in 0.23 sec, score=0.9834\n",
      "INFO:root:confusion matrix:\n",
      "\n",
      "[[ 22  62]\n",
      " [ 12 115]]\n",
      "\n",
      "INFO:root:precision: 0.649717514124\n",
      "INFO:root:recall: 0.905511811024\n",
      "INFO:root:micro f1: 0.649289099526\n",
      "INFO:root:macro f1: 0.56473015165\n",
      "INFO:root:weighted f1: 0.603827299593\n",
      "INFO:root:binary f1: 0.756578947368\n",
      "INFO:root:Serializing the vectorizer to ../models/propap_vtr_5\n",
      "INFO:root:Done in 0.76 sec\n",
      "INFO:root:Serializing the classifier to ../models/propap_clf_5\n",
      "INFO:root:Done in 1.06 sec\n"
     ]
    }
   ],
   "source": [
    "# Experiment 5\n",
    "%run ../src/models/train_model.py --data ../data/train/partisan-gov-large.2-label.tsv.gz --preprocess True --feat count --model nb --model_params '{\"alpha\":0.009}' --vtr ../models/propap_vtr_5 --clf ../models/propap_clf_5\n"
   ]
  },
  {
   "cell_type": "code",
   "execution_count": 30,
   "metadata": {
    "collapsed": false
   },
   "outputs": [
    {
     "name": "stderr",
     "output_type": "stream",
     "text": [
      "INFO:root:Finding the parameters for: data =  ../data/train/partisan-gov-large.2-label.tsv.gz, clf = nb\n",
      "INFO:root:End loading training data (421 docs) in 0.04 sec\n"
     ]
    },
    {
     "name": "stdout",
     "output_type": "stream",
     "text": [
      "data : ../data/train/partisan-gov-large.2-label.tsv.gz\n",
      "label_index : 0\n",
      "text_index : 1\n",
      "preprocess : True\n",
      "stop_words : True\n",
      "feat : count\n",
      "emotion_words : None\n",
      "lsd_words : None\n",
      "emoticons : None\n",
      "word_feature : False\n",
      "ngrams : None\n",
      "fiveWoneH : None\n",
      "pos : False\n",
      "model : nb\n",
      "model_params : {'alpha': 0.009}\n",
      "features_norm : None\n",
      "num_topk_features : None\n",
      "vtr : ../models/propap_vtr_6\n",
      "clf : ../models/propap_clf_6\n"
     ]
    },
    {
     "name": "stderr",
     "output_type": "stream",
     "text": [
      "INFO:root:End features extraction of (421 docs) in 2.35 sec\n",
      "INFO:root:Fitted the model in 0.19 sec, score=0.9881\n",
      "INFO:root:confusion matrix:\n",
      "\n",
      "[[ 20  64]\n",
      " [ 12 115]]\n",
      "\n",
      "INFO:root:precision: 0.642458100559\n",
      "INFO:root:recall: 0.905511811024\n",
      "INFO:root:micro f1: 0.63981042654\n",
      "INFO:root:macro f1: 0.548230786568\n",
      "INFO:root:weighted f1: 0.589682623608\n",
      "INFO:root:binary f1: 0.751633986928\n",
      "INFO:root:Serializing the vectorizer to ../models/propap_vtr_6\n",
      "INFO:root:Done in 0.85 sec\n",
      "INFO:root:Serializing the classifier to ../models/propap_clf_6\n",
      "INFO:root:Done in 1.21 sec\n"
     ]
    }
   ],
   "source": [
    "# Experiment 6\n",
    "%run ../src/models/train_model.py --data ../data/train/partisan-gov-large.2-label.tsv.gz --preprocess True --stop_words True --feat count --model nb --model_params '{\"alpha\":0.009}' --vtr ../models/propap_vtr_6 --clf ../models/propap_clf_6\n"
   ]
  },
  {
   "cell_type": "code",
   "execution_count": 31,
   "metadata": {
    "collapsed": false
   },
   "outputs": [
    {
     "name": "stderr",
     "output_type": "stream",
     "text": [
      "INFO:root:Finding the parameters for: data =  ../data/train/partisan-gov-large.2-label.tsv.gz, clf = lr\n",
      "INFO:root:End loading training data (421 docs) in 0.05 sec\n",
      "INFO:root:End features extraction of (421 docs) in 0.05 sec\n"
     ]
    },
    {
     "name": "stdout",
     "output_type": "stream",
     "text": [
      "data : ../data/train/partisan-gov-large.2-label.tsv.gz\n",
      "label_index : 0\n",
      "text_index : 1\n",
      "preprocess : False\n",
      "stop_words : False\n",
      "feat : count\n",
      "emotion_words : None\n",
      "lsd_words : None\n",
      "emoticons : None\n",
      "word_feature : False\n",
      "ngrams : None\n",
      "fiveWoneH : None\n",
      "pos : False\n",
      "model : lr\n",
      "model_params : {'C': 1, 'penalty': 'l2'}\n",
      "features_norm : None\n",
      "num_topk_features : None\n",
      "vtr : ../models/propap_vtr_7\n",
      "clf : ../models/propap_clf_7\n"
     ]
    },
    {
     "name": "stderr",
     "output_type": "stream",
     "text": [
      "INFO:root:Fitted the model in 0.32 sec, score=1.0000\n",
      "INFO:root:confusion matrix:\n",
      "\n",
      "[[37 47]\n",
      " [36 91]]\n",
      "\n",
      "INFO:root:precision: 0.659420289855\n",
      "INFO:root:recall: 0.716535433071\n",
      "INFO:root:micro f1: 0.60663507109\n",
      "INFO:root:macro f1: 0.579065016224\n",
      "INFO:root:weighted f1: 0.601018948803\n",
      "INFO:root:binary f1: 0.68679245283\n",
      "INFO:root:Serializing the vectorizer to ../models/propap_vtr_7\n",
      "INFO:root:Done in 0.73 sec\n",
      "INFO:root:Serializing the classifier to ../models/propap_clf_7\n",
      "INFO:root:Done in 0.78 sec\n"
     ]
    }
   ],
   "source": [
    "# Experiment 7\n",
    "%run ../src/models/train_model.py --data ../data/train/partisan-gov-large.2-label.tsv.gz --feat count --model lr --model_params '{\"C\": 1, \"penalty\":\"l2\"}' --vtr ../models/propap_vtr_7 --clf ../models/propap_clf_7\n",
    "\n"
   ]
  },
  {
   "cell_type": "code",
   "execution_count": 32,
   "metadata": {
    "collapsed": false
   },
   "outputs": [
    {
     "name": "stderr",
     "output_type": "stream",
     "text": [
      "INFO:root:Finding the parameters for: data =  ../data/train/partisan-gov-large.2-label.tsv.gz, clf = lr\n",
      "INFO:root:End loading training data (421 docs) in 0.04 sec\n"
     ]
    },
    {
     "name": "stdout",
     "output_type": "stream",
     "text": [
      "data : ../data/train/partisan-gov-large.2-label.tsv.gz\n",
      "label_index : 0\n",
      "text_index : 1\n",
      "preprocess : True\n",
      "stop_words : False\n",
      "feat : count\n",
      "emotion_words : None\n",
      "lsd_words : None\n",
      "emoticons : None\n",
      "word_feature : False\n",
      "ngrams : None\n",
      "fiveWoneH : None\n",
      "pos : False\n",
      "model : lr\n",
      "model_params : {'C': 1, 'penalty': 'l2'}\n",
      "features_norm : None\n",
      "num_topk_features : None\n",
      "vtr : ../models/propap_vtr_8\n",
      "clf : ../models/propap_clf_8\n"
     ]
    },
    {
     "name": "stderr",
     "output_type": "stream",
     "text": [
      "INFO:root:End features extraction of (421 docs) in 1.59 sec\n",
      "INFO:root:Fitted the model in 0.42 sec, score=1.0000\n",
      "INFO:root:confusion matrix:\n",
      "\n",
      "[[40 44]\n",
      " [34 93]]\n",
      "\n",
      "INFO:root:precision: 0.678832116788\n",
      "INFO:root:recall: 0.732283464567\n",
      "INFO:root:micro f1: 0.630331753555\n",
      "INFO:root:macro f1: 0.605437284235\n",
      "INFO:root:weighted f1: 0.625634683872\n",
      "INFO:root:binary f1: 0.704545454545\n",
      "INFO:root:Serializing the vectorizer to ../models/propap_vtr_8\n",
      "INFO:root:Done in 0.68 sec\n",
      "INFO:root:Serializing the classifier to ../models/propap_clf_8\n",
      "INFO:root:Done in 0.70 sec\n"
     ]
    }
   ],
   "source": [
    "# Experiment 8\n",
    "%run ../src/models/train_model.py --data ../data/train/partisan-gov-large.2-label.tsv.gz --feat count --preprocess True --model lr --model_params '{\"C\": 1, \"penalty\":\"l2\"}' --vtr ../models/propap_vtr_8 --clf ../models/propap_clf_8\n"
   ]
  },
  {
   "cell_type": "code",
   "execution_count": 40,
   "metadata": {
    "collapsed": false
   },
   "outputs": [
    {
     "name": "stderr",
     "output_type": "stream",
     "text": [
      "INFO:root:Finding the parameters for: data =  ../data/train/partisan-gov-large.2-label.tsv.gz, clf = lr\n",
      "INFO:root:End loading training data (421 docs) in 0.06 sec\n"
     ]
    },
    {
     "name": "stdout",
     "output_type": "stream",
     "text": [
      "data : ../data/train/partisan-gov-large.2-label.tsv.gz\n",
      "label_index : 0\n",
      "text_index : 1\n",
      "preprocess : True\n",
      "stop_words : True\n",
      "feat : count\n",
      "emotion_words : None\n",
      "lsd_words : None\n",
      "emoticons : None\n",
      "word_feature : False\n",
      "ngrams : None\n",
      "fiveWoneH : None\n",
      "pos : False\n",
      "model : lr\n",
      "model_params : {'C': 1, 'penalty': 'l2'}\n",
      "features_norm : None\n",
      "num_topk_features : None\n",
      "vtr : ../models/propap_vtr_9\n",
      "clf : ../models/propap_clf_9\n"
     ]
    },
    {
     "name": "stderr",
     "output_type": "stream",
     "text": [
      "INFO:root:End features extraction of (421 docs) in 2.39 sec\n",
      "INFO:root:Fitted the model in 0.23 sec, score=1.0000\n",
      "INFO:root:confusion matrix:\n",
      "\n",
      "[[34 50]\n",
      " [34 93]]\n",
      "\n",
      "INFO:root:precision: 0.65034965035\n",
      "INFO:root:recall: 0.732283464567\n",
      "INFO:root:micro f1: 0.601895734597\n",
      "INFO:root:macro f1: 0.568128654971\n",
      "INFO:root:weighted f1: 0.592738560461\n",
      "INFO:root:binary f1: 0.688888888889\n",
      "INFO:root:Serializing the vectorizer to ../models/propap_vtr_9\n",
      "INFO:root:Done in 0.62 sec\n",
      "INFO:root:Serializing the classifier to ../models/propap_clf_9\n",
      "INFO:root:Done in 0.63 sec\n"
     ]
    }
   ],
   "source": [
    "# Experiment 9\n",
    "%run ../src/models/train_model.py --data ../data/train/partisan-gov-large.2-label.tsv.gz --preprocess True --stop_words True --feat count --model lr --model_params '{\"C\": 1, \"penalty\":\"l2\"}' --vtr ../models/propap_vtr_9 --clf ../models/propap_clf_9\n"
   ]
  },
  {
   "cell_type": "code",
   "execution_count": 41,
   "metadata": {
    "collapsed": false,
    "scrolled": true
   },
   "outputs": [
    {
     "name": "stderr",
     "output_type": "stream",
     "text": [
      "INFO:root:Finding the parameters for: data =  ../data/train/partisan-gov-large.2-label.tsv.gz, clf = lr\n",
      "INFO:root:End loading training data (421 docs) in 0.06 sec\n",
      "INFO:root:End features extraction of (421 docs) in 0.06 sec\n"
     ]
    },
    {
     "name": "stdout",
     "output_type": "stream",
     "text": [
      "data : ../data/train/partisan-gov-large.2-label.tsv.gz\n",
      "label_index : 0\n",
      "text_index : 1\n",
      "preprocess : False\n",
      "stop_words : False\n",
      "feat : tfidf\n",
      "emotion_words : None\n",
      "lsd_words : None\n",
      "emoticons : None\n",
      "word_feature : False\n",
      "ngrams : None\n",
      "fiveWoneH : None\n",
      "pos : False\n",
      "model : lr\n",
      "model_params : {'C': 1, 'penalty': 'l2'}\n",
      "features_norm : None\n",
      "num_topk_features : None\n",
      "vtr : ../models/propap_vtr_10\n",
      "clf : ../models/propap_clf_10\n"
     ]
    },
    {
     "name": "stderr",
     "output_type": "stream",
     "text": [
      "INFO:root:Fitted the model in 0.37 sec, score=0.8456\n",
      "INFO:root:confusion matrix:\n",
      "\n",
      "[[  6  78]\n",
      " [  2 125]]\n",
      "\n",
      "INFO:root:precision: 0.615763546798\n",
      "INFO:root:recall: 0.984251968504\n",
      "INFO:root:micro f1: 0.620853080569\n",
      "INFO:root:macro f1: 0.444005270092\n",
      "INFO:root:weighted f1: 0.507908260432\n",
      "INFO:root:binary f1: 0.757575757576\n",
      "INFO:root:Serializing the vectorizer to ../models/propap_vtr_10\n",
      "INFO:root:Done in 0.78 sec\n",
      "INFO:root:Serializing the classifier to ../models/propap_clf_10\n",
      "INFO:root:Done in 0.80 sec\n"
     ]
    }
   ],
   "source": [
    "# Experiment 10\n",
    "%run ../src/models/train_model.py --data ../data/train/partisan-gov-large.2-label.tsv.gz --feat tfidf --model lr --model_params '{\"C\": 1, \"penalty\":\"l2\"}' --vtr ../models/propap_vtr_10 --clf ../models/propap_clf_10\n",
    "\n"
   ]
  },
  {
   "cell_type": "code",
   "execution_count": 44,
   "metadata": {
    "collapsed": false
   },
   "outputs": [
    {
     "name": "stderr",
     "output_type": "stream",
     "text": [
      "INFO:root:Finding the parameters for: data =  ../data/train/partisan-gov-large.2-label.tsv.gz, clf = lr\n",
      "INFO:root:End loading training data (421 docs) in 0.05 sec\n"
     ]
    },
    {
     "name": "stdout",
     "output_type": "stream",
     "text": [
      "data : ../data/train/partisan-gov-large.2-label.tsv.gz\n",
      "label_index : 0\n",
      "text_index : 1\n",
      "preprocess : True\n",
      "stop_words : False\n",
      "feat : tfidf\n",
      "emotion_words : None\n",
      "lsd_words : None\n",
      "emoticons : None\n",
      "word_feature : False\n",
      "ngrams : None\n",
      "fiveWoneH : None\n",
      "pos : False\n",
      "model : lr\n",
      "model_params : {'C': 1, 'penalty': 'l2'}\n",
      "features_norm : None\n",
      "num_topk_features : None\n",
      "vtr : ../models/propap_vtr_11\n",
      "clf : ../models/propap_clf_11\n"
     ]
    },
    {
     "name": "stderr",
     "output_type": "stream",
     "text": [
      "INFO:root:End features extraction of (421 docs) in 1.76 sec\n",
      "INFO:root:Fitted the model in 0.27 sec, score=0.8456\n",
      "INFO:root:confusion matrix:\n",
      "\n",
      "[[  9  75]\n",
      " [  2 125]]\n",
      "\n",
      "INFO:root:precision: 0.625\n",
      "INFO:root:recall: 0.984251968504\n",
      "INFO:root:micro f1: 0.635071090047\n",
      "INFO:root:macro f1: 0.476999839047\n",
      "INFO:root:weighted f1: 0.535595216573\n",
      "INFO:root:binary f1: 0.764525993884\n",
      "INFO:root:Serializing the vectorizer to ../models/propap_vtr_11\n",
      "INFO:root:Done in 0.69 sec\n",
      "INFO:root:Serializing the classifier to ../models/propap_clf_11\n",
      "INFO:root:Done in 0.70 sec\n"
     ]
    }
   ],
   "source": [
    "# Experiment 11\n",
    "%run ../src/models/train_model.py --data ../data/train/partisan-gov-large.2-label.tsv.gz --preprocess True --feat tfidf --model lr --model_params '{\"C\": 1, \"penalty\":\"l2\"}' --vtr ../models/propap_vtr_11 --clf ../models/propap_clf_11\n"
   ]
  },
  {
   "cell_type": "code",
   "execution_count": 45,
   "metadata": {
    "collapsed": false
   },
   "outputs": [
    {
     "name": "stderr",
     "output_type": "stream",
     "text": [
      "INFO:root:Finding the parameters for: data =  ../data/train/partisan-gov-large.2-label.tsv.gz, clf = lr\n",
      "INFO:root:End loading training data (421 docs) in 0.05 sec\n"
     ]
    },
    {
     "name": "stdout",
     "output_type": "stream",
     "text": [
      "data : ../data/train/partisan-gov-large.2-label.tsv.gz\n",
      "label_index : 0\n",
      "text_index : 1\n",
      "preprocess : True\n",
      "stop_words : True\n",
      "feat : tfidf\n",
      "emotion_words : None\n",
      "lsd_words : None\n",
      "emoticons : None\n",
      "word_feature : False\n",
      "ngrams : None\n",
      "fiveWoneH : None\n",
      "pos : False\n",
      "model : lr\n",
      "model_params : {'C': 1, 'penalty': 'l2'}\n",
      "features_norm : None\n",
      "num_topk_features : None\n",
      "vtr : ../models/propap_vtr_12\n",
      "clf : ../models/propap_clf_12\n"
     ]
    },
    {
     "name": "stderr",
     "output_type": "stream",
     "text": [
      "INFO:root:End features extraction of (421 docs) in 2.65 sec\n",
      "INFO:root:Fitted the model in 0.20 sec, score=0.8741\n",
      "INFO:root:confusion matrix:\n",
      "\n",
      "[[  8  76]\n",
      " [  3 124]]\n",
      "\n",
      "INFO:root:precision: 0.62\n",
      "INFO:root:recall: 0.976377952756\n",
      "INFO:root:micro f1: 0.625592417062\n",
      "INFO:root:macro f1: 0.463415419282\n",
      "INFO:root:weighted f1: 0.523532754666\n",
      "INFO:root:binary f1: 0.758409785933\n",
      "INFO:root:Serializing the vectorizer to ../models/propap_vtr_12\n",
      "INFO:root:Done in 0.71 sec\n",
      "INFO:root:Serializing the classifier to ../models/propap_clf_12\n",
      "INFO:root:Done in 0.72 sec\n"
     ]
    }
   ],
   "source": [
    "# Experiment 12\n",
    "%run ../src/models/train_model.py --data ../data/train/partisan-gov-large.2-label.tsv.gz --preprocess True --stop_words True --feat tfidf --model lr --model_params '{\"C\": 1, \"penalty\":\"l2\"}' --vtr ../models/propap_vtr_12 --clf ../models/propap_clf_12\n"
   ]
  },
  {
   "cell_type": "code",
   "execution_count": 47,
   "metadata": {
    "collapsed": false
   },
   "outputs": [
    {
     "name": "stderr",
     "output_type": "stream",
     "text": [
      "INFO:root:Finding the parameters for: data =  ../data/train/partisan-gov-large.2-label.tsv.gz, clf = nb\n",
      "INFO:root:End loading training data (421 docs) in 0.04 sec\n"
     ]
    },
    {
     "name": "stdout",
     "output_type": "stream",
     "text": [
      "data : ../data/train/partisan-gov-large.2-label.tsv.gz\n",
      "label_index : 0\n",
      "text_index : 1\n",
      "preprocess : True\n",
      "stop_words : False\n",
      "feat : dict\n",
      "emotion_words : ../resources/emotion_words\n",
      "lsd_words : ../resources/LSD2011_ALL.txt\n",
      "emoticons : None\n",
      "word_feature : True\n",
      "ngrams : ('1', '4')\n",
      "fiveWoneH : ('1', '1', '1', '1', '1', '1')\n",
      "pos : True\n",
      "model : nb\n",
      "model_params : {'alpha': 0.001}\n",
      "features_norm : None\n",
      "num_topk_features : 1000\n",
      "vtr : ../models/propap_vtr_13\n",
      "clf : ../models/propap_clf_13\n",
      "DICT FEATURE EXTRACTION: exracting dict features...\n",
      "emotion_words : ../resources/emotion_words\n",
      "lsd_words : ../resources/LSD2011_ALL.txt\n",
      "word_feature : True\n",
      "ngrams : ('1', '4')\n",
      "fiveWoneH : ('1', '1', '1', '1', '1', '1')\n",
      "pos : True\n"
     ]
    },
    {
     "name": "stderr",
     "output_type": "stream",
     "text": [
      "INFO:root:End features extraction of (421 docs) in 104.24 sec\n",
      "INFO:root:Pipeline: Selecting 1000 best features by a chi-square test\n",
      "INFO:root:Fitted the model in 4.23 sec, score=0.8029\n",
      "INFO:root:confusion matrix:\n",
      "\n",
      "[[46 38]\n",
      " [37 90]]\n",
      "\n",
      "INFO:root:precision: 0.703125\n",
      "INFO:root:recall: 0.708661417323\n",
      "INFO:root:micro f1: 0.644549763033\n",
      "INFO:root:macro f1: 0.628390278267\n",
      "INFO:root:weighted f1: 0.644182502016\n",
      "INFO:root:binary f1: 0.705882352941\n",
      "INFO:root:Serializing the vectorizer to ../models/propap_vtr_13\n",
      "INFO:root:Done in 8.06 sec\n",
      "INFO:root:Serializing the classifier to ../models/propap_clf_13\n",
      "INFO:root:Done in 8.11 sec\n"
     ]
    }
   ],
   "source": [
    "# Experiment 13\n",
    "%run ../src/models/train_model.py --data ../data/train/partisan-gov-large.2-label.tsv.gz --preprocess True --feat dict --emotion_words ../resources/emotion_words --lsd_words ../resources/LSD2011_ALL.txt --word_feature True --ngram 14 --fiveWoneH 111111 --pos True --model nb --model_params '{\"alpha\":0.001}' --num_topk_features 1000 --vtr ../models/propap_vtr_13 --clf ../models/propap_clf_13\n"
   ]
  },
  {
   "cell_type": "code",
   "execution_count": 2,
   "metadata": {
    "collapsed": false
   },
   "outputs": [
    {
     "name": "stderr",
     "output_type": "stream",
     "text": [
      "INFO:root:Finding the parameters for: data =  ../data/train/partisan-gov-large.2-label.tsv.gz, clf = lr\n",
      "INFO:root:End loading training data (421 docs) in 0.04 sec\n"
     ]
    },
    {
     "name": "stdout",
     "output_type": "stream",
     "text": [
      "data : ../data/train/partisan-gov-large.2-label.tsv.gz\n",
      "label_index : 0\n",
      "text_index : 1\n",
      "preprocess : True\n",
      "stop_words : False\n",
      "feat : dict\n",
      "emotion_words : ../resources/emotion_words\n",
      "lsd_words : ../resources/LSD2011_ALL.txt\n",
      "emoticons : None\n",
      "word_feature : True\n",
      "ngrams : ('1', '4')\n",
      "fiveWoneH : ('1', '1', '1', '1', '1', '1')\n",
      "pos : True\n",
      "model : lr\n",
      "model_params : {'C': 1, 'penalty': 'l1'}\n",
      "features_norm : None\n",
      "num_topk_features : 1000\n",
      "vtr : ../models/propap_vtr_14\n",
      "clf : ../models/propap_clf_14\n",
      "DICT FEATURE EXTRACTION: exracting dict features...\n",
      "emotion_words : ../resources/emotion_words\n",
      "lsd_words : ../resources/LSD2011_ALL.txt\n",
      "word_feature : True\n",
      "ngrams : ('1', '4')\n",
      "fiveWoneH : ('1', '1', '1', '1', '1', '1')\n",
      "pos : True\n"
     ]
    },
    {
     "name": "stderr",
     "output_type": "stream",
     "text": [
      "INFO:root:End features extraction of (421 docs) in 103.99 sec\n",
      "INFO:root:Pipeline: Selecting 1000 best features by a chi-square test\n",
      "INFO:root:Fitted the model in 5.01 sec, score=0.9952\n",
      "INFO:root:confusion matrix:\n",
      "\n",
      "[[46 38]\n",
      " [48 79]]\n",
      "\n",
      "INFO:root:precision: 0.675213675214\n",
      "INFO:root:recall: 0.622047244094\n",
      "INFO:root:micro f1: 0.592417061611\n",
      "INFO:root:macro f1: 0.582197458095\n",
      "INFO:root:weighted f1: 0.595513911162\n",
      "INFO:root:binary f1: 0.647540983607\n",
      "INFO:root:Serializing the vectorizer to ../models/propap_vtr_14\n",
      "INFO:root:Done in 7.34 sec\n",
      "INFO:root:Serializing the classifier to ../models/propap_clf_14\n",
      "INFO:root:Done in 7.35 sec\n"
     ]
    }
   ],
   "source": [
    "# Experiment 14\n",
    "%run ../src/models/train_model.py --data ../data/train/partisan-gov-large.2-label.tsv.gz --preprocess True --feat dict --emotion_words ../resources/emotion_words --lsd_words ../resources/LSD2011_ALL.txt --word_feature True --ngram 14 --fiveWoneH 111111 --pos True --model lr --model_params '{\"C\":1,\"penalty\":\"l1\"}' --num_topk_features 1000 --vtr ../models/propap_vtr_14 --clf ../models/propap_clf_14\n",
    "\n"
   ]
  },
  {
   "cell_type": "code",
   "execution_count": 7,
   "metadata": {
    "collapsed": false
   },
   "outputs": [
    {
     "name": "stderr",
     "output_type": "stream",
     "text": [
      "INFO:root:Finding the parameters for: data =  ../data/train/partisan-gov-large.2-label.tsv.gz, clf = lr\n",
      "INFO:root:End loading training data (421 docs) in 0.05 sec\n"
     ]
    },
    {
     "name": "stdout",
     "output_type": "stream",
     "text": [
      "data : ../data/train/partisan-gov-large.2-label.tsv.gz\n",
      "label_index : 0\n",
      "text_index : 1\n",
      "preprocess : True\n",
      "stop_words : False\n",
      "feat : dict\n",
      "emotion_words : None\n",
      "lsd_words : None\n",
      "emoticons : None\n",
      "word_feature : False\n",
      "ngrams : ('1', '3')\n",
      "fiveWoneH : None\n",
      "pos : False\n",
      "model : lr\n",
      "model_params : {'C': 1, 'penalty': 'l1'}\n",
      "features_norm : None\n",
      "num_topk_features : None\n",
      "vtr : ../models/propap_vtr_15\n",
      "clf : ../models/propap_clf_15\n",
      "DICT FEATURE EXTRACTION: exracting dict features...\n",
      "ngrams : ('1', '3')\n"
     ]
    },
    {
     "name": "stderr",
     "output_type": "stream",
     "text": [
      "INFO:root:End features extraction of (421 docs) in 47.64 sec\n",
      "INFO:root:Fitted the model in 3.67 sec, score=1.0000\n",
      "INFO:root:confusion matrix:\n",
      "\n",
      "[[36 48]\n",
      " [36 91]]\n",
      "\n",
      "INFO:root:precision: 0.654676258993\n",
      "INFO:root:recall: 0.716535433071\n",
      "INFO:root:micro f1: 0.601895734597\n",
      "INFO:root:macro f1: 0.572874493927\n",
      "INFO:root:weighted f1: 0.595563827542\n",
      "INFO:root:binary f1: 0.684210526316\n",
      "INFO:root:Serializing the vectorizer to ../models/propap_vtr_15\n",
      "INFO:root:Done in 5.17 sec\n",
      "INFO:root:Serializing the classifier to ../models/propap_clf_15\n",
      "INFO:root:Done in 5.23 sec\n"
     ]
    }
   ],
   "source": [
    "# Experiment 15\n",
    "%run ../src/models/train_model.py --data ../data/train/partisan-gov-large.2-label.tsv.gz --preprocess True --feat dict --model lr --model_params '{\"C\":1,\"penalty\":\"l1\"}' --ngrams 13 --vtr ../models/propap_vtr_15 --clf ../models/propap_clf_15\n",
    "\n"
   ]
  },
  {
   "cell_type": "code",
   "execution_count": 6,
   "metadata": {
    "collapsed": false
   },
   "outputs": [
    {
     "name": "stderr",
     "output_type": "stream",
     "text": [
      "INFO:root:Finding the parameters for: data =  ../data/train/partisan-gov-large.2-label.tsv.gz, clf = nb\n",
      "INFO:root:End loading training data (421 docs) in 0.04 sec\n"
     ]
    },
    {
     "name": "stdout",
     "output_type": "stream",
     "text": [
      "data : ../data/train/partisan-gov-large.2-label.tsv.gz\n",
      "label_index : 0\n",
      "text_index : 1\n",
      "preprocess : True\n",
      "stop_words : False\n",
      "feat : dict\n",
      "emotion_words : None\n",
      "lsd_words : None\n",
      "emoticons : None\n",
      "word_feature : False\n",
      "ngrams : ('1', '3')\n",
      "fiveWoneH : None\n",
      "pos : False\n",
      "model : nb\n",
      "model_params : {'alpha': 0.001}\n",
      "features_norm : None\n",
      "num_topk_features : None\n",
      "vtr : ../models/propap_vtr_16\n",
      "clf : ../models/propap_clf_16\n",
      "DICT FEATURE EXTRACTION: exracting dict features...\n",
      "ngrams : ('1', '3')\n"
     ]
    },
    {
     "name": "stderr",
     "output_type": "stream",
     "text": [
      "INFO:root:End features extraction of (421 docs) in 40.61 sec\n",
      "INFO:root:Fitted the model in 1.59 sec, score=0.9952\n",
      "INFO:root:confusion matrix:\n",
      "\n",
      "[[ 14  70]\n",
      " [  6 121]]\n",
      "\n",
      "INFO:root:precision: 0.633507853403\n",
      "INFO:root:recall: 0.952755905512\n",
      "INFO:root:micro f1: 0.63981042654\n",
      "INFO:root:macro f1: 0.515118529269\n",
      "INFO:root:weighted f1: 0.565228357145\n",
      "INFO:root:binary f1: 0.761006289308\n",
      "INFO:root:Serializing the vectorizer to ../models/propap_vtr_16\n",
      "INFO:root:Done in 5.66 sec\n",
      "INFO:root:Serializing the classifier to ../models/propap_clf_16\n",
      "INFO:root:Done in 9.77 sec\n"
     ]
    }
   ],
   "source": [
    "# Experiment 16\n",
    "%run ../src/models/train_model.py --data ../data/train/partisan-gov-large.2-label.tsv.gz --preprocess True --feat dict --model nb --model_params '{\"alpha\":0.001}' --ngrams 13 --vtr ../models/propap_vtr_16 --clf ../models/propap_clf_16\n"
   ]
  },
  {
   "cell_type": "code",
   "execution_count": 8,
   "metadata": {
    "collapsed": false
   },
   "outputs": [
    {
     "name": "stderr",
     "output_type": "stream",
     "text": [
      "INFO:root:Finding the parameters for: data =  ../data/train/partisan-gov-large.2-label.tsv.gz, clf = svc\n",
      "INFO:root:End loading training data (421 docs) in 0.04 sec\n"
     ]
    },
    {
     "name": "stdout",
     "output_type": "stream",
     "text": [
      "data : ../data/train/partisan-gov-large.2-label.tsv.gz\n",
      "label_index : 0\n",
      "text_index : 1\n",
      "preprocess : True\n",
      "stop_words : False\n",
      "feat : dict\n",
      "emotion_words : None\n",
      "lsd_words : None\n",
      "emoticons : None\n",
      "word_feature : False\n",
      "ngrams : ('1', '3')\n",
      "fiveWoneH : None\n",
      "pos : False\n",
      "model : svc\n",
      "model_params : {'kernel': 'linear', 'C': 1}\n",
      "features_norm : None\n",
      "num_topk_features : None\n",
      "vtr : ../models/propap_vtr_17\n",
      "clf : ../models/propap_clf_17\n",
      "DICT FEATURE EXTRACTION: exracting dict features...\n",
      "ngrams : ('1', '3')\n"
     ]
    },
    {
     "name": "stderr",
     "output_type": "stream",
     "text": [
      "INFO:root:End features extraction of (421 docs) in 44.82 sec\n",
      "INFO:root:Fitted the model in 19.79 sec, score=1.0000\n",
      "INFO:root:confusion matrix:\n",
      "\n",
      "[[38 46]\n",
      " [50 77]]\n",
      "\n",
      "INFO:root:precision: 0.626016260163\n",
      "INFO:root:recall: 0.606299212598\n",
      "INFO:root:micro f1: 0.545023696682\n",
      "INFO:root:macro f1: 0.528930232558\n",
      "INFO:root:weighted f1: 0.546674308388\n",
      "INFO:root:binary f1: 0.616\n",
      "INFO:root:Serializing the vectorizer to ../models/propap_vtr_17\n",
      "INFO:root:Done in 5.54 sec\n",
      "INFO:root:Serializing the classifier to ../models/propap_clf_17\n",
      "INFO:root:Done in 6.31 sec\n"
     ]
    }
   ],
   "source": [
    "# Experiment 17\n",
    "%run ../src/models/train_model.py --data ../data/train/partisan-gov-large.2-label.tsv.gz --preprocess True --feat dict --model svc --model_params '{\"kernel\":\"linear\", \"C\":1}' --ngrams 13 --vtr ../models/propap_vtr_17 --clf ../models/propap_clf_17\n"
   ]
  },
  {
   "cell_type": "code",
   "execution_count": 37,
   "metadata": {
    "collapsed": false
   },
   "outputs": [
    {
     "name": "stderr",
     "output_type": "stream",
     "text": [
      "INFO:root:Finding the parameters for: data =  ../data/train/partisan-gov-large.2-label.tsv.gz, clf = svc\n",
      "INFO:root:End loading training data (421 docs) in 0.05 sec\n"
     ]
    },
    {
     "name": "stdout",
     "output_type": "stream",
     "text": [
      "data : ../data/train/partisan-gov-large.2-label.tsv.gz\n",
      "label_index : 0\n",
      "text_index : 1\n",
      "preprocess : True\n",
      "stop_words : False\n",
      "feat : dict\n",
      "emotion_words : ../resources/emotion_words\n",
      "lsd_words : ../resources/LSD2011_ALL.txt\n",
      "emoticons : None\n",
      "word_feature : True\n",
      "ngrams : ('1', '3')\n",
      "fiveWoneH : ('1', '1', '1', '1', '1', '1')\n",
      "pos : True\n",
      "model : svc\n",
      "model_params : {'C': 1, 'kernel': 'linear'}\n",
      "features_norm : None\n",
      "num_topk_features : 1500\n",
      "vtr : ../models/propap_vtr_18\n",
      "clf : ../models/propap_clf_18\n",
      "DICT FEATURE EXTRACTION: exracting dict features...\n",
      "emotion_words : ../resources/emotion_words\n",
      "lsd_words : ../resources/LSD2011_ALL.txt\n",
      "word_feature : True\n",
      "ngrams : ('1', '3')\n",
      "fiveWoneH : ('1', '1', '1', '1', '1', '1')\n",
      "pos : True\n"
     ]
    },
    {
     "name": "stderr",
     "output_type": "stream",
     "text": [
      "INFO:root:End features extraction of (421 docs) in 111.51 sec\n",
      "INFO:root:Pipeline: Selecting 1500 best features by a chi-square test\n",
      "INFO:root:Fitted the model in 62.67 sec, score=0.9881\n",
      "INFO:root:confusion matrix:\n",
      "\n",
      "[[40 44]\n",
      " [49 78]]\n",
      "\n",
      "INFO:root:precision: 0.639344262295\n",
      "INFO:root:recall: 0.614173228346\n",
      "INFO:root:micro f1: 0.559241706161\n",
      "INFO:root:macro f1: 0.544466884881\n",
      "INFO:root:weighted f1: 0.561185761593\n",
      "INFO:root:binary f1: 0.626506024096\n",
      "INFO:root:Serializing the vectorizer to ../models/propap_vtr_18\n",
      "INFO:root:Done in 6.30 sec\n",
      "INFO:root:Serializing the classifier to ../models/propap_clf_18\n",
      "INFO:root:Done in 6.61 sec\n"
     ]
    }
   ],
   "source": [
    "# Experiment 18\n",
    "%run ../src/models/train_model.py --data ../data/train/partisan-gov-large.2-label.tsv.gz --preprocess True --feat dict --emotion_words ../resources/emotion_words --lsd_words ../resources/LSD2011_ALL.txt --word_feature True --ngram 13 --fiveWoneH 111111 --pos True --model svc --model_params '{\"C\": 1, \"kernel\":\"linear\"}' --num_topk_features 1500 --vtr ../models/propap_vtr_18 --clf ../models/propap_clf_18 \n"
   ]
  },
  {
   "cell_type": "code",
   "execution_count": null,
   "metadata": {
    "collapsed": true
   },
   "outputs": [],
   "source": []
  }
 ],
 "metadata": {
  "kernelspec": {
   "display_name": "Python 3",
   "language": "python",
   "name": "python3"
  },
  "language_info": {
   "codemirror_mode": {
    "name": "ipython",
    "version": 3
   },
   "file_extension": ".py",
   "mimetype": "text/x-python",
   "name": "python",
   "nbconvert_exporter": "python",
   "pygments_lexer": "ipython3",
   "version": "3.6.1"
  }
 },
 "nbformat": 4,
 "nbformat_minor": 2
}
