{
 "cells": [
  {
   "cell_type": "code",
   "execution_count": 2,
   "metadata": {
    "collapsed": false
   },
   "outputs": [],
   "source": [
    "import os\n",
    "import sys\n",
    "\n",
    "# add the 'src' directory as one where we can import modules\n",
    "# os.pardir refers to parent directory. \n",
    "# src_dir = os.path.join(os.getcwd(), '../src') => works the same\n",
    "src_dir = os.path.join(os.getcwd(), os.pardir, 'src')\n",
    "sys.path.append(src_dir)\n",
    "\n",
    "# Load the \"autoreload\" extension\n",
    "%load_ext autoreload\n",
    "# always reload modules marked with \"%aimport\"\n",
    "%autoreload 2\n",
    "\n"
   ]
  },
  {
   "cell_type": "code",
   "execution_count": 18,
   "metadata": {
    "collapsed": true
   },
   "outputs": [],
   "source": [
    "import gensim\n",
    "import gzip\n",
    "from features import preprocessor\n",
    "from nltk.corpus import stopwords\n",
    "import numpy as np\n",
    "import math\n",
    "from sklearn import metrics"
   ]
  },
  {
   "cell_type": "code",
   "execution_count": 34,
   "metadata": {
    "collapsed": false
   },
   "outputs": [],
   "source": [
    "def load_corpus(data_file, label_index, text_index):\n",
    "    target= []\n",
    "    data = []\n",
    "\n",
    "    with gzip.open(data_file, 'r') as f:\n",
    "        for line in f:\n",
    "            line_arr = line.decode('utf8').split('\\t')\n",
    "            data.append(line_arr[text_index])\n",
    "            target.append(line_arr[label_index])\n",
    "    f.close()\n",
    "\n",
    "    return [data, target]\n",
    "\n",
    "def docs2vecs ( docs , dictionary ):\n",
    "    # docs is a list of documents returned by corpus2docs.\n",
    "    # dictionary is a gensim.corpora.Dictionary object.\n",
    "    vecs1 = [dictionary.doc2bow(doc) for doc in docs]\n",
    "    return vecs1\n",
    "\n",
    "def save_topics(filename):\n",
    "    with open(filename, 'w') as f:\n",
    "        for topic in topics:\n",
    "            f.write(str(topic[0]) + '\\t' + str(topic[1]) + '\\n')\n",
    "    f.close()\n",
    "\n",
    "def get_entropy(topic_prob_dist, num_topics):\n",
    "    entropy = 0\n",
    "    for topic, prob in topic_prob_dist:\n",
    "        ent = prob * math.log(prob, 2)\n",
    "        entropy += ent\n",
    "    entropy = entropy / num_topics * -1.0\n",
    "    return entropy \n",
    "\n",
    "def corpus_ent_stats(entropy_list):\n",
    "    stats_dict = dict()\n",
    "    stats_dict['mean'] = np.average(entropy_list)\n",
    "    stats_dict['med'] = np.median(entropy_list)\n",
    "    stats_dict['std'] = np.std(entropy_list)\n",
    "    stats_dict['var'] = np.var(entropy_list)\n",
    "    stats_dict['max'] = np.amax(entropy_list)\n",
    "    stats_dict['min'] = np.amin(entropy_list)\n",
    "    return stats_dict\n",
    "\n",
    "def predict(entropy_list, threshold):\n",
    "    target = []\n",
    "    for entropy in entropy_list:\n",
    "        if entropy >= threshold:\n",
    "            target.append('1')\n",
    "        else:\n",
    "            target.append('0')\n",
    "    return target\n",
    "\n"
   ]
  },
  {
   "cell_type": "code",
   "execution_count": 4,
   "metadata": {
    "collapsed": false
   },
   "outputs": [],
   "source": [
    "# input corpus for topic modelling\n",
    "data, labels = load_corpus('../data/train/objectivity-large.2-label.tsv.gz', 0, 1)\n",
    "stop_words = stopwords.words('english')\n",
    "stop_words += ['would', 'said', 'say', 'year', 'day', 'also', 'first', 'last', 'one', 'two', 'people', 'told', 'new', 'could', 'singapore', 'three', 'may', 'like', 'world', 'since','mr','time','even','make','many','take','still','well','get','want','made','go','much','dr']"
   ]
  },
  {
   "cell_type": "code",
   "execution_count": 5,
   "metadata": {
    "collapsed": false
   },
   "outputs": [],
   "source": [
    "# preprocess data to remove stopwords, punctuation, special characters etc\n",
    "# returns list of list of words. Each inner list of words represents words in a row\n",
    "pp_data = [preprocessor.process_data(row, stop_words).split() for row in data]"
   ]
  },
  {
   "cell_type": "code",
   "execution_count": 6,
   "metadata": {
    "collapsed": false
   },
   "outputs": [
    {
     "name": "stdout",
     "output_type": "stream",
     "text": [
      "Dictionary(14388 unique tokens: ['stern', 'warning', 'grassroots', 'leader', 'threatening']...)\n"
     ]
    }
   ],
   "source": [
    "data_dictionary = gensim.corpora.Dictionary(pp_data)\n",
    "print(data_dictionary)"
   ]
  },
  {
   "cell_type": "code",
   "execution_count": 7,
   "metadata": {
    "collapsed": false
   },
   "outputs": [
    {
     "name": "stdout",
     "output_type": "stream",
     "text": [
      "Dictionary(5723 unique tokens: ['stern', 'warning', 'grassroots', 'threatening', 'amos']...)\n"
     ]
    }
   ],
   "source": [
    "data_dictionary.filter_extremes(no_below=3, no_above=0.1)\n",
    "print(data_dictionary)\n",
    "\n",
    "data_vec = docs2vecs(pp_data, data_dictionary)"
   ]
  },
  {
   "cell_type": "code",
   "execution_count": 8,
   "metadata": {
    "collapsed": false
   },
   "outputs": [],
   "source": [
    "lda_model = gensim.models.LdaModel(corpus=data_vec, id2word=data_dictionary, num_topics=15)"
   ]
  },
  {
   "cell_type": "code",
   "execution_count": 9,
   "metadata": {
    "collapsed": false
   },
   "outputs": [
    {
     "name": "stdout",
     "output_type": "stream",
     "text": [
      "(0, '0.005*\"transport\" + 0.003*\"growth\" + 0.003*\"health\" + 0.003*\"cent\" + 0.002*\"freedom\" + 0.002*\"govt\" + 0.002*\"beer\" + 0.002*\"jobs\" + 0.002*\"sector\" + 0.002*\"household\" + 0.002*\"poverty\" + 0.002*\"economy\" + 0.002*\"religious\" + 0.002*\"gay\" + 0.002*\"employment\" + 0.002*\"agency\" + 0.002*\"nac\" + 0.002*\"politics\" + 0.002*\"girl\" + 0.002*\"operation\"')\n",
      "\n",
      "\n",
      "(1, '0.012*\"amos\" + 0.006*\"yee\" + 0.005*\"freedom\" + 0.005*\"tharman\" + 0.003*\"food\" + 0.003*\"employer\" + 0.003*\"letter\" + 0.003*\"lky\" + 0.002*\"democracy\" + 0.002*\"town\" + 0.002*\"prison\" + 0.002*\"growth\" + 0.002*\"university\" + 0.002*\"pink\" + 0.002*\"ahpetc\" + 0.002*\"dodwell\" + 0.002*\"manpower\" + 0.002*\"reformative\" + 0.002*\"cheng\" + 0.002*\"yeo\"')\n",
      "\n",
      "\n",
      "(2, '0.004*\"amos\" + 0.002*\"jobs\" + 0.002*\"return\" + 0.002*\"cent\" + 0.002*\"growth\" + 0.002*\"mps\" + 0.002*\"reformative\" + 0.002*\"offence\" + 0.002*\"yee\" + 0.002*\"investment\" + 0.002*\"transport\" + 0.002*\"model\" + 0.002*\"teacher\" + 0.002*\"driver\" + 0.002*\"operation\" + 0.002*\"moe\" + 0.002*\"arrested\" + 0.002*\"degree\" + 0.001*\"legal\" + 0.001*\"statistic\"')\n",
      "\n",
      "\n",
      "(3, '0.004*\"ahpetc\" + 0.004*\"inequality\" + 0.003*\"gic\" + 0.003*\"university\" + 0.003*\"wong\" + 0.002*\"mps\" + 0.002*\"amos\" + 0.002*\"ranking\" + 0.002*\"town\" + 0.002*\"drug\" + 0.002*\"investment\" + 0.002*\"game\" + 0.002*\"culture\" + 0.002*\"mnd\" + 0.002*\"table\" + 0.002*\"household\" + 0.002*\"lawrence\" + 0.002*\"poverty\" + 0.002*\"leave\" + 0.002*\"highest\"')\n",
      "\n",
      "\n",
      "(4, '0.008*\"town\" + 0.006*\"ahpetc\" + 0.005*\"grant\" + 0.004*\"mnd\" + 0.004*\"dad\" + 0.004*\"wp\" + 0.004*\"song\" + 0.003*\"mda\" + 0.003*\"amos\" + 0.003*\"assistance\" + 0.003*\"nac\" + 0.002*\"letter\" + 0.002*\"household\" + 0.002*\"cent\" + 0.002*\"wrote\" + 0.002*\"banned\" + 0.002*\"domestic\" + 0.002*\"comcare\" + 0.002*\"received\" + 0.002*\"yeo\"')\n",
      "\n",
      "\n",
      "(5, '0.007*\"ahpetc\" + 0.004*\"amos\" + 0.004*\"mnd\" + 0.003*\"grant\" + 0.003*\"mda\" + 0.003*\"gay\" + 0.003*\"gic\" + 0.002*\"yee\" + 0.002*\"link\" + 0.002*\"legal\" + 0.002*\"highest\" + 0.002*\"yeo\" + 0.002*\"town\" + 0.002*\"defect\" + 0.002*\"history\" + 0.002*\"song\" + 0.002*\"ban\" + 0.002*\"transfer\" + 0.002*\"product\" + 0.002*\"offer\"')\n",
      "\n",
      "\n",
      "(6, '0.010*\"pink\" + 0.005*\"dot\" + 0.004*\"isis\" + 0.003*\"gay\" + 0.003*\"majority\" + 0.003*\"woman\" + 0.003*\"youth\" + 0.002*\"employer\" + 0.002*\"white\" + 0.002*\"teacher\" + 0.002*\"wear\" + 0.002*\"yee\" + 0.002*\"probation\" + 0.002*\"skill\" + 0.002*\"muslim\" + 0.002*\"kids\" + 0.002*\"khong\" + 0.002*\"join\" + 0.002*\"park\" + 0.002*\"nac\"')\n",
      "\n",
      "\n",
      "(7, '0.007*\"jobs\" + 0.006*\"yee\" + 0.006*\"foreigner\" + 0.005*\"gov\" + 0.004*\"amos\" + 0.004*\"servant\" + 0.004*\"productivity\" + 0.003*\"economy\" + 0.003*\"talent\" + 0.002*\"gay\" + 0.002*\"scheme\" + 0.002*\"employer\" + 0.002*\"letter\" + 0.002*\"reformative\" + 0.002*\"growth\" + 0.002*\"fts\" + 0.002*\"boy\" + 0.002*\"mps\" + 0.002*\"bank\" + 0.002*\"govt\"')\n",
      "\n",
      "\n",
      "(8, '0.005*\"temasek\" + 0.003*\"dad\" + 0.003*\"billion\" + 0.002*\"market\" + 0.002*\"gay\" + 0.002*\"sia\" + 0.002*\"ahpetc\" + 0.002*\"gic\" + 0.002*\"smrt\" + 0.002*\"inequality\" + 0.002*\"muslim\" + 0.002*\"land\" + 0.002*\"goh\" + 0.002*\"amos\" + 0.002*\"reserve\" + 0.002*\"pink\" + 0.001*\"transport\" + 0.001*\"profit\" + 0.001*\"calvin\" + 0.001*\"men\"')\n",
      "\n",
      "\n",
      "(9, '0.003*\"mps\" + 0.002*\"teacher\" + 0.002*\"mountain\" + 0.002*\"jobs\" + 0.002*\"wp\" + 0.002*\"route\" + 0.002*\"foreigner\" + 0.002*\"kinabalu\" + 0.002*\"mobile\" + 0.002*\"project\" + 0.002*\"subject\" + 0.002*\"degree\" + 0.002*\"employment\" + 0.002*\"earthquake\" + 0.002*\"white\" + 0.002*\"cent\" + 0.002*\"arrested\" + 0.002*\"ones\" + 0.002*\"game\" + 0.002*\"politics\"')\n",
      "\n",
      "\n",
      "(10, '0.007*\"gic\" + 0.006*\"investment\" + 0.005*\"return\" + 0.004*\"cent\" + 0.003*\"investor\" + 0.003*\"loss\" + 0.002*\"jobs\" + 0.002*\"govt\" + 0.002*\"ngerng\" + 0.002*\"justice\" + 0.002*\"amos\" + 0.002*\"freedom\" + 0.002*\"counsel\" + 0.002*\"scheme\" + 0.002*\"president\" + 0.002*\"product\" + 0.002*\"woman\" + 0.002*\"foreigner\" + 0.002*\"bank\" + 0.002*\"tharman\"')\n",
      "\n",
      "\n",
      "(11, '0.004*\"tax\" + 0.003*\"gic\" + 0.003*\"cheng\" + 0.003*\"town\" + 0.003*\"temasek\" + 0.003*\"moe\" + 0.002*\"growth\" + 0.002*\"kids\" + 0.002*\"men\" + 0.002*\"billion\" + 0.002*\"calvin\" + 0.002*\"servant\" + 0.002*\"mountain\" + 0.002*\"activity\" + 0.002*\"degree\" + 0.002*\"expedition\" + 0.002*\"dead\" + 0.002*\"personal\" + 0.002*\"st\" + 0.002*\"sector\"')\n",
      "\n",
      "\n",
      "(12, '0.012*\"amos\" + 0.005*\"town\" + 0.004*\"ahpetc\" + 0.004*\"transport\" + 0.004*\"letter\" + 0.004*\"freedom\" + 0.003*\"drug\" + 0.003*\"fernvale\" + 0.003*\"lam\" + 0.002*\"agc\" + 0.002*\"yee\" + 0.002*\"dodwell\" + 0.002*\"mohamed\" + 0.002*\"criminal\" + 0.002*\"international\" + 0.002*\"house\" + 0.002*\"bin\" + 0.002*\"cent\" + 0.002*\"prisoner\" + 0.002*\"market\"')\n",
      "\n",
      "\n",
      "(13, '0.005*\"trip\" + 0.004*\"teacher\" + 0.003*\"moe\" + 0.003*\"isis\" + 0.002*\"mountain\" + 0.002*\"letter\" + 0.002*\"kinabalu\" + 0.002*\"lky\" + 0.002*\"primary\" + 0.002*\"woman\" + 0.002*\"activity\" + 0.002*\"east\" + 0.002*\"tkps\" + 0.002*\"robiah\" + 0.002*\"building\" + 0.002*\"learn\" + 0.002*\"mda\" + 0.002*\"south\" + 0.002*\"politics\" + 0.002*\"religious\"')\n",
      "\n",
      "\n",
      "(14, '0.004*\"pink\" + 0.004*\"food\" + 0.004*\"foreigner\" + 0.003*\"white\" + 0.003*\"dot\" + 0.003*\"goh\" + 0.003*\"tax\" + 0.003*\"growth\" + 0.002*\"highest\" + 0.002*\"inequality\" + 0.002*\"isa\" + 0.002*\"muslim\" + 0.002*\"majority\" + 0.002*\"employer\" + 0.002*\"jobs\" + 0.002*\"labour\" + 0.002*\"isis\" + 0.002*\"developed\" + 0.002*\"arrested\" + 0.002*\"heart\"')\n",
      "\n",
      "\n"
     ]
    }
   ],
   "source": [
    "topics = lda_model.show_topics(15,20)\n",
    "for topic in topics:\n",
    "    print (topic)\n",
    "    print ('\\n')"
   ]
  },
  {
   "cell_type": "code",
   "execution_count": 10,
   "metadata": {
    "collapsed": false
   },
   "outputs": [
    {
     "name": "stdout",
     "output_type": "stream",
     "text": [
      "[(1, 0.99457363156275669)]\n"
     ]
    }
   ],
   "source": [
    "# get the list of topic distributions for each row in corpus\n",
    "topic_dist = []\n",
    "for vec in data_vec:\n",
    "    topic_dist.append(lda_model.get_document_topics(vec))\n",
    "print (topic_dist[0])"
   ]
  },
  {
   "cell_type": "code",
   "execution_count": 11,
   "metadata": {
    "collapsed": false
   },
   "outputs": [],
   "source": [
    "# get list of entropy for each row in corpus\n",
    "topic_entropy = []\n",
    "for dist in topic_dist:\n",
    "    topic_entropy.append(get_entropy(dist,15))"
   ]
  },
  {
   "cell_type": "code",
   "execution_count": 36,
   "metadata": {
    "collapsed": false
   },
   "outputs": [
    {
     "name": "stdout",
     "output_type": "stream",
     "text": [
      "{'mean': 0.033342708102435004, 'med': 0.0029452243619548083, 'std': 0.041137961253838132, 'var': 0.0016923318561222873, 'max': 0.16642530860430718, 'min': 0.00018191246522387857}\n"
     ]
    }
   ],
   "source": [
    "topic_entropy = np.array(topic_entropy)\n",
    "ent_stats =  corpus_ent_stats(topic_entropy)\n",
    "print(ent_stats)"
   ]
  },
  {
   "cell_type": "code",
   "execution_count": 38,
   "metadata": {
    "collapsed": false
   },
   "outputs": [
    {
     "name": "stdout",
     "output_type": "stream",
     "text": [
      "465\n"
     ]
    }
   ],
   "source": [
    "predicted_labels = predict(topic_entropy, ent_stats['med'])\n",
    "print (len(predicted_labels))"
   ]
  },
  {
   "cell_type": "code",
   "execution_count": 39,
   "metadata": {
    "collapsed": false
   },
   "outputs": [],
   "source": [
    "cm = metrics.confusion_matrix(labels, predicted_labels)\n",
    "precision = metrics.precision_score(labels, predicted_labels, pos_label='1',)\n",
    "recall = metrics.recall_score(labels, predicted_labels, pos_label='1',)\n",
    "f1 = metrics.f1_score(labels, predicted_labels, pos_label='1', average='binary')"
   ]
  },
  {
   "cell_type": "code",
   "execution_count": 40,
   "metadata": {
    "collapsed": false
   },
   "outputs": [
    {
     "name": "stdout",
     "output_type": "stream",
     "text": [
      "confusion matrix: predicted (horizontal), true (vertical) \n",
      "\n",
      "[[143 125]\n",
      " [ 89 108]]\n",
      "\n",
      "precision: 0.463519313305\n",
      "recall: 0.548223350254\n",
      "binary f1: 0.502325581395\n"
     ]
    }
   ],
   "source": [
    "print('confusion matrix: predicted (horizontal), true (vertical) \\n\\n%s\\n' % cm)\n",
    "print('precision: %s' % precision)\n",
    "print('recall: %s' % recall)\n",
    "print('binary f1: %s' % f1)\n",
    "\n",
    "# confusion matrix: predicted (horizontal), true (vertical)"
   ]
  },
  {
   "cell_type": "code",
   "execution_count": null,
   "metadata": {
    "collapsed": true
   },
   "outputs": [],
   "source": []
  },
  {
   "cell_type": "code",
   "execution_count": 42,
   "metadata": {
    "collapsed": false,
    "scrolled": true
   },
   "outputs": [
    {
     "name": "stdout",
     "output_type": "stream",
     "text": [
      "Dictionary(14388 unique tokens: ['stern', 'warning', 'grassroots', 'leader', 'threatening']...)\n",
      "Dictionary(5723 unique tokens: ['stern', 'warning', 'grassroots', 'threatening', 'amos']...)\n",
      "{'mean': 0.036508058122546934, 'med': 0.011883416468149261, 'std': 0.042227443539393651, 'var': 0.0017831569878726788, 'max': 0.18830012855153253, 'min': 0.00012907556529956297}\n",
      "confusion matrix: predicted (horizontal), true (vertical) \n",
      "\n",
      "[[153 115]\n",
      " [ 99  98]]\n",
      "\n",
      "precision: 0.460093896714\n",
      "recall: 0.497461928934\n",
      "binary f1: 0.478048780488\n"
     ]
    }
   ],
   "source": [
    "# manual attempt to test f1 measure\n",
    "%run ../src/models/objectivity_train.py --data ../data/train/objectivity-large.2-label.tsv.gz --num_topics 15 --topics ../data/results/topics.txt --threshold 50 "
   ]
  },
  {
   "cell_type": "markdown",
   "metadata": {},
   "source": [
    "## Automate topic number and percentile selection \n",
    "Finds the number of topic and percentile threshold that gives best results based on f1 measure"
   ]
  },
  {
   "cell_type": "code",
   "execution_count": 3,
   "metadata": {
    "collapsed": false
   },
   "outputs": [
    {
     "name": "stdout",
     "output_type": "stream",
     "text": [
      "original dictionary\n",
      "Dictionary(14388 unique tokens: ['stern', 'warning', 'grassroots', 'leader', 'threatening']...)\n",
      "dictionary after reducing redundant features\n",
      "Dictionary(5723 unique tokens: ['stern', 'warning', 'grassroots', 'threatening', 'amos']...)\n",
      "num_topics_range -> ['5', '20']\n",
      "thresholds -> ['20', '30', '40', '50', '60', '70', '80', '90']\n",
      "Iteration no.: 1\n",
      "372 / 465 or 0.8 labelled as objective.\n",
      "{'num_topics': 5, 'threshold': 20, 'precision': 0.38709677419354838, 'recall': 0.73096446700507611, 'f1': 0.50615114235500869}\n",
      "Iteration no.: 2\n",
      "325 / 465 or 0.7 labelled as objective.\n",
      "{'num_topics': 5, 'threshold': 30, 'precision': 0.38153846153846155, 'recall': 0.62944162436548223, 'f1': 0.47509578544061304}\n",
      "Iteration no.: 3\n",
      "279 / 465 or 0.6 labelled as objective.\n",
      "{'num_topics': 5, 'threshold': 40, 'precision': 0.43727598566308246, 'recall': 0.61928934010152281, 'f1': 0.51260504201680679}\n",
      "Iteration no.: 4\n",
      "233 / 465 or 0.5 labelled as objective.\n",
      "{'num_topics': 5, 'threshold': 50, 'precision': 0.47210300429184548, 'recall': 0.55837563451776651, 'f1': 0.51162790697674421}\n",
      "Iteration no.: 5\n",
      "186 / 465 or 0.4 labelled as objective.\n",
      "{'num_topics': 5, 'threshold': 60, 'precision': 0.43548387096774194, 'recall': 0.41116751269035534, 'f1': 0.42297650130548298}\n",
      "Iteration no.: 6\n",
      "140 / 465 or 0.3 labelled as objective.\n",
      "{'num_topics': 5, 'threshold': 70, 'precision': 0.51428571428571423, 'recall': 0.36548223350253806, 'f1': 0.42729970326409494}\n",
      "Iteration no.: 7\n",
      "93 / 465 or 0.2 labelled as objective.\n",
      "{'num_topics': 5, 'threshold': 80, 'precision': 0.5053763440860215, 'recall': 0.23857868020304568, 'f1': 0.32413793103448274}\n",
      "Iteration no.: 8\n",
      "47 / 465 or 0.1 labelled as objective.\n",
      "{'num_topics': 5, 'threshold': 90, 'precision': 0.61702127659574468, 'recall': 0.14720812182741116, 'f1': 0.23770491803278687}\n",
      "Iteration no.: 9\n",
      "372 / 465 or 0.8 labelled as objective.\n",
      "{'num_topics': 6, 'threshold': 20, 'precision': 0.39784946236559138, 'recall': 0.75126903553299496, 'f1': 0.5202108963093145}\n",
      "Iteration no.: 10\n",
      "325 / 465 or 0.7 labelled as objective.\n",
      "{'num_topics': 6, 'threshold': 30, 'precision': 0.43076923076923079, 'recall': 0.71065989847715738, 'f1': 0.53639846743295017}\n",
      "Iteration no.: 11\n",
      "279 / 465 or 0.6 labelled as objective.\n",
      "{'num_topics': 6, 'threshold': 40, 'precision': 0.4265232974910394, 'recall': 0.60406091370558379, 'f1': 0.5}\n",
      "Iteration no.: 12\n",
      "233 / 465 or 0.5 labelled as objective.\n",
      "{'num_topics': 6, 'threshold': 50, 'precision': 0.48497854077253216, 'recall': 0.57360406091370564, 'f1': 0.52558139534883719}\n",
      "Iteration no.: 13\n",
      "186 / 465 or 0.4 labelled as objective.\n",
      "{'num_topics': 6, 'threshold': 60, 'precision': 0.5161290322580645, 'recall': 0.48730964467005078, 'f1': 0.50130548302872058}\n",
      "Iteration no.: 14\n",
      "140 / 465 or 0.3 labelled as objective.\n",
      "{'num_topics': 6, 'threshold': 70, 'precision': 0.47857142857142859, 'recall': 0.34010152284263961, 'f1': 0.39762611275964388}\n",
      "Iteration no.: 15\n",
      "93 / 465 or 0.2 labelled as objective.\n",
      "{'num_topics': 6, 'threshold': 80, 'precision': 0.4838709677419355, 'recall': 0.22842639593908629, 'f1': 0.31034482758620685}\n",
      "Iteration no.: 16\n",
      "47 / 465 or 0.1 labelled as objective.\n",
      "{'num_topics': 6, 'threshold': 90, 'precision': 0.46808510638297873, 'recall': 0.1116751269035533, 'f1': 0.18032786885245902}\n",
      "Iteration no.: 17\n",
      "372 / 465 or 0.8 labelled as objective.\n",
      "{'num_topics': 7, 'threshold': 20, 'precision': 0.39516129032258063, 'recall': 0.74619289340101524, 'f1': 0.51669595782073818}\n",
      "Iteration no.: 18\n",
      "325 / 465 or 0.7 labelled as objective.\n",
      "{'num_topics': 7, 'threshold': 30, 'precision': 0.42153846153846153, 'recall': 0.69543147208121825, 'f1': 0.52490421455938696}\n",
      "Iteration no.: 19\n",
      "279 / 465 or 0.6 labelled as objective.\n",
      "{'num_topics': 7, 'threshold': 40, 'precision': 0.44802867383512546, 'recall': 0.63451776649746194, 'f1': 0.52521008403361347}\n",
      "Iteration no.: 20\n",
      "233 / 465 or 0.5 labelled as objective.\n",
      "{'num_topics': 7, 'threshold': 50, 'precision': 0.50214592274678116, 'recall': 0.59390862944162437, 'f1': 0.54418604651162794}\n",
      "Iteration no.: 21\n",
      "186 / 465 or 0.4 labelled as objective.\n",
      "{'num_topics': 7, 'threshold': 60, 'precision': 0.45698924731182794, 'recall': 0.43147208121827413, 'f1': 0.44386422976501305}\n",
      "Iteration no.: 22\n",
      "140 / 465 or 0.3 labelled as objective.\n",
      "{'num_topics': 7, 'threshold': 70, 'precision': 0.47857142857142859, 'recall': 0.34010152284263961, 'f1': 0.39762611275964388}\n",
      "Iteration no.: 23\n",
      "93 / 465 or 0.2 labelled as objective.\n",
      "{'num_topics': 7, 'threshold': 80, 'precision': 0.5161290322580645, 'recall': 0.24365482233502539, 'f1': 0.33103448275862069}\n",
      "Iteration no.: 24\n",
      "47 / 465 or 0.1 labelled as objective.\n",
      "{'num_topics': 7, 'threshold': 90, 'precision': 0.42553191489361702, 'recall': 0.10152284263959391, 'f1': 0.16393442622950818}\n",
      "Iteration no.: 25\n",
      "372 / 465 or 0.8 labelled as objective.\n",
      "{'num_topics': 8, 'threshold': 20, 'precision': 0.40053763440860213, 'recall': 0.75634517766497467, 'f1': 0.52372583479789103}\n",
      "Iteration no.: 26\n",
      "325 / 465 or 0.7 labelled as objective.\n",
      "{'num_topics': 8, 'threshold': 30, 'precision': 0.4276923076923077, 'recall': 0.70558375634517767, 'f1': 0.53256704980842906}\n",
      "Iteration no.: 27\n",
      "279 / 465 or 0.6 labelled as objective.\n",
      "{'num_topics': 8, 'threshold': 40, 'precision': 0.44444444444444442, 'recall': 0.62944162436548223, 'f1': 0.52100840336134457}\n",
      "Iteration no.: 28\n",
      "233 / 465 or 0.5 labelled as objective.\n",
      "{'num_topics': 8, 'threshold': 50, 'precision': 0.4334763948497854, 'recall': 0.51269035532994922, 'f1': 0.4697674418604651}\n",
      "Iteration no.: 29\n",
      "186 / 465 or 0.4 labelled as objective.\n",
      "{'num_topics': 8, 'threshold': 60, 'precision': 0.44086021505376344, 'recall': 0.41624365482233505, 'f1': 0.42819843342036557}\n",
      "Iteration no.: 30\n",
      "140 / 465 or 0.3 labelled as objective.\n",
      "{'num_topics': 8, 'threshold': 70, 'precision': 0.5357142857142857, 'recall': 0.38071065989847713, 'f1': 0.44510385756676552}\n",
      "Iteration no.: 31\n",
      "93 / 465 or 0.2 labelled as objective.\n",
      "{'num_topics': 8, 'threshold': 80, 'precision': 0.5376344086021505, 'recall': 0.25380710659898476, 'f1': 0.34482758620689652}\n",
      "Iteration no.: 32\n",
      "47 / 465 or 0.1 labelled as objective.\n",
      "{'num_topics': 8, 'threshold': 90, 'precision': 0.61702127659574468, 'recall': 0.14720812182741116, 'f1': 0.23770491803278687}\n",
      "Iteration no.: 33\n",
      "372 / 465 or 0.8 labelled as objective.\n",
      "{'num_topics': 9, 'threshold': 20, 'precision': 0.40053763440860213, 'recall': 0.75634517766497467, 'f1': 0.52372583479789103}\n",
      "Iteration no.: 34\n",
      "325 / 465 or 0.7 labelled as objective.\n",
      "{'num_topics': 9, 'threshold': 30, 'precision': 0.38461538461538464, 'recall': 0.63451776649746194, 'f1': 0.47892720306513414}\n",
      "Iteration no.: 35\n",
      "279 / 465 or 0.6 labelled as objective.\n",
      "{'num_topics': 9, 'threshold': 40, 'precision': 0.43010752688172044, 'recall': 0.6091370558375635, 'f1': 0.50420168067226889}\n",
      "Iteration no.: 36\n",
      "233 / 465 or 0.5 labelled as objective.\n",
      "{'num_topics': 9, 'threshold': 50, 'precision': 0.46781115879828328, 'recall': 0.5532994923857868, 'f1': 0.50697674418604655}\n",
      "Iteration no.: 37\n",
      "186 / 465 or 0.4 labelled as objective.\n",
      "{'num_topics': 9, 'threshold': 60, 'precision': 0.478494623655914, 'recall': 0.45177664974619292, 'f1': 0.46475195822454307}\n",
      "Iteration no.: 38\n",
      "140 / 465 or 0.3 labelled as objective.\n",
      "{'num_topics': 9, 'threshold': 70, 'precision': 0.42857142857142855, 'recall': 0.30456852791878175, 'f1': 0.35608308605341249}\n",
      "Iteration no.: 39\n",
      "93 / 465 or 0.2 labelled as objective.\n",
      "{'num_topics': 9, 'threshold': 80, 'precision': 0.5161290322580645, 'recall': 0.24365482233502539, 'f1': 0.33103448275862069}\n",
      "Iteration no.: 40\n",
      "47 / 465 or 0.1 labelled as objective.\n",
      "{'num_topics': 9, 'threshold': 90, 'precision': 0.46808510638297873, 'recall': 0.1116751269035533, 'f1': 0.18032786885245902}\n",
      "Iteration no.: 41\n",
      "372 / 465 or 0.8 labelled as objective.\n",
      "{'num_topics': 10, 'threshold': 20, 'precision': 0.40860215053763443, 'recall': 0.77157360406091369, 'f1': 0.53427065026362042}\n",
      "Iteration no.: 42\n",
      "325 / 465 or 0.7 labelled as objective.\n",
      "{'num_topics': 10, 'threshold': 30, 'precision': 0.40923076923076923, 'recall': 0.67512690355329952, 'f1': 0.50957854406130276}\n",
      "Iteration no.: 43\n",
      "279 / 465 or 0.6 labelled as objective.\n",
      "{'num_topics': 10, 'threshold': 40, 'precision': 0.44802867383512546, 'recall': 0.63451776649746194, 'f1': 0.52521008403361347}\n",
      "Iteration no.: 44\n",
      "233 / 465 or 0.5 labelled as objective.\n",
      "{'num_topics': 10, 'threshold': 50, 'precision': 0.46351931330472101, 'recall': 0.54822335025380708, 'f1': 0.50232558139534889}\n",
      "Iteration no.: 45\n",
      "186 / 465 or 0.4 labelled as objective.\n",
      "{'num_topics': 10, 'threshold': 60, 'precision': 0.510752688172043, 'recall': 0.48223350253807107, 'f1': 0.4960835509138381}\n",
      "Iteration no.: 46\n",
      "140 / 465 or 0.3 labelled as objective.\n",
      "{'num_topics': 10, 'threshold': 70, 'precision': 0.45000000000000001, 'recall': 0.31979695431472083, 'f1': 0.37388724035608312}\n",
      "Iteration no.: 47\n",
      "93 / 465 or 0.2 labelled as objective.\n",
      "{'num_topics': 10, 'threshold': 80, 'precision': 0.5268817204301075, 'recall': 0.24873096446700507, 'f1': 0.33793103448275869}\n",
      "Iteration no.: 48\n",
      "47 / 465 or 0.1 labelled as objective.\n",
      "{'num_topics': 10, 'threshold': 90, 'precision': 0.42553191489361702, 'recall': 0.10152284263959391, 'f1': 0.16393442622950818}\n",
      "Iteration no.: 49\n",
      "372 / 465 or 0.8 labelled as objective.\n",
      "{'num_topics': 11, 'threshold': 20, 'precision': 0.39247311827956988, 'recall': 0.74111675126903553, 'f1': 0.51318101933216165}\n",
      "Iteration no.: 50\n",
      "325 / 465 or 0.7 labelled as objective.\n",
      "{'num_topics': 11, 'threshold': 30, 'precision': 0.41230769230769232, 'recall': 0.68020304568527923, 'f1': 0.51340996168582387}\n",
      "Iteration no.: 51\n",
      "279 / 465 or 0.6 labelled as objective.\n",
      "{'num_topics': 11, 'threshold': 40, 'precision': 0.41935483870967744, 'recall': 0.59390862944162437, 'f1': 0.49159663865546221}\n",
      "Iteration no.: 52\n",
      "233 / 465 or 0.5 labelled as objective.\n",
      "{'num_topics': 11, 'threshold': 50, 'precision': 0.46351931330472101, 'recall': 0.54822335025380708, 'f1': 0.50232558139534889}\n",
      "Iteration no.: 53\n",
      "186 / 465 or 0.4 labelled as objective.\n",
      "{'num_topics': 11, 'threshold': 60, 'precision': 0.4946236559139785, 'recall': 0.46700507614213199, 'f1': 0.48041775456919056}\n",
      "Iteration no.: 54\n",
      "140 / 465 or 0.3 labelled as objective.\n",
      "{'num_topics': 11, 'threshold': 70, 'precision': 0.52857142857142858, 'recall': 0.37563451776649748, 'f1': 0.43916913946587538}\n",
      "Iteration no.: 55\n",
      "93 / 465 or 0.2 labelled as objective.\n",
      "{'num_topics': 11, 'threshold': 80, 'precision': 0.54838709677419351, 'recall': 0.25888324873096447, 'f1': 0.35172413793103446}\n",
      "Iteration no.: 56\n",
      "47 / 465 or 0.1 labelled as objective.\n",
      "{'num_topics': 11, 'threshold': 90, 'precision': 0.53191489361702127, 'recall': 0.12690355329949238, 'f1': 0.20491803278688522}\n",
      "Iteration no.: 57\n",
      "372 / 465 or 0.8 labelled as objective.\n",
      "{'num_topics': 12, 'threshold': 20, 'precision': 0.40053763440860213, 'recall': 0.75634517766497467, 'f1': 0.52372583479789103}\n",
      "Iteration no.: 58\n",
      "325 / 465 or 0.7 labelled as objective.\n",
      "{'num_topics': 12, 'threshold': 30, 'precision': 0.41230769230769232, 'recall': 0.68020304568527923, 'f1': 0.51340996168582387}\n",
      "Iteration no.: 59\n",
      "279 / 465 or 0.6 labelled as objective.\n",
      "{'num_topics': 12, 'threshold': 40, 'precision': 0.41935483870967744, 'recall': 0.59390862944162437, 'f1': 0.49159663865546221}\n",
      "Iteration no.: 60\n",
      "233 / 465 or 0.5 labelled as objective.\n",
      "{'num_topics': 12, 'threshold': 50, 'precision': 0.45064377682403434, 'recall': 0.53299492385786806, 'f1': 0.48837209302325585}\n",
      "Iteration no.: 61\n",
      "186 / 465 or 0.4 labelled as objective.\n",
      "{'num_topics': 12, 'threshold': 60, 'precision': 0.5268817204301075, 'recall': 0.49746192893401014, 'f1': 0.51174934725848575}\n",
      "Iteration no.: 62\n",
      "140 / 465 or 0.3 labelled as objective.\n",
      "{'num_topics': 12, 'threshold': 70, 'precision': 0.5, 'recall': 0.35532994923857869, 'f1': 0.41543026706231456}\n",
      "Iteration no.: 63\n",
      "93 / 465 or 0.2 labelled as objective.\n",
      "{'num_topics': 12, 'threshold': 80, 'precision': 0.4946236559139785, 'recall': 0.233502538071066, 'f1': 0.3172413793103448}\n",
      "Iteration no.: 64\n",
      "47 / 465 or 0.1 labelled as objective.\n",
      "{'num_topics': 12, 'threshold': 90, 'precision': 0.5957446808510638, 'recall': 0.14213197969543148, 'f1': 0.22950819672131148}\n",
      "Iteration no.: 65\n",
      "372 / 465 or 0.8 labelled as objective.\n",
      "{'num_topics': 13, 'threshold': 20, 'precision': 0.39247311827956988, 'recall': 0.74111675126903553, 'f1': 0.51318101933216165}\n",
      "Iteration no.: 66\n",
      "325 / 465 or 0.7 labelled as objective.\n",
      "{'num_topics': 13, 'threshold': 30, 'precision': 0.42153846153846153, 'recall': 0.69543147208121825, 'f1': 0.52490421455938696}\n",
      "Iteration no.: 67\n",
      "279 / 465 or 0.6 labelled as objective.\n",
      "{'num_topics': 13, 'threshold': 40, 'precision': 0.44802867383512546, 'recall': 0.63451776649746194, 'f1': 0.52521008403361347}\n",
      "Iteration no.: 68\n",
      "233 / 465 or 0.5 labelled as objective.\n",
      "{'num_topics': 13, 'threshold': 50, 'precision': 0.47210300429184548, 'recall': 0.55837563451776651, 'f1': 0.51162790697674421}\n",
      "Iteration no.: 69\n",
      "186 / 465 or 0.4 labelled as objective.\n",
      "{'num_topics': 13, 'threshold': 60, 'precision': 0.45161290322580644, 'recall': 0.42639593908629442, 'f1': 0.43864229765013052}\n",
      "Iteration no.: 70\n",
      "140 / 465 or 0.3 labelled as objective.\n",
      "{'num_topics': 13, 'threshold': 70, 'precision': 0.50714285714285712, 'recall': 0.3604060913705584, 'f1': 0.42136498516320475}\n",
      "Iteration no.: 71\n",
      "93 / 465 or 0.2 labelled as objective.\n",
      "{'num_topics': 13, 'threshold': 80, 'precision': 0.46236559139784944, 'recall': 0.21827411167512689, 'f1': 0.29655172413793102}\n",
      "Iteration no.: 72\n",
      "47 / 465 or 0.1 labelled as objective.\n",
      "{'num_topics': 13, 'threshold': 90, 'precision': 0.48936170212765956, 'recall': 0.116751269035533, 'f1': 0.18852459016393444}\n",
      "Iteration no.: 73\n",
      "372 / 465 or 0.8 labelled as objective.\n",
      "{'num_topics': 14, 'threshold': 20, 'precision': 0.40322580645161288, 'recall': 0.76142131979695427, 'f1': 0.52724077328646746}\n",
      "Iteration no.: 74\n",
      "325 / 465 or 0.7 labelled as objective.\n",
      "{'num_topics': 14, 'threshold': 30, 'precision': 0.41538461538461541, 'recall': 0.68527918781725883, 'f1': 0.51724137931034475}\n",
      "Iteration no.: 75\n",
      "279 / 465 or 0.6 labelled as objective.\n",
      "{'num_topics': 14, 'threshold': 40, 'precision': 0.4157706093189964, 'recall': 0.58883248730964466, 'f1': 0.48739495798319327}\n",
      "Iteration no.: 76\n",
      "233 / 465 or 0.5 labelled as objective.\n",
      "{'num_topics': 14, 'threshold': 50, 'precision': 0.4978540772532189, 'recall': 0.58883248730964466, 'f1': 0.53953488372093028}\n",
      "Iteration no.: 77\n",
      "186 / 465 or 0.4 labelled as objective.\n",
      "{'num_topics': 14, 'threshold': 60, 'precision': 0.4731182795698925, 'recall': 0.4467005076142132, 'f1': 0.45953002610966059}\n",
      "Iteration no.: 78\n",
      "140 / 465 or 0.3 labelled as objective.\n",
      "{'num_topics': 14, 'threshold': 70, 'precision': 0.44285714285714284, 'recall': 0.31472081218274112, 'f1': 0.36795252225519287}\n",
      "Iteration no.: 79\n",
      "93 / 465 or 0.2 labelled as objective.\n",
      "{'num_topics': 14, 'threshold': 80, 'precision': 0.4731182795698925, 'recall': 0.2233502538071066, 'f1': 0.30344827586206902}\n",
      "Iteration no.: 80\n",
      "47 / 465 or 0.1 labelled as objective.\n",
      "{'num_topics': 14, 'threshold': 90, 'precision': 0.55319148936170215, 'recall': 0.13197969543147209, 'f1': 0.21311475409836064}\n",
      "Iteration no.: 81\n",
      "372 / 465 or 0.8 labelled as objective.\n",
      "{'num_topics': 15, 'threshold': 20, 'precision': 0.39784946236559138, 'recall': 0.75126903553299496, 'f1': 0.5202108963093145}\n",
      "Iteration no.: 82\n",
      "325 / 465 or 0.7 labelled as objective.\n",
      "{'num_topics': 15, 'threshold': 30, 'precision': 0.40923076923076923, 'recall': 0.67512690355329952, 'f1': 0.50957854406130276}\n",
      "Iteration no.: 83\n",
      "279 / 465 or 0.6 labelled as objective.\n",
      "{'num_topics': 15, 'threshold': 40, 'precision': 0.44444444444444442, 'recall': 0.62944162436548223, 'f1': 0.52100840336134457}\n",
      "Iteration no.: 84\n",
      "233 / 465 or 0.5 labelled as objective.\n",
      "{'num_topics': 15, 'threshold': 50, 'precision': 0.44635193133047213, 'recall': 0.52791878172588835, 'f1': 0.48372093023255819}\n",
      "Iteration no.: 85\n",
      "186 / 465 or 0.4 labelled as objective.\n",
      "{'num_topics': 15, 'threshold': 60, 'precision': 0.5376344086021505, 'recall': 0.50761421319796951, 'f1': 0.5221932114882506}\n",
      "Iteration no.: 86\n",
      "140 / 465 or 0.3 labelled as objective.\n",
      "{'num_topics': 15, 'threshold': 70, 'precision': 0.52142857142857146, 'recall': 0.37055837563451777, 'f1': 0.43323442136498519}\n",
      "Iteration no.: 87\n",
      "93 / 465 or 0.2 labelled as objective.\n",
      "{'num_topics': 15, 'threshold': 80, 'precision': 0.5376344086021505, 'recall': 0.25380710659898476, 'f1': 0.34482758620689652}\n",
      "Iteration no.: 88\n",
      "47 / 465 or 0.1 labelled as objective.\n",
      "{'num_topics': 15, 'threshold': 90, 'precision': 0.48936170212765956, 'recall': 0.116751269035533, 'f1': 0.18852459016393444}\n",
      "Iteration no.: 89\n",
      "372 / 465 or 0.8 labelled as objective.\n",
      "{'num_topics': 16, 'threshold': 20, 'precision': 0.41129032258064518, 'recall': 0.7766497461928934, 'f1': 0.53778558875219684}\n",
      "Iteration no.: 90\n",
      "325 / 465 or 0.7 labelled as objective.\n",
      "{'num_topics': 16, 'threshold': 30, 'precision': 0.39384615384615385, 'recall': 0.64974619289340096, 'f1': 0.4904214559386974}\n",
      "Iteration no.: 91\n",
      "279 / 465 or 0.6 labelled as objective.\n",
      "{'num_topics': 16, 'threshold': 40, 'precision': 0.4265232974910394, 'recall': 0.60406091370558379, 'f1': 0.5}\n",
      "Iteration no.: 92\n",
      "233 / 465 or 0.5 labelled as objective.\n",
      "{'num_topics': 16, 'threshold': 50, 'precision': 0.46351931330472101, 'recall': 0.54822335025380708, 'f1': 0.50232558139534889}\n",
      "Iteration no.: 93\n",
      "186 / 465 or 0.4 labelled as objective.\n",
      "{'num_topics': 16, 'threshold': 60, 'precision': 0.478494623655914, 'recall': 0.45177664974619292, 'f1': 0.46475195822454307}\n",
      "Iteration no.: 94\n",
      "140 / 465 or 0.3 labelled as objective.\n",
      "{'num_topics': 16, 'threshold': 70, 'precision': 0.48571428571428571, 'recall': 0.34517766497461927, 'f1': 0.40356083086053407}\n",
      "Iteration no.: 95\n",
      "93 / 465 or 0.2 labelled as objective.\n",
      "{'num_topics': 16, 'threshold': 80, 'precision': 0.5161290322580645, 'recall': 0.24365482233502539, 'f1': 0.33103448275862069}\n",
      "Iteration no.: 96\n",
      "47 / 465 or 0.1 labelled as objective.\n",
      "{'num_topics': 16, 'threshold': 90, 'precision': 0.5957446808510638, 'recall': 0.14213197969543148, 'f1': 0.22950819672131148}\n",
      "Iteration no.: 97\n",
      "372 / 465 or 0.8 labelled as objective.\n",
      "{'num_topics': 17, 'threshold': 20, 'precision': 0.41129032258064518, 'recall': 0.7766497461928934, 'f1': 0.53778558875219684}\n",
      "Iteration no.: 98\n",
      "325 / 465 or 0.7 labelled as objective.\n",
      "{'num_topics': 17, 'threshold': 30, 'precision': 0.42461538461538462, 'recall': 0.70050761421319796, 'f1': 0.52873563218390807}\n",
      "Iteration no.: 99\n",
      "279 / 465 or 0.6 labelled as objective.\n",
      "{'num_topics': 17, 'threshold': 40, 'precision': 0.41218637992831542, 'recall': 0.58375634517766495, 'f1': 0.48319327731092432}\n",
      "Iteration no.: 100\n",
      "233 / 465 or 0.5 labelled as objective.\n",
      "{'num_topics': 17, 'threshold': 50, 'precision': 0.46781115879828328, 'recall': 0.5532994923857868, 'f1': 0.50697674418604655}\n",
      "Iteration no.: 101\n",
      "186 / 465 or 0.4 labelled as objective.\n",
      "{'num_topics': 17, 'threshold': 60, 'precision': 0.478494623655914, 'recall': 0.45177664974619292, 'f1': 0.46475195822454307}\n",
      "Iteration no.: 102\n",
      "140 / 465 or 0.3 labelled as objective.\n",
      "{'num_topics': 17, 'threshold': 70, 'precision': 0.48571428571428571, 'recall': 0.34517766497461927, 'f1': 0.40356083086053407}\n",
      "Iteration no.: 103\n",
      "93 / 465 or 0.2 labelled as objective.\n",
      "{'num_topics': 17, 'threshold': 80, 'precision': 0.4946236559139785, 'recall': 0.233502538071066, 'f1': 0.3172413793103448}\n",
      "Iteration no.: 104\n",
      "47 / 465 or 0.1 labelled as objective.\n",
      "{'num_topics': 17, 'threshold': 90, 'precision': 0.53191489361702127, 'recall': 0.12690355329949238, 'f1': 0.20491803278688522}\n",
      "Iteration no.: 105\n",
      "372 / 465 or 0.8 labelled as objective.\n",
      "{'num_topics': 18, 'threshold': 20, 'precision': 0.40322580645161288, 'recall': 0.76142131979695427, 'f1': 0.52724077328646746}\n",
      "Iteration no.: 106\n",
      "325 / 465 or 0.7 labelled as objective.\n",
      "{'num_topics': 18, 'threshold': 30, 'precision': 0.41538461538461541, 'recall': 0.68527918781725883, 'f1': 0.51724137931034475}\n",
      "Iteration no.: 107\n",
      "279 / 465 or 0.6 labelled as objective.\n",
      "{'num_topics': 18, 'threshold': 40, 'precision': 0.45519713261648748, 'recall': 0.64467005076142136, 'f1': 0.53361344537815125}\n",
      "Iteration no.: 108\n",
      "233 / 465 or 0.5 labelled as objective.\n",
      "{'num_topics': 18, 'threshold': 50, 'precision': 0.4978540772532189, 'recall': 0.58883248730964466, 'f1': 0.53953488372093028}\n",
      "Iteration no.: 109\n",
      "186 / 465 or 0.4 labelled as objective.\n",
      "{'num_topics': 18, 'threshold': 60, 'precision': 0.43548387096774194, 'recall': 0.41116751269035534, 'f1': 0.42297650130548298}\n",
      "Iteration no.: 110\n",
      "140 / 465 or 0.3 labelled as objective.\n",
      "{'num_topics': 18, 'threshold': 70, 'precision': 0.49285714285714288, 'recall': 0.35025380710659898, 'f1': 0.40949554896142432}\n",
      "Iteration no.: 111\n",
      "93 / 465 or 0.2 labelled as objective.\n",
      "{'num_topics': 18, 'threshold': 80, 'precision': 0.5268817204301075, 'recall': 0.24873096446700507, 'f1': 0.33793103448275869}\n",
      "Iteration no.: 112\n",
      "47 / 465 or 0.1 labelled as objective.\n",
      "{'num_topics': 18, 'threshold': 90, 'precision': 0.48936170212765956, 'recall': 0.116751269035533, 'f1': 0.18852459016393444}\n",
      "Iteration no.: 113\n",
      "372 / 465 or 0.8 labelled as objective.\n",
      "{'num_topics': 19, 'threshold': 20, 'precision': 0.40053763440860213, 'recall': 0.75634517766497467, 'f1': 0.52372583479789103}\n",
      "Iteration no.: 114\n",
      "325 / 465 or 0.7 labelled as objective.\n",
      "{'num_topics': 19, 'threshold': 30, 'precision': 0.42153846153846153, 'recall': 0.69543147208121825, 'f1': 0.52490421455938696}\n",
      "Iteration no.: 115\n",
      "279 / 465 or 0.6 labelled as objective.\n",
      "{'num_topics': 19, 'threshold': 40, 'precision': 0.44086021505376344, 'recall': 0.62436548223350252, 'f1': 0.51680672268907568}\n",
      "Iteration no.: 116\n",
      "233 / 465 or 0.5 labelled as objective.\n",
      "{'num_topics': 19, 'threshold': 50, 'precision': 0.45493562231759654, 'recall': 0.53807106598984766, 'f1': 0.49302325581395345}\n",
      "Iteration no.: 117\n",
      "186 / 465 or 0.4 labelled as objective.\n",
      "{'num_topics': 19, 'threshold': 60, 'precision': 0.43010752688172044, 'recall': 0.40609137055837563, 'f1': 0.41775456919060056}\n",
      "Iteration no.: 118\n",
      "140 / 465 or 0.3 labelled as objective.\n",
      "{'num_topics': 19, 'threshold': 70, 'precision': 0.48571428571428571, 'recall': 0.34517766497461927, 'f1': 0.40356083086053407}\n",
      "Iteration no.: 119\n",
      "93 / 465 or 0.2 labelled as objective.\n",
      "{'num_topics': 19, 'threshold': 80, 'precision': 0.5053763440860215, 'recall': 0.23857868020304568, 'f1': 0.32413793103448274}\n",
      "Iteration no.: 120\n",
      "47 / 465 or 0.1 labelled as objective.\n",
      "{'num_topics': 19, 'threshold': 90, 'precision': 0.57446808510638303, 'recall': 0.13705583756345177, 'f1': 0.22131147540983606}\n",
      "Best result -> {'num_topics': 7, 'threshold': 50, 'precision': 0.50214592274678116, 'recall': 0.59390862944162437, 'f1': 0.54418604651162794}\n"
     ]
    }
   ],
   "source": [
    "%run ../src/models/objectivity_train.py --data ../data/train/objectivity-large.2-label.tsv.gz --automate True --verbose True --num_topics_range '5,20' --threshold_range '20,30,40,50,60,70,80,90'"
   ]
  },
  {
   "cell_type": "code",
   "execution_count": 3,
   "metadata": {
    "collapsed": false
   },
   "outputs": [
    {
     "name": "stdout",
     "output_type": "stream",
     "text": [
      "original dictionary\n",
      "Dictionary(14388 unique tokens: ['stern', 'warning', 'grassroots', 'leader', 'threatening']...)\n",
      "dictionary after reducing redundant features\n",
      "Dictionary(5723 unique tokens: ['stern', 'warning', 'grassroots', 'threatening', 'amos']...)\n",
      "mean 0.0308858278396\n",
      "med 0.0233144021413\n",
      "std 0.0339182491461\n",
      "var 0.00115044762514\n",
      "max 0.144636974846\n",
      "min 0.000104774847883\n",
      "confusion matrix: predicted (horizontal), true (vertical) \n",
      "\n",
      "[[149 119]\n",
      " [ 83 114]]\n",
      "\n",
      "precision: 0.489270386266\n",
      "recall: 0.578680203046\n",
      "binary f1: 0.53023255814\n"
     ]
    }
   ],
   "source": [
    "# manual attempt to test f1 measure\n",
    "%run ../src/models/objectivity_train.py --data ../data/train/objectivity-large.2-label.tsv.gz --num_topics 18 --topics ../data/results/topics.txt --threshold 50 "
   ]
  },
  {
   "cell_type": "code",
   "execution_count": null,
   "metadata": {
    "collapsed": true
   },
   "outputs": [],
   "source": []
  }
 ],
 "metadata": {
  "kernelspec": {
   "display_name": "Python 3",
   "language": "python",
   "name": "python3"
  },
  "language_info": {
   "codemirror_mode": {
    "name": "ipython",
    "version": 3
   },
   "file_extension": ".py",
   "mimetype": "text/x-python",
   "name": "python",
   "nbconvert_exporter": "python",
   "pygments_lexer": "ipython3",
   "version": "3.6.1"
  }
 },
 "nbformat": 4,
 "nbformat_minor": 2
}
